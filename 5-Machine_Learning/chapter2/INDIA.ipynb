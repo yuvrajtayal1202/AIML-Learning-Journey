{
 "cells": [
  {
   "cell_type": "code",
   "execution_count": 9,
   "id": "0f29439f",
   "metadata": {},
   "outputs": [],
   "source": [
    "from sklearn.datasets import fetch_openml\n",
    "import pandas as pd\n",
    "\n",
    "# Load the dataset from OpenML\n",
    "housing_data = fetch_openml(name=\"house_prices\", as_frame=True)\n",
    "df = housing_data.frame"
   ]
  },
  {
   "cell_type": "code",
   "execution_count": null,
   "id": "4f99172b",
   "metadata": {},
   "outputs": [],
   "source": []
  },
  {
   "cell_type": "code",
   "execution_count": 19,
   "metadata": {},
   "outputs": [
    {
     "data": {
      "text/plain": [
       "PoolQC          1453\n",
       "MiscFeature     1406\n",
       "Alley           1369\n",
       "Fence           1179\n",
       "FireplaceQu      690\n",
       "LotFrontage      259\n",
       "GarageYrBlt       81\n",
       "GarageCond        81\n",
       "GarageType        81\n",
       "GarageFinish      81\n",
       "GarageQual        81\n",
       "BsmtFinType2      38\n",
       "BsmtExposure      38\n",
       "BsmtQual          37\n",
       "BsmtCond          37\n",
       "BsmtFinType1      37\n",
       "MasVnrArea         8\n",
       "MasVnrType         8\n",
       "Electrical         1\n",
       "Id                 0\n",
       "dtype: int64"
      ]
     },
     "execution_count": 19,
     "metadata": {},
     "output_type": "execute_result"
    }
   ],
   "source": [
    "\n",
    "# df.info()\n",
    "# df.head()\n",
    "# df.describe()\n",
    "\n",
    "# import matplotlib.pyplot as plt\n",
    "# df[\"SalePrice\"].hist(bins=50)\n",
    "# plt.show()\n",
    "\n",
    "# df.corr(numeric_only=True)[\"SalePrice\"].sort_values(ascending=False)\n",
    "\n",
    "df.isnull().sum().sort_values(ascending=False).head(20)\n",
    "\n",
    "\n",
    "# plt.scatter(df[\"GrLivArea\"], df[\"SalePrice\"])\n",
    "# plt.xlabel(\"Living Area (sq ft)\")\n",
    "# plt.ylabel(\"Sale Price\")\n",
    "# plt.title(\"GrLivArea vs SalePrice\")\n",
    "# # plt.show()\n"
   ]
  },
  {
   "cell_type": "code",
   "execution_count": 20,
   "metadata": {},
   "outputs": [
    {
     "name": "stderr",
     "output_type": "stream",
     "text": [
      "C:\\Users\\yuvra\\AppData\\Local\\Temp\\ipykernel_24652\\3824385242.py:6: FutureWarning: A value is trying to be set on a copy of a DataFrame or Series through chained assignment using an inplace method.\n",
      "The behavior will change in pandas 3.0. This inplace method will never work because the intermediate object on which we are setting values always behaves as a copy.\n",
      "\n",
      "For example, when doing 'df[col].method(value, inplace=True)', try using 'df.method({col: value}, inplace=True)' or df[col] = df[col].method(value) instead, to perform the operation inplace on the original object.\n",
      "\n",
      "\n",
      "  df[col].fillna(df[col].median(), inplace=True)\n",
      "C:\\Users\\yuvra\\AppData\\Local\\Temp\\ipykernel_24652\\3824385242.py:11: FutureWarning: A value is trying to be set on a copy of a DataFrame or Series through chained assignment using an inplace method.\n",
      "The behavior will change in pandas 3.0. This inplace method will never work because the intermediate object on which we are setting values always behaves as a copy.\n",
      "\n",
      "For example, when doing 'df[col].method(value, inplace=True)', try using 'df.method({col: value}, inplace=True)' or df[col] = df[col].method(value) instead, to perform the operation inplace on the original object.\n",
      "\n",
      "\n",
      "  df[col].fillna(\"Missing\", inplace=True)\n"
     ]
    },
    {
     "data": {
      "text/plain": [
       "MSSubClass      0\n",
       "HalfBath        0\n",
       "FireplaceQu     0\n",
       "Fireplaces      0\n",
       "Functional      0\n",
       "TotRmsAbvGrd    0\n",
       "KitchenQual     0\n",
       "KitchenAbvGr    0\n",
       "BedroomAbvGr    0\n",
       "FullBath        0\n",
       "dtype: int64"
      ]
     },
     "execution_count": 20,
     "metadata": {},
     "output_type": "execute_result"
    }
   ],
   "source": [
    "df = df.drop([\"Id\", \"Alley\", \"PoolQC\", \"Fence\", \"MiscFeature\"], axis=1)\n",
    "\n",
    "num_cols = df.select_dtypes(include=[\"int64\", \"float64\"]).columns\n",
    "for col in num_cols:\n",
    "    if df[col].isnull().sum() > 0:\n",
    "        df[col].fillna(df[col].median(), inplace=True)\n",
    "\n",
    "cat_cols = df.select_dtypes(include=[\"object\"]).columns\n",
    "for col in cat_cols:\n",
    "    if df[col].isnull().sum() > 0:\n",
    "        df[col].fillna(\"Missing\", inplace=True)\n",
    "        \n",
    "df.isnull().sum().sort_values(ascending=False).head(10)\n",
    "\n"
   ]
  },
  {
   "cell_type": "code",
   "execution_count": 1,
   "metadata": {},
   "outputs": [
    {
     "ename": "NameError",
     "evalue": "name 'df' is not defined",
     "output_type": "error",
     "traceback": [
      "\u001b[1;31m---------------------------------------------------------------------------\u001b[0m",
      "\u001b[1;31mNameError\u001b[0m                                 Traceback (most recent call last)",
      "Cell \u001b[1;32mIn[1], line 1\u001b[0m\n\u001b[1;32m----> 1\u001b[0m X \u001b[38;5;241m=\u001b[39m df\u001b[38;5;241m.\u001b[39mdrop(\u001b[38;5;124m\"\u001b[39m\u001b[38;5;124mSalePrice\u001b[39m\u001b[38;5;124m\"\u001b[39m, axis\u001b[38;5;241m=\u001b[39m\u001b[38;5;241m1\u001b[39m)\n\u001b[0;32m      2\u001b[0m y \u001b[38;5;241m=\u001b[39m df[\u001b[38;5;124m\"\u001b[39m\u001b[38;5;124mSalePrice\u001b[39m\u001b[38;5;124m\"\u001b[39m]\n\u001b[0;32m      4\u001b[0m \u001b[38;5;28;01mfrom\u001b[39;00m \u001b[38;5;21;01msklearn\u001b[39;00m\u001b[38;5;21;01m.\u001b[39;00m\u001b[38;5;21;01mcompose\u001b[39;00m \u001b[38;5;28;01mimport\u001b[39;00m ColumnTransformer\n",
      "\u001b[1;31mNameError\u001b[0m: name 'df' is not defined"
     ]
    }
   ],
   "source": [
    "X = df.drop(\"SalePrice\", axis=1)\n",
    "y = df[\"SalePrice\"]\n",
    "\n",
    "from sklearn.compose import ColumnTransformer\n",
    "num_features = X.select_dtypes(include=[\"int64\", \"float64\"]).columns\n",
    "cat_features = X.select_dtypes(include=[\"object\"]).columns\n",
    "\n",
    "from sklearn.pipeline import Pipeline\n",
    "from sklearn.impute import SimpleImputer\n",
    "from sklearn.preprocessing import StandardScaler\n",
    "num_pipeline = Pipeline([\n",
    "    (\"imputer\", SimpleImputer(strategy=\"median\")),\n",
    "    (\"scaler\", StandardScaler())\n",
    "])\n",
    "\n",
    "from sklearn.preprocessing import OneHotEncoder\n",
    "cat_pipeline = Pipeline([\n",
    "    (\"imputer\", SimpleImputer(strategy=\"most_frequent\")),\n",
    "    (\"encoder\", OneHotEncoder(handle_unknown=\"ignore\"))\n",
    "])\n",
    "\n",
    "full_pipeline = ColumnTransformer([\n",
    "    (\"num\", num_pipeline, num_features),\n",
    "    (\"cat\", cat_pipeline, cat_features)\n",
    "])\n",
    "\n",
    "X_prepared = full_pipeline.fit_transform(X)\n"
   ]
  },
  {
   "cell_type": "code",
   "execution_count": null,
   "metadata": {},
   "outputs": [],
   "source": [
    "from sklearn.model_selection import train_test_split\n",
    "\n",
    "X_train, X_test, y_train, y_test = train_test_split(\n",
    "    X, y, test_size=0.2, random_state=42)\n",
    "\n",
    "X_train_prepared = full_pipeline.fit_transform(X_train)\n",
    "\n",
    "X_test_prepared = full_pipeline.transform(X_test)\n"
   ]
  },
  {
   "cell_type": "code",
   "execution_count": null,
   "metadata": {},
   "outputs": [
    {
     "name": "stdout",
     "output_type": "stream",
     "text": [
      "Intercept: 19740.78116404044\n",
      "Coefficients: [ 2.19101993e+03  6.53449868e+02  6.97615404e+03  9.29438247e+03\n",
      "  6.40627375e+03  1.07125431e+04  2.66806232e+03  3.70632540e+03\n",
      "  8.98685952e+03  1.51983173e+03  6.32951480e+02  1.05487796e+04\n",
      "  4.48618150e+03  1.40463467e+04 -4.49731755e+02  1.50401075e+04\n",
      "  7.49030226e+02 -3.76737755e+02  1.48157895e+03  6.41483967e+02\n",
      " -2.05153942e+03 -2.89302571e+03  2.25616091e+03  4.25659223e+03\n",
      " -7.35585297e+02  9.87956589e+02  6.46247415e+03  1.98668642e+03\n",
      " -2.08485151e+01  1.15971371e+02  1.55136796e+03  1.39322765e+03\n",
      "  3.28195375e+03 -1.39176499e+02 -1.08485493e+03 -3.08003593e+02\n",
      " -1.84722913e+04  1.19305865e+04  4.76890565e+02  2.52167063e+03\n",
      "  3.54314357e+03 -1.11740424e+04  1.11740424e+04 -3.95252537e+03\n",
      "  2.60111086e+03  3.71944089e+03 -2.36802637e+03 -2.25519072e+03\n",
      "  1.14118250e+04 -1.06972172e+04  1.54058298e+03  1.21175344e+04\n",
      " -1.21175344e+04  3.85359692e+03  1.42963993e+04 -3.24421871e+03\n",
      " -1.83456751e+04  3.43989756e+03  1.28409794e+04  1.78591439e+04\n",
      " -3.07001232e+04  1.02223573e+04 -4.93912447e+03 -2.70333338e+03\n",
      " -3.03419114e+03 -6.50391711e+03 -4.92684937e+03  1.12722204e+04\n",
      " -1.59473436e+04 -5.18460775e+03 -1.34881561e+04 -1.04595559e+04\n",
      " -1.82004892e+04 -1.25671941e+04  2.09712835e+04 -1.40747186e+04\n",
      "  2.68666148e+04  2.17959690e+04 -1.36267642e+04 -3.77296459e+03\n",
      " -7.09433241e+03 -3.55824933e+03  1.46270860e+03  4.22094833e+04\n",
      " -5.81944266e+03  1.11005970e+04 -6.78030436e+03  5.31994560e+02\n",
      "  8.81907157e+03  1.71133371e+03  9.81397567e+03 -2.07782643e+04\n",
      "  3.64675700e+03  1.06587363e+04 -7.62330014e+03  3.48817649e+04\n",
      "  4.77523674e+04  3.36965503e+04  8.68407182e+04 -1.99049551e+05\n",
      " -6.21461356e+04  2.93326503e+04  2.86916351e+04  1.81165148e+04\n",
      "  5.02344493e+03 -1.84355697e+03 -1.18959127e+04 -9.40049006e+03\n",
      "  2.73029294e+03  1.71840786e+04  9.70913733e+03 -2.03071419e+04\n",
      " -5.36518432e+03 -4.81933149e+03 -1.31433261e+03  2.18248141e+03\n",
      " -1.13624681e+04 -1.75533152e+04 -1.18619887e+04 -1.82709821e+04\n",
      "  1.84287322e+03  5.72058808e+04 -5.94831212e+05  9.08256595e+04\n",
      "  1.30542655e+05  9.12866261e+04  9.09078225e+04  9.07659342e+04\n",
      "  1.00502515e+05 -5.44044564e+02  1.69965233e+04  9.68517336e+02\n",
      "  6.77845566e+03  1.97714524e+04 -2.86611268e+03  2.52679433e+02\n",
      " -1.59369558e+03 -5.14544028e+04  5.92540615e+03 -3.05026605e+03\n",
      "  1.50528767e+04  6.91148420e+01 -3.26498213e+03 -3.04152207e+03\n",
      " -7.10687749e+03  2.92412453e+03 -5.70535218e+02 -1.07524242e+04\n",
      " -9.60301810e+02  3.33817556e+03 -2.86611268e+03  5.17728275e+03\n",
      "  1.08634378e+03  4.44580801e+04 -2.90215229e+03 -2.33501403e+04\n",
      " -2.98679487e+03 -1.52323378e+04  6.02380013e+03  3.71986981e+03\n",
      " -4.95223418e+03  3.36053251e+02 -4.31052159e+03  4.39844418e+03\n",
      "  4.52825834e+03  1.02546051e+04  4.19645014e+03 -7.61598197e+03\n",
      " -6.83507331e+03  1.86220233e+03 -1.48798623e+03 -4.18957031e+03\n",
      "  6.69262142e+03 -2.87726721e+03  3.76642991e+03  6.27462576e+03\n",
      "  8.43016568e+03 -6.01952744e+03  1.38593129e+04 -2.63110068e+04\n",
      "  1.34126247e+04  1.25339771e+03 -8.51323268e+03  2.18077633e+02\n",
      " -6.37086741e+03 -1.75378489e+04 -1.74896902e+04  2.18077633e+02\n",
      "  4.65248953e+04 -1.17154338e+04 -1.52067315e+03  1.17490484e+04\n",
      "  2.18077633e+02 -4.35062574e+03 -6.09582715e+03 -3.17590173e+02\n",
      " -1.04003617e+03  3.16619412e+03 -3.43073165e+03  2.18077633e+02\n",
      "  1.04441158e+01  1.39364212e+03  6.81968884e+03 -5.46183803e+03\n",
      "  4.16250977e+03 -7.08008416e+03  2.18077633e+02  1.00188867e+03\n",
      "  3.39757278e+02 -1.01356550e+03  2.29676558e+03 -2.91988865e+03\n",
      " -4.55700799e+03 -1.93253225e+04  2.55190191e+04 -1.55309476e+03\n",
      "  3.45730881e+02 -6.02898318e+03  1.06667033e+04 -3.43035627e+03\n",
      " -8.08886032e+02  8.08886032e+02  4.43919202e+02 -2.27287424e+03\n",
      " -1.48184542e+04  1.70329439e+04 -3.85534700e+02  1.48766972e+04\n",
      " -3.65294923e+02 -7.76234881e+03 -6.74905352e+03  8.87437130e+03\n",
      " -9.42407621e+02  1.10969619e+04  1.30465340e+04  2.17444293e+03\n",
      " -5.61736827e+04  2.19237803e+04 -6.45069456e+03 -5.32826962e+03\n",
      " -1.29394445e+03  5.08693545e+03  5.69793403e+03  2.28803914e+03\n",
      " -2.16344574e+04  5.11514415e+01  3.64452897e+03  7.36268319e+02\n",
      "  1.16964549e+04  2.07744339e+03  3.42861045e+03 -1.13370983e+03\n",
      "  3.42861045e+03 -2.28798268e+03 -6.91794763e+00  1.24292399e+05\n",
      " -3.13211229e+04 -2.66649097e+04  3.42861045e+03 -4.37502206e+04\n",
      " -2.59847561e+04 -1.16363681e+05  2.86387065e+04  2.52067095e+04\n",
      "  3.42861045e+03  2.95232384e+04  2.95664164e+04  2.09737440e+03\n",
      " -2.39964380e+03  3.02269402e+02 -7.82574469e+03  1.01733545e+04\n",
      "  1.15292723e+04  5.97957414e+03 -1.21617605e+04 -7.11760871e+03\n",
      " -3.11222545e+03  1.00316509e+04 -7.49651254e+03 -9.35065876e+03\n",
      "  1.13065908e+03  1.75881121e+04 -9.91887776e+03 -4.72803630e+03\n",
      "  5.27880163e+03]\n",
      "Training RMSE: 19686.27248704722\n"
     ]
    }
   ],
   "source": [
    "# from sklearn.linear_model import LinearRegression\n",
    "\n",
    "# lin_reg = LinearRegression()\n",
    "# lin_reg.fit(X_train_prepared, y_train)\n",
    "\n",
    "# y_train_pred = lin_reg.predict(X_train_prepared)\n",
    "\n",
    "# print(\"Intercept:\", lin_reg.intercept_)\n",
    "\n",
    "\n",
    "# from sklearn.metrics import mean_squared_error\n",
    "# import numpy as np\n",
    "\n",
    "# lin_mse = mean_squared_error(y_train, y_train_pred)\n",
    "# lin_rmse = np.sqrt(lin_mse)\n",
    "\n",
    "# print(\"Training RMSE:\", lin_rmse)\n",
    "\n",
    "# from sklearn.model_selection import cross_val_score\n",
    "\n",
    "# scores = cross_val_score(lin_reg, X_train_prepared, y_train,\n",
    "#                          scoring=\"neg_mean_squared_error\", cv=5)\n",
    "\n",
    "# lin_rmse_scores = np.sqrt(-scores)\n",
    "\n",
    "# print(\"Cross-Validation RMSE Scores:\", lin_rmse_scores)\n",
    "# print(\"Mean:\", lin_rmse_scores.mean())\n",
    "# print(\"Standard deviation:\", lin_rmse_scores.std())\n"
   ]
  },
  {
   "cell_type": "code",
   "execution_count": null,
   "metadata": {},
   "outputs": [
    {
     "name": "stdout",
     "output_type": "stream",
     "text": [
      "Linear Regression:\n",
      "  RMSE Mean: 36987.04, Std: 9073.28\n",
      "\n",
      "Decision Tree:\n",
      "  RMSE Mean: 44263.84, Std: 4504.49\n",
      "\n",
      "Random Forest:\n",
      "  RMSE Mean: 30652.98, Std: 4781.82\n",
      "\n"
     ]
    }
   ],
   "source": [
    "from sklearn.model_selection import cross_val_score\n",
    "from sklearn.linear_model import LinearRegression\n",
    "from sklearn.tree import DecisionTreeRegressor\n",
    "from sklearn.ensemble import RandomForestRegressor\n",
    "import numpy as np\n",
    "\n",
    "models = {\n",
    "    \"Linear Regression\": LinearRegression(),\n",
    "    \"Decision Tree\": DecisionTreeRegressor(random_state=42),\n",
    "    \"Random Forest\": RandomForestRegressor(random_state=42)\n",
    "}\n",
    "\n",
    "for name, model in models.items():\n",
    "    scores = cross_val_score(model, X_train_prepared, y_train,\n",
    "                             scoring=\"neg_mean_squared_error\", cv=5)\n",
    "    rmse_scores = np.sqrt(-scores)\n",
    "    print(f\"{name}:\\n  RMSE Mean: {rmse_scores.mean():.2f}, Std: {rmse_scores.std():.2f}\\n\")\n"
   ]
  },
  {
   "cell_type": "code",
   "execution_count": null,
   "metadata": {},
   "outputs": [
    {
     "name": "stdout",
     "output_type": "stream",
     "text": [
      "Final RMSE on Test Set: 31927.199677791796\n"
     ]
    }
   ],
   "source": [
    "from sklearn.model_selection import GridSearchCV\n",
    "from sklearn.ensemble import RandomForestRegressor\n",
    "\n",
    "forest_reg = RandomForestRegressor(random_state=42)\n",
    "param_grid = {\n",
    "        'n_estimators': [30, 50, 100],       # number of trees\n",
    "        'max_features': [5, 10, 20],         # how many features to try at each split\n",
    "    }\n",
    "\n",
    "from sklearn.model_selection import GridSearchCV\n",
    "\n",
    "grid_search = GridSearchCV(\n",
    "        forest_reg,\n",
    "        param_grid,\n",
    "        cv=5,                      # 5-fold cross-validation\n",
    "        scoring=\"neg_mean_squared_error\",\n",
    "        return_train_score=True,\n",
    "        n_jobs=-1                  # use all CPU cores\n",
    "    )\n",
    "\n",
    "grid_search.fit(X_train_prepared, y_train)\n",
    "\n",
    "best_model = grid_search.best_estimator_\n",
    "grid_search.best_params_\n",
    "\n",
    "final_predictions = best_model.predict(X_test_prepared)\n",
    "\n",
    "from sklearn.metrics import mean_squared_error\n",
    "import numpy as np\n",
    "\n",
    "final_mse = mean_squared_error(y_test, final_predictions)\n",
    "final_rmse = np.sqrt(final_mse)\n",
    "\n",
    "print(\"Final RMSE on Test Set:\", final_rmse)\n"
   ]
  },
  {
   "cell_type": "code",
   "execution_count": 30,
   "metadata": {},
   "outputs": [
    {
     "data": {
      "text/plain": [
       "['best_model.pkl']"
      ]
     },
     "execution_count": 30,
     "metadata": {},
     "output_type": "execute_result"
    }
   ],
   "source": [
    "import joblib\n",
    "\n",
    "joblib.dump(best_model, \"best_model.pkl\")\n"
   ]
  },
  {
   "cell_type": "code",
   "execution_count": null,
   "id": "89d86286",
   "metadata": {},
   "outputs": [],
   "source": []
  },
  {
   "cell_type": "code",
   "execution_count": null,
   "metadata": {},
   "outputs": [],
   "source": []
  },
  {
   "cell_type": "code",
   "execution_count": null,
   "metadata": {},
   "outputs": [],
   "source": []
  },
  {
   "cell_type": "code",
   "execution_count": null,
   "metadata": {},
   "outputs": [],
   "source": []
  },
  {
   "cell_type": "code",
   "execution_count": null,
   "metadata": {},
   "outputs": [],
   "source": []
  },
  {
   "cell_type": "code",
   "execution_count": null,
   "metadata": {},
   "outputs": [],
   "source": []
  },
  {
   "cell_type": "code",
   "execution_count": null,
   "metadata": {},
   "outputs": [],
   "source": []
  },
  {
   "cell_type": "code",
   "execution_count": null,
   "metadata": {},
   "outputs": [],
   "source": []
  },
  {
   "cell_type": "code",
   "execution_count": null,
   "metadata": {},
   "outputs": [],
   "source": []
  },
  {
   "cell_type": "code",
   "execution_count": null,
   "metadata": {},
   "outputs": [],
   "source": []
  },
  {
   "cell_type": "code",
   "execution_count": null,
   "metadata": {},
   "outputs": [],
   "source": []
  },
  {
   "cell_type": "code",
   "execution_count": null,
   "metadata": {},
   "outputs": [],
   "source": []
  },
  {
   "cell_type": "code",
   "execution_count": null,
   "metadata": {},
   "outputs": [],
   "source": []
  },
  {
   "cell_type": "code",
   "execution_count": null,
   "metadata": {},
   "outputs": [],
   "source": []
  },
  {
   "cell_type": "code",
   "execution_count": null,
   "metadata": {},
   "outputs": [],
   "source": []
  },
  {
   "cell_type": "code",
   "execution_count": null,
   "metadata": {},
   "outputs": [],
   "source": []
  },
  {
   "cell_type": "code",
   "execution_count": null,
   "metadata": {},
   "outputs": [],
   "source": []
  },
  {
   "cell_type": "code",
   "execution_count": null,
   "metadata": {},
   "outputs": [],
   "source": []
  },
  {
   "cell_type": "code",
   "execution_count": null,
   "metadata": {},
   "outputs": [],
   "source": []
  },
  {
   "cell_type": "code",
   "execution_count": null,
   "metadata": {},
   "outputs": [],
   "source": []
  },
  {
   "cell_type": "code",
   "execution_count": null,
   "metadata": {},
   "outputs": [],
   "source": []
  },
  {
   "cell_type": "code",
   "execution_count": null,
   "metadata": {},
   "outputs": [],
   "source": []
  },
  {
   "cell_type": "code",
   "execution_count": null,
   "metadata": {},
   "outputs": [],
   "source": []
  },
  {
   "cell_type": "code",
   "execution_count": null,
   "metadata": {},
   "outputs": [],
   "source": []
  },
  {
   "cell_type": "code",
   "execution_count": null,
   "metadata": {},
   "outputs": [],
   "source": []
  },
  {
   "cell_type": "code",
   "execution_count": null,
   "metadata": {},
   "outputs": [],
   "source": []
  },
  {
   "cell_type": "code",
   "execution_count": null,
   "metadata": {},
   "outputs": [],
   "source": []
  },
  {
   "cell_type": "code",
   "execution_count": null,
   "metadata": {},
   "outputs": [],
   "source": []
  },
  {
   "cell_type": "code",
   "execution_count": null,
   "metadata": {},
   "outputs": [],
   "source": []
  },
  {
   "cell_type": "code",
   "execution_count": null,
   "metadata": {},
   "outputs": [],
   "source": []
  },
  {
   "cell_type": "code",
   "execution_count": null,
   "metadata": {},
   "outputs": [],
   "source": []
  },
  {
   "cell_type": "code",
   "execution_count": null,
   "metadata": {},
   "outputs": [],
   "source": []
  },
  {
   "cell_type": "code",
   "execution_count": null,
   "metadata": {},
   "outputs": [],
   "source": []
  },
  {
   "cell_type": "code",
   "execution_count": null,
   "metadata": {},
   "outputs": [],
   "source": []
  },
  {
   "cell_type": "code",
   "execution_count": null,
   "id": "6a0015a2",
   "metadata": {},
   "outputs": [],
   "source": []
  },
  {
   "cell_type": "code",
   "execution_count": null,
   "id": "3ada906f",
   "metadata": {},
   "outputs": [],
   "source": []
  },
  {
   "cell_type": "code",
   "execution_count": null,
   "id": "048a4331",
   "metadata": {},
   "outputs": [],
   "source": []
  },
  {
   "cell_type": "code",
   "execution_count": null,
   "id": "c2086e82",
   "metadata": {},
   "outputs": [],
   "source": []
  }
 ],
 "metadata": {
  "kernelspec": {
   "display_name": "base",
   "language": "python",
   "name": "python3"
  },
  "language_info": {
   "codemirror_mode": {
    "name": "ipython",
    "version": 3
   },
   "file_extension": ".py",
   "mimetype": "text/x-python",
   "name": "python",
   "nbconvert_exporter": "python",
   "pygments_lexer": "ipython3",
   "version": "3.12.7"
  }
 },
 "nbformat": 4,
 "nbformat_minor": 5
}
