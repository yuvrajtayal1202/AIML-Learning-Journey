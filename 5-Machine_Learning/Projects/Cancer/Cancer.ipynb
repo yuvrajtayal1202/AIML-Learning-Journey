{
 "cells": [
  {
   "cell_type": "code",
   "execution_count": 1,
   "id": "9b0b6178",
   "metadata": {},
   "outputs": [
    {
     "name": "stdout",
     "output_type": "stream",
     "text": [
      "🎯 Classification Report:\n",
      "               precision    recall  f1-score   support\n",
      "\n",
      "           0       1.00      0.95      0.98        43\n",
      "           1       0.97      1.00      0.99        71\n",
      "\n",
      "    accuracy                           0.98       114\n",
      "   macro avg       0.99      0.98      0.98       114\n",
      "weighted avg       0.98      0.98      0.98       114\n",
      "\n",
      "🧾 Confusion Matrix:\n",
      " [[41  2]\n",
      " [ 0 71]]\n"
     ]
    }
   ],
   "source": [
    "# STEP 1: IMPORTS\n",
    "from sklearn.datasets import load_breast_cancer\n",
    "from sklearn.model_selection import train_test_split\n",
    "from sklearn.pipeline import Pipeline\n",
    "from sklearn.preprocessing import StandardScaler\n",
    "from sklearn.svm import SVC\n",
    "from sklearn.metrics import classification_report, confusion_matrix\n",
    "\n",
    "# STEP 2: LOAD THE DATA\n",
    "data = load_breast_cancer()\n",
    "X = data.data\n",
    "y = data.target\n",
    "\n",
    "# STEP 3: SPLIT INTO TRAIN/TEST\n",
    "X_train, X_test, y_train, y_test = train_test_split(X, y, test_size=0.2, random_state=42)\n",
    "\n",
    "# STEP 4: CREATE PIPELINE\n",
    "svm_pipeline = Pipeline([\n",
    "    (\"scaler\", StandardScaler()),\n",
    "    (\"svm_clf\", SVC(kernel=\"rbf\", C=10, gamma=0.01))\n",
    "])\n",
    "\n",
    "# STEP 5: TRAIN THE MODEL\n",
    "svm_pipeline.fit(X_train, y_train)\n",
    "\n",
    "# STEP 6: EVALUATE ON TEST SET\n",
    "y_pred = svm_pipeline.predict(X_test)\n",
    "\n",
    "print(\"🎯 Classification Report:\\n\", classification_report(y_test, y_pred))\n",
    "print(\"🧾 Confusion Matrix:\\n\", confusion_matrix(y_test, y_pred))\n"
   ]
  },
  {
   "cell_type": "code",
   "execution_count": 2,
   "id": "e9c915ca",
   "metadata": {},
   "outputs": [
    {
     "name": "stdout",
     "output_type": "stream",
     "text": [
      "Fitting 5 folds for each of 16 candidates, totalling 80 fits\n",
      "[CV] END ...............svm_clf__C=0.1, svm_clf__gamma=0.001; total time=   0.0s\n",
      "[CV] END ...............svm_clf__C=0.1, svm_clf__gamma=0.001; total time=   0.0s\n",
      "[CV] END ...............svm_clf__C=0.1, svm_clf__gamma=0.001; total time=   0.0s\n",
      "[CV] END ...............svm_clf__C=0.1, svm_clf__gamma=0.001; total time=   0.0s\n",
      "[CV] END ...............svm_clf__C=0.1, svm_clf__gamma=0.001; total time=   0.0s\n",
      "[CV] END ................svm_clf__C=0.1, svm_clf__gamma=0.01; total time=   0.0s\n",
      "[CV] END ................svm_clf__C=0.1, svm_clf__gamma=0.01; total time=   0.0s\n",
      "[CV] END ................svm_clf__C=0.1, svm_clf__gamma=0.01; total time=   0.0s\n",
      "[CV] END ................svm_clf__C=0.1, svm_clf__gamma=0.01; total time=   0.0s\n",
      "[CV] END ................svm_clf__C=0.1, svm_clf__gamma=0.01; total time=   0.0s\n",
      "[CV] END .................svm_clf__C=0.1, svm_clf__gamma=0.1; total time=   0.0s\n",
      "[CV] END .................svm_clf__C=0.1, svm_clf__gamma=0.1; total time=   0.0s\n",
      "[CV] END .................svm_clf__C=0.1, svm_clf__gamma=0.1; total time=   0.0s\n",
      "[CV] END .................svm_clf__C=0.1, svm_clf__gamma=0.1; total time=   0.0s\n",
      "[CV] END .................svm_clf__C=0.1, svm_clf__gamma=0.1; total time=   0.0s\n",
      "[CV] END ...................svm_clf__C=0.1, svm_clf__gamma=1; total time=   0.0s\n",
      "[CV] END ...................svm_clf__C=0.1, svm_clf__gamma=1; total time=   0.0s\n",
      "[CV] END ...................svm_clf__C=0.1, svm_clf__gamma=1; total time=   0.0s\n",
      "[CV] END ...................svm_clf__C=0.1, svm_clf__gamma=1; total time=   0.0s\n",
      "[CV] END ...................svm_clf__C=0.1, svm_clf__gamma=1; total time=   0.0s\n",
      "[CV] END .................svm_clf__C=1, svm_clf__gamma=0.001; total time=   0.0s\n",
      "[CV] END .................svm_clf__C=1, svm_clf__gamma=0.001; total time=   0.0s\n",
      "[CV] END .................svm_clf__C=1, svm_clf__gamma=0.001; total time=   0.0s\n",
      "[CV] END .................svm_clf__C=1, svm_clf__gamma=0.001; total time=   0.0s\n",
      "[CV] END .................svm_clf__C=1, svm_clf__gamma=0.001; total time=   0.0s\n",
      "[CV] END ..................svm_clf__C=1, svm_clf__gamma=0.01; total time=   0.0s\n",
      "[CV] END ..................svm_clf__C=1, svm_clf__gamma=0.01; total time=   0.0s\n",
      "[CV] END ..................svm_clf__C=1, svm_clf__gamma=0.01; total time=   0.0s\n",
      "[CV] END ..................svm_clf__C=1, svm_clf__gamma=0.01; total time=   0.0s\n",
      "[CV] END ..................svm_clf__C=1, svm_clf__gamma=0.01; total time=   0.0s\n",
      "[CV] END ...................svm_clf__C=1, svm_clf__gamma=0.1; total time=   0.0s\n",
      "[CV] END ...................svm_clf__C=1, svm_clf__gamma=0.1; total time=   0.0s\n",
      "[CV] END ...................svm_clf__C=1, svm_clf__gamma=0.1; total time=   0.0s\n",
      "[CV] END ...................svm_clf__C=1, svm_clf__gamma=0.1; total time=   0.0s\n",
      "[CV] END ...................svm_clf__C=1, svm_clf__gamma=0.1; total time=   0.0s\n",
      "[CV] END .....................svm_clf__C=1, svm_clf__gamma=1; total time=   0.0s\n",
      "[CV] END .....................svm_clf__C=1, svm_clf__gamma=1; total time=   0.0s\n",
      "[CV] END .....................svm_clf__C=1, svm_clf__gamma=1; total time=   0.0s\n",
      "[CV] END .....................svm_clf__C=1, svm_clf__gamma=1; total time=   0.0s\n",
      "[CV] END .....................svm_clf__C=1, svm_clf__gamma=1; total time=   0.0s\n",
      "[CV] END ................svm_clf__C=10, svm_clf__gamma=0.001; total time=   0.0s\n",
      "[CV] END ................svm_clf__C=10, svm_clf__gamma=0.001; total time=   0.0s\n",
      "[CV] END ................svm_clf__C=10, svm_clf__gamma=0.001; total time=   0.0s\n",
      "[CV] END ................svm_clf__C=10, svm_clf__gamma=0.001; total time=   0.0s\n",
      "[CV] END ................svm_clf__C=10, svm_clf__gamma=0.001; total time=   0.0s\n",
      "[CV] END .................svm_clf__C=10, svm_clf__gamma=0.01; total time=   0.0s\n",
      "[CV] END .................svm_clf__C=10, svm_clf__gamma=0.01; total time=   0.0s\n",
      "[CV] END .................svm_clf__C=10, svm_clf__gamma=0.01; total time=   0.0s\n",
      "[CV] END .................svm_clf__C=10, svm_clf__gamma=0.01; total time=   0.0s\n",
      "[CV] END .................svm_clf__C=10, svm_clf__gamma=0.01; total time=   0.0s\n",
      "[CV] END ..................svm_clf__C=10, svm_clf__gamma=0.1; total time=   0.0s\n",
      "[CV] END ..................svm_clf__C=10, svm_clf__gamma=0.1; total time=   0.0s\n",
      "[CV] END ..................svm_clf__C=10, svm_clf__gamma=0.1; total time=   0.0s\n",
      "[CV] END ..................svm_clf__C=10, svm_clf__gamma=0.1; total time=   0.0s\n",
      "[CV] END ..................svm_clf__C=10, svm_clf__gamma=0.1; total time=   0.0s\n",
      "[CV] END ....................svm_clf__C=10, svm_clf__gamma=1; total time=   0.0s\n",
      "[CV] END ....................svm_clf__C=10, svm_clf__gamma=1; total time=   0.0s\n",
      "[CV] END ....................svm_clf__C=10, svm_clf__gamma=1; total time=   0.0s\n",
      "[CV] END ....................svm_clf__C=10, svm_clf__gamma=1; total time=   0.0s\n",
      "[CV] END ....................svm_clf__C=10, svm_clf__gamma=1; total time=   0.0s\n",
      "[CV] END ...............svm_clf__C=100, svm_clf__gamma=0.001; total time=   0.0s\n",
      "[CV] END ...............svm_clf__C=100, svm_clf__gamma=0.001; total time=   0.0s\n",
      "[CV] END ...............svm_clf__C=100, svm_clf__gamma=0.001; total time=   0.0s\n",
      "[CV] END ...............svm_clf__C=100, svm_clf__gamma=0.001; total time=   0.0s\n",
      "[CV] END ...............svm_clf__C=100, svm_clf__gamma=0.001; total time=   0.0s\n",
      "[CV] END ................svm_clf__C=100, svm_clf__gamma=0.01; total time=   0.0s\n",
      "[CV] END ................svm_clf__C=100, svm_clf__gamma=0.01; total time=   0.0s\n",
      "[CV] END ................svm_clf__C=100, svm_clf__gamma=0.01; total time=   0.0s\n",
      "[CV] END ................svm_clf__C=100, svm_clf__gamma=0.01; total time=   0.0s\n",
      "[CV] END ................svm_clf__C=100, svm_clf__gamma=0.01; total time=   0.0s\n",
      "[CV] END .................svm_clf__C=100, svm_clf__gamma=0.1; total time=   0.0s\n",
      "[CV] END .................svm_clf__C=100, svm_clf__gamma=0.1; total time=   0.0s\n",
      "[CV] END .................svm_clf__C=100, svm_clf__gamma=0.1; total time=   0.0s\n",
      "[CV] END .................svm_clf__C=100, svm_clf__gamma=0.1; total time=   0.0s\n",
      "[CV] END .................svm_clf__C=100, svm_clf__gamma=0.1; total time=   0.0s\n",
      "[CV] END ...................svm_clf__C=100, svm_clf__gamma=1; total time=   0.0s\n",
      "[CV] END ...................svm_clf__C=100, svm_clf__gamma=1; total time=   0.0s\n",
      "[CV] END ...................svm_clf__C=100, svm_clf__gamma=1; total time=   0.0s\n",
      "[CV] END ...................svm_clf__C=100, svm_clf__gamma=1; total time=   0.0s\n",
      "[CV] END ...................svm_clf__C=100, svm_clf__gamma=1; total time=   0.0s\n",
      "🔥 Best Parameters: {'svm_clf__C': 10, 'svm_clf__gamma': 0.01}\n",
      "✅ Best CV Accuracy: 0.9736263736263737\n"
     ]
    }
   ],
   "source": [
    "#  Use GridSearchCV to Tune C and gamma\n",
    "\n",
    "from sklearn.model_selection import GridSearchCV\n",
    "\n",
    "param_grid = {\n",
    "    'svm_clf__C': [0.1, 1, 10, 100],\n",
    "    'svm_clf__gamma': [0.001, 0.01, 0.1, 1]\n",
    "}\n",
    "\n",
    "grid_search = GridSearchCV(svm_pipeline, param_grid, cv=5, scoring='accuracy', verbose=2)\n",
    "grid_search.fit(X_train, y_train)\n",
    "\n",
    "print(\"🔥 Best Parameters:\", grid_search.best_params_)\n",
    "print(\"✅ Best CV Accuracy:\", grid_search.best_score_)\n"
   ]
  },
  {
   "cell_type": "code",
   "execution_count": 4,
   "metadata": {},
   "outputs": [
    {
     "name": "stderr",
     "output_type": "stream",
     "text": [
      "c:\\Users\\yuvra\\anaconda3\\Lib\\site-packages\\IPython\\core\\pylabtools.py:170: UserWarning: Glyph 128202 (\\N{BAR CHART}) missing from font(s) DejaVu Sans.\n",
      "  fig.canvas.print_figure(bytes_io, **kw)\n"
     ]
    },
    {
     "data": {
      "image/png": "[encoded data removed]",
      "text/plain": [
       "<Figure size 640x480 with 2 Axes>"
      ]
     },
     "metadata": {},
     "output_type": "display_data"
    }
   ],
   "source": [
    "import seaborn as sns\n",
    "import matplotlib.pyplot as plt\n",
    "from sklearn.metrics import confusion_matrix\n",
    "\n",
    "# Predict using best model\n",
    "best_model = grid_search.best_estimator_\n",
    "y_pred = best_model.predict(X_test)\n",
    "\n",
    "# Confusion matrix\n",
    "cm = confusion_matrix(y_test, y_pred)\n",
    "sns.heatmap(cm, annot=True, fmt=\"d\", cmap=\"Blues\")\n",
    "plt.title(\"📊 Confusion Matrix\")\n",
    "plt.xlabel(\"Predicted\")\n",
    "plt.ylabel(\"Actual\")\n",
    "plt.show()\n"
   ]
  },
  {
   "cell_type": "code",
   "execution_count": 5,
   "metadata": {},
   "outputs": [
    {
     "name": "stdout",
     "output_type": "stream",
     "text": [
      "🧠 Decision Function Scores (first 5):\n",
      " [ 0.99368861 -3.79580039 -2.4904044   3.02701371  3.84679241]\n"
     ]
    }
   ],
   "source": [
    "# Decision values (distance from boundary)\n",
    "decision_scores = best_model.decision_function(X_test)\n",
    "\n",
    "# Show first 5 for demo\n",
    "print(\"🧠 Decision Function Scores (first 5):\\n\", decision_scores[:5])\n"
   ]
  },
  {
   "cell_type": "code",
   "execution_count": 6,
   "metadata": {},
   "outputs": [
    {
     "name": "stdout",
     "output_type": "stream",
     "text": [
      "✅ Model saved!\n",
      "✅ Model loaded. Predicting...\n",
      "📊 New Prediction: [1]\n"
     ]
    }
   ],
   "source": [
    "import joblib\n",
    "\n",
    "# Save model\n",
    "joblib.dump(best_model, \"svm_cancer_model.pkl\")\n",
    "print(\"✅ Model saved!\")\n",
    "\n",
    "# Load model\n",
    "loaded_model = joblib.load(\"svm_cancer_model.pkl\")\n",
    "print(\"✅ Model loaded. Predicting...\")\n",
    "\n",
    "# Use it\n",
    "print(\"📊 New Prediction:\", loaded_model.predict(X_test[:1]))\n"
   ]
  },
  {
   "cell_type": "code",
   "execution_count": null,
   "metadata": {},
   "outputs": [],
   "source": []
  },
  {
   "cell_type": "code",
   "execution_count": null,
   "metadata": {},
   "outputs": [],
   "source": []
  },
  {
   "cell_type": "code",
   "execution_count": null,
   "metadata": {},
   "outputs": [],
   "source": []
  },
  {
   "cell_type": "code",
   "execution_count": null,
   "metadata": {},
   "outputs": [],
   "source": []
  },
  {
   "cell_type": "code",
   "execution_count": null,
   "metadata": {},
   "outputs": [],
   "source": []
  },
  {
   "cell_type": "code",
   "execution_count": null,
   "metadata": {},
   "outputs": [],
   "source": []
  },
  {
   "cell_type": "code",
   "execution_count": null,
   "metadata": {},
   "outputs": [],
   "source": []
  },
  {
   "cell_type": "code",
   "execution_count": null,
   "metadata": {},
   "outputs": [],
   "source": []
  },
  {
   "cell_type": "code",
   "execution_count": null,
   "metadata": {},
   "outputs": [],
   "source": []
  },
  {
   "cell_type": "code",
   "execution_count": null,
   "metadata": {},
   "outputs": [],
   "source": []
  },
  {
   "cell_type": "code",
   "execution_count": null,
   "metadata": {},
   "outputs": [],
   "source": []
  },
  {
   "cell_type": "code",
   "execution_count": null,
   "id": "6265a6a7",
   "metadata": {},
   "outputs": [],
   "source": []
  },
  {
   "cell_type": "code",
   "execution_count": null,
   "id": "47637235",
   "metadata": {},
   "outputs": [],
   "source": []
  },
  {
   "cell_type": "code",
   "execution_count": null,
   "id": "9f84fa95",
   "metadata": {},
   "outputs": [],
   "source": []
  }
 ],
 "metadata": {
  "kernelspec": {
   "display_name": "base",
   "language": "python",
   "name": "python3"
  },
  "language_info": {
   "codemirror_mode": {
    "name": "ipython",
    "version": 3
   },
   "file_extension": ".py",
   "mimetype": "text/x-python",
   "name": "python",
   "nbconvert_exporter": "python",
   "pygments_lexer": "ipython3",
   "version": "3.12.7"
  }
 },
 "nbformat": 4,
 "nbformat_minor": 5
}
