{
 "cells": [
  {
   "cell_type": "code",
   "execution_count": 18,
   "id": "4d239103",
   "metadata": {},
   "outputs": [],
   "source": [
    "from abc import ABC, abstractmethod"
   ]
  },
  {
   "cell_type": "code",
   "execution_count": 19,
   "id": "f4ed03ab",
   "metadata": {},
   "outputs": [],
   "source": [
    "class Runnable(ABC):\n",
    "    \n",
    "    @abstractmethod\n",
    "    def invoke(input_data):\n",
    "        pass"
   ]
  },
  {
   "cell_type": "code",
   "execution_count": 20,
   "id": "379e1654",
   "metadata": {},
   "outputs": [],
   "source": [
    "import random\n",
    "\n",
    "class yuviLLM(Runnable):\n",
    "    \n",
    "    def __init__(self):\n",
    "        print('LLm Created')\n",
    "        \n",
    "    def invoke(self, prompt):\n",
    "        response_list = [\n",
    "            'this is respoonse 1',\n",
    "            'this is respoonse 2',\n",
    "            'this is respoonse 3',\n",
    "        ]\n",
    "    def predict(self, prompt):\n",
    "        response_list = [\n",
    "            'this is respoonse 1',\n",
    "            'this is respoonse 2',\n",
    "            'this is respoonse 3',\n",
    "        ]\n",
    "        \n",
    "        return {'response': random.choice(response_list)}"
   ]
  },
  {
   "cell_type": "code",
   "execution_count": 21,
   "id": "8704950a",
   "metadata": {},
   "outputs": [],
   "source": [
    "class yuviPromptTemplate(Runnable):\n",
    "    \n",
    "  def __init__(self, template, input_variables):\n",
    "    self.template = template\n",
    "    self.input_variables = input_variables\n",
    "\n",
    "  def invoke(self, input_dict):\n",
    "    return self.template.format(**input_dict)\n",
    "\n",
    "  def format(self, input_dict):\n",
    "    return self.template.format(**input_dict)"
   ]
  },
  {
   "cell_type": "code",
   "execution_count": 22,
   "id": "36d762f1",
   "metadata": {},
   "outputs": [],
   "source": [
    "class yuviStrOutputParser(Runnable):\n",
    "\n",
    "  def __init__(self):\n",
    "    pass\n",
    "\n",
    "  def invoke(self, input_data):\n",
    "    return input_data['response']"
   ]
  },
  {
   "cell_type": "code",
   "execution_count": 23,
   "id": "0c4d073e",
   "metadata": {},
   "outputs": [],
   "source": [
    "class RunnableConnector(Runnable):\n",
    "\n",
    "  def __init__(self, runnable_list):\n",
    "    self.runnable_list = runnable_list\n",
    "\n",
    "  def invoke(self, input_data):\n",
    "\n",
    "    for runnable in self.runnable_list:\n",
    "      input_data = runnable.invoke(input_data)\n",
    "\n",
    "    return input_data"
   ]
  },
  {
   "cell_type": "code",
   "execution_count": 24,
   "id": "29c2f87d",
   "metadata": {},
   "outputs": [],
   "source": [
    "template = yuviPromptTemplate(\n",
    "    template='Write a {length} poem about {topic}',\n",
    "    input_variables=['length', 'topic']\n",
    ")"
   ]
  },
  {
   "cell_type": "code",
   "execution_count": 25,
   "id": "089fb422",
   "metadata": {},
   "outputs": [
    {
     "name": "stdout",
     "output_type": "stream",
     "text": [
      "LLm Created\n"
     ]
    }
   ],
   "source": [
    "llm = yuviLLM()"
   ]
  },
  {
   "cell_type": "code",
   "execution_count": 26,
   "id": "d6a484a8",
   "metadata": {},
   "outputs": [
    {
     "ename": "TypeError",
     "evalue": "'NoneType' object is not subscriptable",
     "output_type": "error",
     "traceback": [
      "\u001b[31m---------------------------------------------------------------------------\u001b[39m",
      "\u001b[31mTypeError\u001b[39m                                 Traceback (most recent call last)",
      "\u001b[36mCell\u001b[39m\u001b[36m \u001b[39m\u001b[32mIn[26]\u001b[39m\u001b[32m, line 3\u001b[39m\n\u001b[32m      1\u001b[39m parser = yuviStrOutputParser()\n\u001b[32m      2\u001b[39m chain = RunnableConnector([template, llm, parser])\n\u001b[32m----> \u001b[39m\u001b[32m3\u001b[39m \u001b[43mchain\u001b[49m\u001b[43m.\u001b[49m\u001b[43minvoke\u001b[49m\u001b[43m(\u001b[49m\u001b[43m{\u001b[49m\u001b[33;43m'\u001b[39;49m\u001b[33;43mlength\u001b[39;49m\u001b[33;43m'\u001b[39;49m\u001b[43m:\u001b[49m\u001b[33;43m'\u001b[39;49m\u001b[33;43mlong\u001b[39;49m\u001b[33;43m'\u001b[39;49m\u001b[43m,\u001b[49m\u001b[43m \u001b[49m\u001b[33;43m'\u001b[39;49m\u001b[33;43mtopic\u001b[39;49m\u001b[33;43m'\u001b[39;49m\u001b[43m:\u001b[49m\u001b[33;43m'\u001b[39;49m\u001b[33;43mindia\u001b[39;49m\u001b[33;43m'\u001b[39;49m\u001b[43m}\u001b[49m\u001b[43m)\u001b[49m\n",
      "\u001b[36mCell\u001b[39m\u001b[36m \u001b[39m\u001b[32mIn[23]\u001b[39m\u001b[32m, line 9\u001b[39m, in \u001b[36mRunnableConnector.invoke\u001b[39m\u001b[34m(self, input_data)\u001b[39m\n\u001b[32m      6\u001b[39m \u001b[38;5;28;01mdef\u001b[39;00m\u001b[38;5;250m \u001b[39m\u001b[34minvoke\u001b[39m(\u001b[38;5;28mself\u001b[39m, input_data):\n\u001b[32m      8\u001b[39m   \u001b[38;5;28;01mfor\u001b[39;00m runnable \u001b[38;5;129;01min\u001b[39;00m \u001b[38;5;28mself\u001b[39m.runnable_list:\n\u001b[32m----> \u001b[39m\u001b[32m9\u001b[39m     input_data = \u001b[43mrunnable\u001b[49m\u001b[43m.\u001b[49m\u001b[43minvoke\u001b[49m\u001b[43m(\u001b[49m\u001b[43minput_data\u001b[49m\u001b[43m)\u001b[49m\n\u001b[32m     11\u001b[39m   \u001b[38;5;28;01mreturn\u001b[39;00m input_data\n",
      "\u001b[36mCell\u001b[39m\u001b[36m \u001b[39m\u001b[32mIn[22]\u001b[39m\u001b[32m, line 7\u001b[39m, in \u001b[36myuviStrOutputParser.invoke\u001b[39m\u001b[34m(self, input_data)\u001b[39m\n\u001b[32m      6\u001b[39m \u001b[38;5;28;01mdef\u001b[39;00m\u001b[38;5;250m \u001b[39m\u001b[34minvoke\u001b[39m(\u001b[38;5;28mself\u001b[39m, input_data):\n\u001b[32m----> \u001b[39m\u001b[32m7\u001b[39m   \u001b[38;5;28;01mreturn\u001b[39;00m \u001b[43minput_data\u001b[49m\u001b[43m[\u001b[49m\u001b[33;43m'\u001b[39;49m\u001b[33;43mresponse\u001b[39;49m\u001b[33;43m'\u001b[39;49m\u001b[43m]\u001b[49m\n",
      "\u001b[31mTypeError\u001b[39m: 'NoneType' object is not subscriptable"
     ]
    }
   ],
   "source": [
    "parser = yuviStrOutputParser()\n",
    "chain = RunnableConnector([template, llm, parser])\n",
    "chain.invoke({'length':'long', 'topic':'india'})\n"
   ]
  },
  {
   "cell_type": "code",
   "execution_count": null,
   "id": "d1917071",
   "metadata": {},
   "outputs": [],
   "source": []
  },
  {
   "cell_type": "code",
   "execution_count": null,
   "id": "d5331484",
   "metadata": {},
   "outputs": [],
   "source": []
  },
  {
   "cell_type": "code",
   "execution_count": null,
   "id": "7fad1cf9",
   "metadata": {},
   "outputs": [],
   "source": []
  },
  {
   "cell_type": "code",
   "execution_count": null,
   "id": "ad181e07",
   "metadata": {},
   "outputs": [],
   "source": []
  },
  {
   "cell_type": "code",
   "execution_count": null,
   "id": "b2010aa5",
   "metadata": {},
   "outputs": [],
   "source": []
  },
  {
   "cell_type": "code",
   "execution_count": null,
   "id": "dc1eda54",
   "metadata": {},
   "outputs": [],
   "source": []
  }
 ],
 "metadata": {
  "kernelspec": {
   "display_name": "venv",
   "language": "python",
   "name": "python3"
  },
  "language_info": {
   "codemirror_mode": {
    "name": "ipython",
    "version": 3
   },
   "file_extension": ".py",
   "mimetype": "text/x-python",
   "name": "python",
   "nbconvert_exporter": "python",
   "pygments_lexer": "ipython3",
   "version": "3.12.7"
  }
 },
 "nbformat": 4,
 "nbformat_minor": 5
}
