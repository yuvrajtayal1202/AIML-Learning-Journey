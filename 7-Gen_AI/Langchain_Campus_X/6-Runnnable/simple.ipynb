{
 "cells": [
  {
   "cell_type": "code",
   "execution_count": null,
   "id": "578b9b1d",
   "metadata": {},
   "outputs": [],
   "source": [
    "import random\n",
    "\n",
    "class yuviLLM:\n",
    "    \n",
    "    def __init__(self):\n",
    "        print('LLm Created')\n",
    "        \n",
    "    def predict(self, prompt):\n",
    "        response_list = [\n",
    "            'this is respoonse 1',\n",
    "            'this is respoonse 2',\n",
    "            'this is respoonse 3',\n",
    "        ]\n",
    "        \n",
    "        return {'response': random.choice(response_list)}"
   ]
  },
  {
   "cell_type": "code",
   "execution_count": null,
   "id": "f3b8e1ab",
   "metadata": {},
   "outputs": [],
   "source": [
    "class yuviPromptTemplate:\n",
    "    \n",
    "    def __init__(self, template, input_variables):\n",
    "        self.template = template\n",
    "        self.input_variables = input_variables\n",
    "        \n",
    "    def format(self, input_dict):\n",
    "        return self.template.format(**input_dict)"
   ]
  },
  {
   "cell_type": "code",
   "execution_count": 4,
   "id": "fe1b93d7",
   "metadata": {},
   "outputs": [
    {
     "name": "stdout",
     "output_type": "stream",
     "text": [
      "LLm Created\n"
     ]
    },
    {
     "data": {
      "text/plain": [
       "{'response': 'this is respoonse 1this is respoonse 2this is respoonse 3'}"
      ]
     },
     "execution_count": 4,
     "metadata": {},
     "output_type": "execute_result"
    }
   ],
   "source": [
    "template = yuviPromptTemplate(\n",
    "    template='Write a {length} poem about {topic}',\n",
    "    input_variables=['length', 'topic']\n",
    ")\n",
    "\n",
    "prompt = template.format({'length':'short','topic':'india'})\n",
    "\n",
    "llm = yuviLLM()\n",
    "\n",
    "llm.predict(prompt)"
   ]
  },
  {
   "cell_type": "code",
   "execution_count": null,
   "id": "9556f98e",
   "metadata": {},
   "outputs": [],
   "source": [
    "class yuviLLMChain:\n",
    "\n",
    "  def __init__(self, llm, prompt):\n",
    "    self.llm = llm\n",
    "    self.prompt = prompt\n",
    "\n",
    "  def run(self, input_dict):\n",
    "\n",
    "    final_prompt = self.prompt.format(input_dict)\n",
    "    result = self.llm.predict(final_prompt)\n",
    "\n",
    "    return result['response']\n"
   ]
  },
  {
   "cell_type": "code",
   "execution_count": null,
   "id": "1d0ac67a",
   "metadata": {},
   "outputs": [],
   "source": [
    "template = yuviPromptTemplate(\n",
    "    template='Write a {length} poem about {topic}',\n",
    "    input_variables=['length', 'topic']\n",
    ")\n",
    "\n",
    "prompt = template.format({'length':'short','topic':'india'})\n",
    "\n",
    "llm = yuviLLM()\n",
    "\n",
    "chain = yuviLLMChain(llm, template)"
   ]
  },
  {
   "cell_type": "code",
   "execution_count": null,
   "id": "3c7b5c8c",
   "metadata": {},
   "outputs": [],
   "source": [
    "chain.run({'length' : 'short', 'topic' : 'indias'})"
   ]
  },
  {
   "cell_type": "code",
   "execution_count": null,
   "id": "393277f9",
   "metadata": {},
   "outputs": [],
   "source": []
  },
  {
   "cell_type": "code",
   "execution_count": null,
   "id": "a96fceff",
   "metadata": {},
   "outputs": [],
   "source": []
  },
  {
   "cell_type": "code",
   "execution_count": null,
   "id": "b1bc24e3",
   "metadata": {},
   "outputs": [],
   "source": []
  },
  {
   "cell_type": "code",
   "execution_count": null,
   "id": "d4f90c13",
   "metadata": {},
   "outputs": [],
   "source": []
  }
 ],
 "metadata": {
  "kernelspec": {
   "display_name": "venv",
   "language": "python",
   "name": "python3"
  },
  "language_info": {
   "codemirror_mode": {
    "name": "ipython",
    "version": 3
   },
   "file_extension": ".py",
   "mimetype": "text/x-python",
   "name": "python",
   "nbconvert_exporter": "python",
   "pygments_lexer": "ipython3",
   "version": "3.12.7"
  }
 },
 "nbformat": 4,
 "nbformat_minor": 5
}
