{
 "cells": [
  {
   "cell_type": "code",
   "execution_count": 1,
   "id": "8c850ab5",
   "metadata": {},
   "outputs": [],
   "source": [
    "# Data ingestion"
   ]
  },
  {
   "cell_type": "code",
   "execution_count": null,
   "id": "8c3b6ac7",
   "metadata": {},
   "outputs": [],
   "source": []
  },
  {
   "cell_type": "code",
   "execution_count": 2,
   "id": "5b1b3b83",
   "metadata": {},
   "outputs": [
    {
     "name": "stdout",
     "output_type": "stream",
     "text": [
      "Hio\n"
     ]
    }
   ],
   "source": [
    "print(\"Hio\")    "
   ]
  },
  {
   "cell_type": "code",
   "execution_count": 3,
   "id": "1e55dae6",
   "metadata": {},
   "outputs": [
    {
     "name": "stdout",
     "output_type": "stream",
     "text": [
      "Requirement already satisfied: langchain_community in c:\\users\\yuvra\\anaconda3\\lib\\site-packages (0.3.27)\n",
      "Requirement already satisfied: langchain-core<1.0.0,>=0.3.66 in c:\\users\\yuvra\\anaconda3\\lib\\site-packages (from langchain_community) (0.3.74)\n",
      "Requirement already satisfied: langchain<1.0.0,>=0.3.26 in c:\\users\\yuvra\\anaconda3\\lib\\site-packages (from langchain_community) (0.3.27)\n",
      "Requirement already satisfied: SQLAlchemy<3,>=1.4 in c:\\users\\yuvra\\anaconda3\\lib\\site-packages (from langchain_community) (2.0.34)\n",
      "Requirement already satisfied: requests<3,>=2 in c:\\users\\yuvra\\anaconda3\\lib\\site-packages (from langchain_community) (2.32.0)\n",
      "Requirement already satisfied: PyYAML>=5.3 in c:\\users\\yuvra\\anaconda3\\lib\\site-packages (from langchain_community) (6.0.1)\n",
      "Requirement already satisfied: aiohttp<4.0.0,>=3.8.3 in c:\\users\\yuvra\\anaconda3\\lib\\site-packages (from langchain_community) (3.10.5)\n",
      "Requirement already satisfied: tenacity!=8.4.0,<10,>=8.1.0 in c:\\users\\yuvra\\anaconda3\\lib\\site-packages (from langchain_community) (8.2.3)\n",
      "Requirement already satisfied: dataclasses-json<0.7,>=0.5.7 in c:\\users\\yuvra\\anaconda3\\lib\\site-packages (from langchain_community) (0.6.7)\n",
      "Requirement already satisfied: pydantic-settings<3.0.0,>=2.4.0 in c:\\users\\yuvra\\anaconda3\\lib\\site-packages (from langchain_community) (2.6.1)\n",
      "Requirement already satisfied: langsmith>=0.1.125 in c:\\users\\yuvra\\anaconda3\\lib\\site-packages (from langchain_community) (0.4.14)\n",
      "Requirement already satisfied: httpx-sse<1.0.0,>=0.4.0 in c:\\users\\yuvra\\anaconda3\\lib\\site-packages (from langchain_community) (0.4.1)\n",
      "Requirement already satisfied: numpy>=1.26.2 in c:\\users\\yuvra\\anaconda3\\lib\\site-packages (from langchain_community) (1.26.4)\n",
      "Requirement already satisfied: aiohappyeyeballs>=2.3.0 in c:\\users\\yuvra\\anaconda3\\lib\\site-packages (from aiohttp<4.0.0,>=3.8.3->langchain_community) (2.4.0)\n",
      "Requirement already satisfied: aiosignal>=1.1.2 in c:\\users\\yuvra\\anaconda3\\lib\\site-packages (from aiohttp<4.0.0,>=3.8.3->langchain_community) (1.2.0)\n",
      "Requirement already satisfied: attrs>=17.3.0 in c:\\users\\yuvra\\anaconda3\\lib\\site-packages (from aiohttp<4.0.0,>=3.8.3->langchain_community) (23.1.0)\n",
      "Requirement already satisfied: frozenlist>=1.1.1 in c:\\users\\yuvra\\anaconda3\\lib\\site-packages (from aiohttp<4.0.0,>=3.8.3->langchain_community) (1.4.0)\n",
      "Requirement already satisfied: multidict<7.0,>=4.5 in c:\\users\\yuvra\\anaconda3\\lib\\site-packages (from aiohttp<4.0.0,>=3.8.3->langchain_community) (6.0.4)\n",
      "Requirement already satisfied: yarl<2.0,>=1.0 in c:\\users\\yuvra\\anaconda3\\lib\\site-packages (from aiohttp<4.0.0,>=3.8.3->langchain_community) (1.11.0)\n",
      "Requirement already satisfied: marshmallow<4.0.0,>=3.18.0 in c:\\users\\yuvra\\anaconda3\\lib\\site-packages (from dataclasses-json<0.7,>=0.5.7->langchain_community) (3.26.1)\n",
      "Requirement already satisfied: typing-inspect<1,>=0.4.0 in c:\\users\\yuvra\\anaconda3\\lib\\site-packages (from dataclasses-json<0.7,>=0.5.7->langchain_community) (0.9.0)\n",
      "Requirement already satisfied: langchain-text-splitters<1.0.0,>=0.3.9 in c:\\users\\yuvra\\anaconda3\\lib\\site-packages (from langchain<1.0.0,>=0.3.26->langchain_community) (0.3.9)\n",
      "Requirement already satisfied: pydantic<3.0.0,>=2.7.4 in c:\\users\\yuvra\\anaconda3\\lib\\site-packages (from langchain<1.0.0,>=0.3.26->langchain_community) (2.8.2)\n",
      "Requirement already satisfied: jsonpatch<2.0,>=1.33 in c:\\users\\yuvra\\anaconda3\\lib\\site-packages (from langchain-core<1.0.0,>=0.3.66->langchain_community) (1.33)\n",
      "Requirement already satisfied: typing-extensions>=4.7 in c:\\users\\yuvra\\anaconda3\\lib\\site-packages (from langchain-core<1.0.0,>=0.3.66->langchain_community) (4.11.0)\n",
      "Requirement already satisfied: packaging>=23.2 in c:\\users\\yuvra\\anaconda3\\lib\\site-packages (from langchain-core<1.0.0,>=0.3.66->langchain_community) (23.2)\n",
      "Requirement already satisfied: httpx<1,>=0.23.0 in c:\\users\\yuvra\\anaconda3\\lib\\site-packages (from langsmith>=0.1.125->langchain_community) (0.27.0)\n",
      "Requirement already satisfied: orjson>=3.9.14 in c:\\users\\yuvra\\anaconda3\\lib\\site-packages (from langsmith>=0.1.125->langchain_community) (3.11.2)\n",
      "Requirement already satisfied: requests-toolbelt>=1.0.0 in c:\\users\\yuvra\\anaconda3\\lib\\site-packages (from langsmith>=0.1.125->langchain_community) (1.0.0)\n",
      "Requirement already satisfied: zstandard>=0.23.0 in c:\\users\\yuvra\\anaconda3\\lib\\site-packages (from langsmith>=0.1.125->langchain_community) (0.23.0)\n",
      "Requirement already satisfied: python-dotenv>=0.21.0 in c:\\users\\yuvra\\anaconda3\\lib\\site-packages (from pydantic-settings<3.0.0,>=2.4.0->langchain_community) (0.21.0)\n",
      "Requirement already satisfied: charset-normalizer<4,>=2 in c:\\users\\yuvra\\anaconda3\\lib\\site-packages (from requests<3,>=2->langchain_community) (3.3.2)\n",
      "Requirement already satisfied: idna<4,>=2.5 in c:\\users\\yuvra\\anaconda3\\lib\\site-packages (from requests<3,>=2->langchain_community) (3.7)\n",
      "Requirement already satisfied: urllib3<3,>=1.21.1 in c:\\users\\yuvra\\anaconda3\\lib\\site-packages (from requests<3,>=2->langchain_community) (2.2.3)\n",
      "Requirement already satisfied: certifi>=2017.4.17 in c:\\users\\yuvra\\anaconda3\\lib\\site-packages (from requests<3,>=2->langchain_community) (2025.4.26)\n",
      "Requirement already satisfied: greenlet!=0.4.17 in c:\\users\\yuvra\\anaconda3\\lib\\site-packages (from SQLAlchemy<3,>=1.4->langchain_community) (3.0.1)\n",
      "Requirement already satisfied: anyio in c:\\users\\yuvra\\anaconda3\\lib\\site-packages (from httpx<1,>=0.23.0->langsmith>=0.1.125->langchain_community) (4.2.0)\n",
      "Requirement already satisfied: httpcore==1.* in c:\\users\\yuvra\\anaconda3\\lib\\site-packages (from httpx<1,>=0.23.0->langsmith>=0.1.125->langchain_community) (1.0.2)\n",
      "Requirement already satisfied: sniffio in c:\\users\\yuvra\\anaconda3\\lib\\site-packages (from httpx<1,>=0.23.0->langsmith>=0.1.125->langchain_community) (1.3.0)\n",
      "Requirement already satisfied: h11<0.15,>=0.13 in c:\\users\\yuvra\\anaconda3\\lib\\site-packages (from httpcore==1.*->httpx<1,>=0.23.0->langsmith>=0.1.125->langchain_community) (0.14.0)\n",
      "Requirement already satisfied: jsonpointer>=1.9 in c:\\users\\yuvra\\anaconda3\\lib\\site-packages (from jsonpatch<2.0,>=1.33->langchain-core<1.0.0,>=0.3.66->langchain_community) (2.1)\n",
      "Requirement already satisfied: annotated-types>=0.4.0 in c:\\users\\yuvra\\anaconda3\\lib\\site-packages (from pydantic<3.0.0,>=2.7.4->langchain<1.0.0,>=0.3.26->langchain_community) (0.6.0)\n",
      "Requirement already satisfied: pydantic-core==2.20.1 in c:\\users\\yuvra\\anaconda3\\lib\\site-packages (from pydantic<3.0.0,>=2.7.4->langchain<1.0.0,>=0.3.26->langchain_community) (2.20.1)\n",
      "Requirement already satisfied: mypy-extensions>=0.3.0 in c:\\users\\yuvra\\anaconda3\\lib\\site-packages (from typing-inspect<1,>=0.4.0->dataclasses-json<0.7,>=0.5.7->langchain_community) (1.0.0)\n"
     ]
    }
   ],
   "source": [
    "!pip install langchain_community"
   ]
  },
  {
   "cell_type": "code",
   "execution_count": 4,
   "id": "b30f8cb1",
   "metadata": {},
   "outputs": [],
   "source": [
    "from langchain_community.document_loaders import TextLoader"
   ]
  },
  {
   "cell_type": "code",
   "execution_count": 5,
   "id": "fda7d32b",
   "metadata": {},
   "outputs": [
    {
     "data": {
      "text/plain": [
       "[Document(metadata={'source': 'simple.txt'}, page_content='Good evening, my friends.\\n\\nWe gather here tonight not as strangers, not as rivals, but as members of one human family, bound together by the simple belief that our best days are still ahead of us.\\n\\nNow, I know the road has been hard. Too many families are working longer hours just to get by. Too many young people wonder if their dreams are slipping out of reach. And too often, we hear voices of fear and division that tell us we’re better off apart than together.\\n\\nBut here’s the truth: America — and the world — has never moved forward because of fear. We move forward because of hope. We move forward because of the determination of ordinary men and women who refuse to quit, who refuse to give in to cynicism, who still believe that if we work together, there is nothing we cannot achieve.\\n\\nWe stand today at a crossroads. One path is easy — the path of blame, of anger, of looking backwards. The other is harder — the path of responsibility, of compassion, of building bridges instead of walls. That path demands something of us. It asks us to listen. To respect one another. To remember that we rise or fall, not as individuals alone, but as one people.')]"
      ]
     },
     "execution_count": 5,
     "metadata": {},
     "output_type": "execute_result"
    }
   ],
   "source": [
    "loader = TextLoader('simple.txt')\n",
    "text_documents = loader.load()\n",
    "text_documents"
   ]
  },
  {
   "cell_type": "code",
   "execution_count": 6,
   "id": "f4a162d0",
   "metadata": {},
   "outputs": [],
   "source": [
    "import os\n",
    "from dotenv import load_dotenv\n",
    "load_dotenv()\n",
    "\n",
    "os.environ['OPENAI_API_KEY'] = os.getenv('OPENAI_API_KEY')"
   ]
  },
  {
   "cell_type": "code",
   "execution_count": null,
   "id": "7934efae",
   "metadata": {},
   "outputs": [],
   "source": []
  },
  {
   "cell_type": "code",
   "execution_count": 7,
   "id": "e269ab4d",
   "metadata": {},
   "outputs": [
    {
     "name": "stderr",
     "output_type": "stream",
     "text": [
      "USER_AGENT environment variable not set, consider setting it to identify your requests.\n"
     ]
    }
   ],
   "source": [
    "import bs4\n",
    "from langchain_community.document_loaders import WebBaseLoader"
   ]
  },
  {
   "cell_type": "code",
   "execution_count": 8,
   "id": "bf699a39",
   "metadata": {},
   "outputs": [],
   "source": [
    "loader = WebBaseLoader(\n",
    "    web_path='https://www.adobe.com/uk/acrobat/resources/document-files/web-files/html.html'\n",
    "    ,bs_kwargs=dict(parse_only=bs4.SoupStrainer(\n",
    "        class_=('feds-localnav')\n",
    "                       )\n",
    "                   ), \n",
    "    )"
   ]
  },
  {
   "cell_type": "code",
   "execution_count": 3,
   "id": "04666d78",
   "metadata": {},
   "outputs": [
    {
     "name": "stdout",
     "output_type": "stream",
     "text": [
      "Collecting pypdf\n",
      "  Using cached pypdf-6.0.0-py3-none-any.whl.metadata (7.1 kB)\n",
      "Downloading pypdf-6.0.0-py3-none-any.whl (310 kB)\n",
      "Installing collected packages: pypdf\n",
      "Successfully installed pypdf-6.0.0\n"
     ]
    }
   ],
   "source": [
    "! pip install pypdf"
   ]
  },
  {
   "cell_type": "code",
   "execution_count": 4,
   "id": "e45de7b7",
   "metadata": {},
   "outputs": [
    {
     "data": {
      "text/plain": [
       "[Document(metadata={'producer': 'Canva', 'creator': 'Canva', 'creationdate': '2025-05-23T07:28:32+00:00', 'title': 'Black and White Simple Infographic Resume', 'moddate': '2025-05-23T07:28:32+00:00', 'keywords': 'DAGjwMknZFY,BAFNntE08XA,0', 'author': 'Yuvraj Tayal', 'source': './Resume-Yuvraj-Tayal.pdf', 'total_pages': 2, 'page': 0, 'page_label': '1'}, page_content='SUMMARY\\nSelf-taught Full-Stack Web Developer with a strong commitment to developing high-quality, efficient, and\\nuser-centric web applications. Demonstrates the ability to manage end-to-end development processes\\nindependently, with a focus on maintainability, scalability, and performance. Actively engaged in continuous\\nlearning and professional growth, with a disciplined approach to problem-solving and a deep interest in\\nemerging trends and best practices in web development.\\nYUVRAJ TAYAL\\nRishikesh, Uttarakhand | +91 -7451062733 | yuvrajtayal1202@gmail.com | Twitter | Github | LinkedIn \\nFULL-STACK WEB DEVELOPER\\n     TECHNICAL SKILLS\\nLanguages: JavaScript, TypeScript, Mongoose, HTML5, CSS3\\nFrontend: React.js, Next.js, Redux, Tailwind CSS, Bootstrap\\nBackend: Node.js, Express.js, Fastify, REST API, JWT (auth)\\nDatabases: MongoDB, PostgreSQL, Firebase, Sanity\\nDevOps: Vercel, Netlify, Github Actions, Render\\nTools: Git, Postman, VS Code, Figma, Swagger\\nMulti-User Notes App | Link\\nPersonal Project | May 2025  \\nDeveloped a multi-user note-taking application with React for the front-end and Firebase for\\nbackend services including authentication and real-time database.\\nImplemented user authentication allowing users to securely register, log in, and manage their\\npersonal notes.\\nDesigned a responsive UI with efficient state management to enable seamless note creation,\\nediting, and deletion.\\nEnsured data persistence and synchronization in real-time across devices using Firebase Firestore.\\n      PROJECTS\\nQuiz App | Link\\nPersonal Project | May 2025  \\nDeveloped an interactive quiz application using React that dynamically fetches questions and\\nanswers from external APIs.\\nCreated a clean and engaging UI with real-time score tracking and user feedback after each\\nquestion.\\nApplied asynchronous data handling and state management to deliver smooth and responsive user\\ninteractions.\\nFocused on modular, reusable components and clean code structure for easy maintenance and\\nscalability.\\nText Utils | Link\\nPersonal Project | April 2025  \\nDeveloped a utility web application to manipulate text with features like case conversion (uppercase,\\nlowercase, sentence case, title case), copy-paste functionality, and text editing.\\nImplemented local storage to save user input persistently across sessions.\\nIntegrated PDF generation for exporting edited text directly from the browser.\\nBuilt with React, focusing on a clean UI and efficient state management for seamless user\\nexperience.'),\n",
       " Document(metadata={'producer': 'Canva', 'creator': 'Canva', 'creationdate': '2025-05-23T07:28:32+00:00', 'title': 'Black and White Simple Infographic Resume', 'moddate': '2025-05-23T07:28:32+00:00', 'keywords': 'DAGjwMknZFY,BAFNntE08XA,0', 'author': 'Yuvraj Tayal', 'source': './Resume-Yuvraj-Tayal.pdf', 'total_pages': 2, 'page': 1, 'page_label': '2'}, page_content='Education: Currently pursuing high school education.\\nLanguages: Hindi | English\\nHobbies : Gym, Reading\\n     ADDITIONAL INFORMATION\\n     WEB DEV JOURNEY\\nI have recently embarked on my journey to become a full-stack web developer. As a self-taught learner, I am\\ncommitted to mastering both front-end and back-end development through consistent practice and hands-on\\nexploration. I maintain a public GitHub repository where I document my daily progress through logs, code\\nsnippets, and learning milestones. This journey reflects my dedication to continuous growth and my long-\\nterm goal of building real-world, pr oduction-ready applications\\nHere is the Link- Dev-learning-journey\\nInternship — Techno Hacks\\nApril 2025 - May 2025  \\nParticipated in a project-based internship focused on web development, where I designed,\\ndeveloped, and submitted multiple web applications.\\nGained hands-on experience in front-end and back-end development through real-world project\\nimplementation.\\nEnhanced skills in React, Firebase, API integration, and client-side state management by delivering\\nfunctional, user-focused projects.\\nDemonstrated discipline and initiative by consistently meeting project deadlines and applying best\\ncoding practices.\\n      TECHNICAL EXPERIENCE')]"
      ]
     },
     "execution_count": 4,
     "metadata": {},
     "output_type": "execute_result"
    }
   ],
   "source": [
    "from langchain_community.document_loaders import PyPDFLoader\n",
    "loader = PyPDFLoader(\"./Resume-Yuvraj-Tayal.pdf\")\n",
    "docs = loader.load_and_split()\n",
    "docs"
   ]
  },
  {
   "cell_type": "code",
   "execution_count": null,
   "id": "da04cfe5",
   "metadata": {},
   "outputs": [],
   "source": [
    "from langchain_community.document_loaders import PyPDFLoader\n",
    "\n",
    "file_path = \"./Resume-Yuvraj-Tayal.pdf\"\n",
    "loader = PyPDFLoader(file_path)\n",
    "\n",
    "docs = loader.load()\n",
    "docs[0]"
   ]
  },
  {
   "cell_type": "code",
   "execution_count": 5,
   "id": "39ff172d",
   "metadata": {},
   "outputs": [],
   "source": [
    "# Transforming"
   ]
  },
  {
   "cell_type": "code",
   "execution_count": null,
   "id": "58454b3c",
   "metadata": {},
   "outputs": [
    {
     "data": {
      "text/plain": [
       "[Document(metadata={'producer': 'Canva', 'creator': 'Canva', 'creationdate': '2025-05-23T07:28:32+00:00', 'title': 'Black and White Simple Infographic Resume', 'moddate': '2025-05-23T07:28:32+00:00', 'keywords': 'DAGjwMknZFY,BAFNntE08XA,0', 'author': 'Yuvraj Tayal', 'source': './Resume-Yuvraj-Tayal.pdf', 'total_pages': 2, 'page': 0, 'page_label': '1'}, page_content='SUMMARY\\nSelf-taught Full-Stack Web Developer with a strong commitment to developing high-quality, efficient, and\\nuser-centric web applications. Demonstrates the ability to manage end-to-end development processes\\nindependently, with a focus on maintainability, scalability, and performance. Actively engaged in continuous\\nlearning and professional growth, with a disciplined approach to problem-solving and a deep interest in\\nemerging trends and best practices in web development.\\nYUVRAJ TAYAL\\nRishikesh, Uttarakhand | +91 -7451062733 | yuvrajtayal1202@gmail.com | Twitter | Github | LinkedIn \\nFULL-STACK WEB DEVELOPER\\n     TECHNICAL SKILLS\\nLanguages: JavaScript, TypeScript, Mongoose, HTML5, CSS3\\nFrontend: React.js, Next.js, Redux, Tailwind CSS, Bootstrap\\nBackend: Node.js, Express.js, Fastify, REST API, JWT (auth)\\nDatabases: MongoDB, PostgreSQL, Firebase, Sanity\\nDevOps: Vercel, Netlify, Github Actions, Render\\nTools: Git, Postman, VS Code, Figma, Swagger\\nMulti-User Notes App | Link'),\n",
       " Document(metadata={'producer': 'Canva', 'creator': 'Canva', 'creationdate': '2025-05-23T07:28:32+00:00', 'title': 'Black and White Simple Infographic Resume', 'moddate': '2025-05-23T07:28:32+00:00', 'keywords': 'DAGjwMknZFY,BAFNntE08XA,0', 'author': 'Yuvraj Tayal', 'source': './Resume-Yuvraj-Tayal.pdf', 'total_pages': 2, 'page': 0, 'page_label': '1'}, page_content='Databases: MongoDB, PostgreSQL, Firebase, Sanity\\nDevOps: Vercel, Netlify, Github Actions, Render\\nTools: Git, Postman, VS Code, Figma, Swagger\\nMulti-User Notes App | Link\\nPersonal Project | May 2025  \\nDeveloped a multi-user note-taking application with React for the front-end and Firebase for\\nbackend services including authentication and real-time database.\\nImplemented user authentication allowing users to securely register, log in, and manage their\\npersonal notes.\\nDesigned a responsive UI with efficient state management to enable seamless note creation,\\nediting, and deletion.\\nEnsured data persistence and synchronization in real-time across devices using Firebase Firestore.\\n      PROJECTS\\nQuiz App | Link\\nPersonal Project | May 2025  \\nDeveloped an interactive quiz application using React that dynamically fetches questions and\\nanswers from external APIs.\\nCreated a clean and engaging UI with real-time score tracking and user feedback after each\\nquestion.'),\n",
       " Document(metadata={'producer': 'Canva', 'creator': 'Canva', 'creationdate': '2025-05-23T07:28:32+00:00', 'title': 'Black and White Simple Infographic Resume', 'moddate': '2025-05-23T07:28:32+00:00', 'keywords': 'DAGjwMknZFY,BAFNntE08XA,0', 'author': 'Yuvraj Tayal', 'source': './Resume-Yuvraj-Tayal.pdf', 'total_pages': 2, 'page': 0, 'page_label': '1'}, page_content='answers from external APIs.\\nCreated a clean and engaging UI with real-time score tracking and user feedback after each\\nquestion.\\nApplied asynchronous data handling and state management to deliver smooth and responsive user\\ninteractions.\\nFocused on modular, reusable components and clean code structure for easy maintenance and\\nscalability.\\nText Utils | Link\\nPersonal Project | April 2025  \\nDeveloped a utility web application to manipulate text with features like case conversion (uppercase,\\nlowercase, sentence case, title case), copy-paste functionality, and text editing.\\nImplemented local storage to save user input persistently across sessions.\\nIntegrated PDF generation for exporting edited text directly from the browser.\\nBuilt with React, focusing on a clean UI and efficient state management for seamless user\\nexperience.'),\n",
       " Document(metadata={'producer': 'Canva', 'creator': 'Canva', 'creationdate': '2025-05-23T07:28:32+00:00', 'title': 'Black and White Simple Infographic Resume', 'moddate': '2025-05-23T07:28:32+00:00', 'keywords': 'DAGjwMknZFY,BAFNntE08XA,0', 'author': 'Yuvraj Tayal', 'source': './Resume-Yuvraj-Tayal.pdf', 'total_pages': 2, 'page': 1, 'page_label': '2'}, page_content='Education: Currently pursuing high school education.\\nLanguages: Hindi | English\\nHobbies : Gym, Reading\\n     ADDITIONAL INFORMATION\\n     WEB DEV JOURNEY\\nI have recently embarked on my journey to become a full-stack web developer. As a self-taught learner, I am\\ncommitted to mastering both front-end and back-end development through consistent practice and hands-on\\nexploration. I maintain a public GitHub repository where I document my daily progress through logs, code\\nsnippets, and learning milestones. This journey reflects my dedication to continuous growth and my long-\\nterm goal of building real-world, pr oduction-ready applications\\nHere is the Link- Dev-learning-journey\\nInternship — Techno Hacks\\nApril 2025 - May 2025  \\nParticipated in a project-based internship focused on web development, where I designed,\\ndeveloped, and submitted multiple web applications.\\nGained hands-on experience in front-end and back-end development through real-world project\\nimplementation.'),\n",
       " Document(metadata={'producer': 'Canva', 'creator': 'Canva', 'creationdate': '2025-05-23T07:28:32+00:00', 'title': 'Black and White Simple Infographic Resume', 'moddate': '2025-05-23T07:28:32+00:00', 'keywords': 'DAGjwMknZFY,BAFNntE08XA,0', 'author': 'Yuvraj Tayal', 'source': './Resume-Yuvraj-Tayal.pdf', 'total_pages': 2, 'page': 1, 'page_label': '2'}, page_content='developed, and submitted multiple web applications.\\nGained hands-on experience in front-end and back-end development through real-world project\\nimplementation.\\nEnhanced skills in React, Firebase, API integration, and client-side state management by delivering\\nfunctional, user-focused projects.\\nDemonstrated discipline and initiative by consistently meeting project deadlines and applying best\\ncoding practices.\\n      TECHNICAL EXPERIENCE')]"
      ]
     },
     "execution_count": 10,
     "metadata": {},
     "output_type": "execute_result"
    }
   ],
   "source": [
    "from langchain.text_splitter import RecursiveCharacterTextSplitter\n",
    "text_splitter = RecursiveCharacterTextSplitter(chunk_size=1000, chunk_overlap=200)\n",
    "documents = text_splitter.split_documents(docs)\n",
    "documents[:5]"
   ]
  },
  {
   "cell_type": "code",
   "execution_count": 12,
   "id": "2c0be468",
   "metadata": {},
   "outputs": [
    {
     "name": "stdout",
     "output_type": "stream",
     "text": [
      "Collecting chromadb\n",
      "  Using cached chromadb-1.0.20-cp39-abi3-win_amd64.whl.metadata (7.4 kB)\n",
      "Collecting build>=1.0.3 (from chromadb)\n",
      "  Using cached build-1.3.0-py3-none-any.whl.metadata (5.6 kB)\n",
      "Requirement already satisfied: pydantic>=1.9 in c:\\users\\yuvra\\anaconda3\\lib\\site-packages (from chromadb) (2.8.2)\n",
      "Collecting pybase64>=1.4.1 (from chromadb)\n",
      "  Using cached pybase64-1.4.2-cp312-cp312-win_amd64.whl.metadata (9.0 kB)\n",
      "Requirement already satisfied: uvicorn>=0.18.3 in c:\\users\\yuvra\\anaconda3\\lib\\site-packages (from uvicorn[standard]>=0.18.3->chromadb) (0.35.0)\n",
      "Requirement already satisfied: numpy>=1.22.5 in c:\\users\\yuvra\\anaconda3\\lib\\site-packages (from chromadb) (1.26.4)\n",
      "Collecting posthog<6.0.0,>=2.4.0 (from chromadb)\n",
      "  Using cached posthog-5.4.0-py3-none-any.whl.metadata (5.7 kB)\n",
      "Requirement already satisfied: typing-extensions>=4.5.0 in c:\\users\\yuvra\\anaconda3\\lib\\site-packages (from chromadb) (4.11.0)\n",
      "Collecting onnxruntime>=1.14.1 (from chromadb)\n",
      "  Using cached onnxruntime-1.22.1-cp312-cp312-win_amd64.whl.metadata (5.1 kB)\n",
      "Collecting opentelemetry-api>=1.2.0 (from chromadb)\n",
      "  Using cached opentelemetry_api-1.36.0-py3-none-any.whl.metadata (1.5 kB)\n",
      "Collecting opentelemetry-exporter-otlp-proto-grpc>=1.2.0 (from chromadb)\n",
      "  Using cached opentelemetry_exporter_otlp_proto_grpc-1.36.0-py3-none-any.whl.metadata (2.4 kB)\n",
      "Collecting opentelemetry-sdk>=1.2.0 (from chromadb)\n",
      "  Using cached opentelemetry_sdk-1.36.0-py3-none-any.whl.metadata (1.5 kB)\n",
      "Requirement already satisfied: tokenizers>=0.13.2 in c:\\users\\yuvra\\anaconda3\\lib\\site-packages (from chromadb) (0.21.4)\n",
      "Collecting pypika>=0.48.9 (from chromadb)\n",
      "  Using cached PyPika-0.48.9.tar.gz (67 kB)\n",
      "  Installing build dependencies: started\n",
      "  Installing build dependencies: finished with status 'done'\n",
      "  Getting requirements to build wheel: started\n",
      "  Getting requirements to build wheel: finished with status 'done'\n",
      "  Preparing metadata (pyproject.toml): started\n",
      "  Preparing metadata (pyproject.toml): finished with status 'done'\n",
      "Requirement already satisfied: tqdm>=4.65.0 in c:\\users\\yuvra\\anaconda3\\lib\\site-packages (from chromadb) (4.66.5)\n",
      "Requirement already satisfied: overrides>=7.3.1 in c:\\users\\yuvra\\anaconda3\\lib\\site-packages (from chromadb) (7.4.0)\n",
      "Collecting importlib-resources (from chromadb)\n",
      "  Using cached importlib_resources-6.5.2-py3-none-any.whl.metadata (3.9 kB)\n",
      "Requirement already satisfied: grpcio>=1.58.0 in c:\\users\\yuvra\\anaconda3\\lib\\site-packages (from chromadb) (1.74.0)\n",
      "Collecting bcrypt>=4.0.1 (from chromadb)\n",
      "  Using cached bcrypt-4.3.0-cp39-abi3-win_amd64.whl.metadata (10 kB)\n",
      "Requirement already satisfied: typer>=0.9.0 in c:\\users\\yuvra\\anaconda3\\lib\\site-packages (from chromadb) (0.9.0)\n",
      "Collecting kubernetes>=28.1.0 (from chromadb)\n",
      "  Using cached kubernetes-33.1.0-py2.py3-none-any.whl.metadata (1.7 kB)\n",
      "Requirement already satisfied: tenacity>=8.2.3 in c:\\users\\yuvra\\anaconda3\\lib\\site-packages (from chromadb) (8.2.3)\n",
      "Requirement already satisfied: pyyaml>=6.0.0 in c:\\users\\yuvra\\anaconda3\\lib\\site-packages (from chromadb) (6.0.1)\n",
      "Collecting mmh3>=4.0.1 (from chromadb)\n",
      "  Using cached mmh3-5.2.0-cp312-cp312-win_amd64.whl.metadata (14 kB)\n",
      "Requirement already satisfied: orjson>=3.9.12 in c:\\users\\yuvra\\anaconda3\\lib\\site-packages (from chromadb) (3.11.2)\n",
      "Requirement already satisfied: httpx>=0.27.0 in c:\\users\\yuvra\\anaconda3\\lib\\site-packages (from chromadb) (0.27.0)\n",
      "Requirement already satisfied: rich>=10.11.0 in c:\\users\\yuvra\\anaconda3\\lib\\site-packages (from chromadb) (13.7.1)\n",
      "Requirement already satisfied: jsonschema>=4.19.0 in c:\\users\\yuvra\\anaconda3\\lib\\site-packages (from chromadb) (4.23.0)\n",
      "Requirement already satisfied: packaging>=19.1 in c:\\users\\yuvra\\anaconda3\\lib\\site-packages (from build>=1.0.3->chromadb) (23.2)\n",
      "Collecting pyproject_hooks (from build>=1.0.3->chromadb)\n",
      "  Downloading pyproject_hooks-1.2.0-py3-none-any.whl.metadata (1.3 kB)\n",
      "Requirement already satisfied: colorama in c:\\users\\yuvra\\anaconda3\\lib\\site-packages (from build>=1.0.3->chromadb) (0.4.6)\n",
      "Requirement already satisfied: anyio in c:\\users\\yuvra\\anaconda3\\lib\\site-packages (from httpx>=0.27.0->chromadb) (4.2.0)\n",
      "Requirement already satisfied: certifi in c:\\users\\yuvra\\anaconda3\\lib\\site-packages (from httpx>=0.27.0->chromadb) (2025.4.26)\n",
      "Requirement already satisfied: httpcore==1.* in c:\\users\\yuvra\\anaconda3\\lib\\site-packages (from httpx>=0.27.0->chromadb) (1.0.2)\n",
      "Requirement already satisfied: idna in c:\\users\\yuvra\\anaconda3\\lib\\site-packages (from httpx>=0.27.0->chromadb) (3.7)\n",
      "Requirement already satisfied: sniffio in c:\\users\\yuvra\\anaconda3\\lib\\site-packages (from httpx>=0.27.0->chromadb) (1.3.0)\n",
      "Requirement already satisfied: h11<0.15,>=0.13 in c:\\users\\yuvra\\anaconda3\\lib\\site-packages (from httpcore==1.*->httpx>=0.27.0->chromadb) (0.14.0)\n",
      "Requirement already satisfied: attrs>=22.2.0 in c:\\users\\yuvra\\anaconda3\\lib\\site-packages (from jsonschema>=4.19.0->chromadb) (23.1.0)\n",
      "Requirement already satisfied: jsonschema-specifications>=2023.03.6 in c:\\users\\yuvra\\anaconda3\\lib\\site-packages (from jsonschema>=4.19.0->chromadb) (2023.7.1)\n",
      "Requirement already satisfied: referencing>=0.28.4 in c:\\users\\yuvra\\anaconda3\\lib\\site-packages (from jsonschema>=4.19.0->chromadb) (0.30.2)\n",
      "Requirement already satisfied: rpds-py>=0.7.1 in c:\\users\\yuvra\\anaconda3\\lib\\site-packages (from jsonschema>=4.19.0->chromadb) (0.10.6)\n",
      "Requirement already satisfied: six>=1.9.0 in c:\\users\\yuvra\\anaconda3\\lib\\site-packages (from kubernetes>=28.1.0->chromadb) (1.16.0)\n",
      "Requirement already satisfied: python-dateutil>=2.5.3 in c:\\users\\yuvra\\anaconda3\\lib\\site-packages (from kubernetes>=28.1.0->chromadb) (2.9.0.post0)\n",
      "Collecting google-auth>=1.0.1 (from kubernetes>=28.1.0->chromadb)\n",
      "  Using cached google_auth-2.40.3-py2.py3-none-any.whl.metadata (6.2 kB)\n",
      "Requirement already satisfied: websocket-client!=0.40.0,!=0.41.*,!=0.42.*,>=0.32.0 in c:\\users\\yuvra\\anaconda3\\lib\\site-packages (from kubernetes>=28.1.0->chromadb) (1.8.0)\n",
      "Requirement already satisfied: requests in c:\\users\\yuvra\\anaconda3\\lib\\site-packages (from kubernetes>=28.1.0->chromadb) (2.32.0)\n",
      "Collecting requests-oauthlib (from kubernetes>=28.1.0->chromadb)\n",
      "  Using cached requests_oauthlib-2.0.0-py2.py3-none-any.whl.metadata (11 kB)\n",
      "Collecting oauthlib>=3.2.2 (from kubernetes>=28.1.0->chromadb)\n",
      "  Using cached oauthlib-3.3.1-py3-none-any.whl.metadata (7.9 kB)\n",
      "Requirement already satisfied: urllib3>=1.24.2 in c:\\users\\yuvra\\anaconda3\\lib\\site-packages (from kubernetes>=28.1.0->chromadb) (2.2.3)\n",
      "Collecting durationpy>=0.7 (from kubernetes>=28.1.0->chromadb)\n",
      "  Downloading durationpy-0.10-py3-none-any.whl.metadata (340 bytes)\n",
      "Collecting coloredlogs (from onnxruntime>=1.14.1->chromadb)\n",
      "  Downloading coloredlogs-15.0.1-py2.py3-none-any.whl.metadata (12 kB)\n",
      "Requirement already satisfied: flatbuffers in c:\\users\\yuvra\\anaconda3\\lib\\site-packages (from onnxruntime>=1.14.1->chromadb) (25.2.10)\n",
      "Requirement already satisfied: protobuf in c:\\users\\yuvra\\anaconda3\\lib\\site-packages (from onnxruntime>=1.14.1->chromadb) (4.25.3)\n",
      "Requirement already satisfied: sympy in c:\\users\\yuvra\\anaconda3\\lib\\site-packages (from onnxruntime>=1.14.1->chromadb) (1.13.2)\n",
      "Requirement already satisfied: importlib-metadata<8.8.0,>=6.0 in c:\\users\\yuvra\\anaconda3\\lib\\site-packages (from opentelemetry-api>=1.2.0->chromadb) (6.11.0)\n",
      "Collecting googleapis-common-protos~=1.57 (from opentelemetry-exporter-otlp-proto-grpc>=1.2.0->chromadb)\n",
      "  Downloading googleapis_common_protos-1.70.0-py3-none-any.whl.metadata (9.3 kB)\n",
      "Collecting opentelemetry-exporter-otlp-proto-common==1.36.0 (from opentelemetry-exporter-otlp-proto-grpc>=1.2.0->chromadb)\n",
      "  Downloading opentelemetry_exporter_otlp_proto_common-1.36.0-py3-none-any.whl.metadata (1.8 kB)\n",
      "Collecting opentelemetry-proto==1.36.0 (from opentelemetry-exporter-otlp-proto-grpc>=1.2.0->chromadb)\n",
      "  Downloading opentelemetry_proto-1.36.0-py3-none-any.whl.metadata (2.3 kB)\n",
      "Collecting protobuf (from onnxruntime>=1.14.1->chromadb)\n",
      "  Using cached protobuf-6.32.0-cp310-abi3-win_amd64.whl.metadata (593 bytes)\n",
      "Collecting opentelemetry-semantic-conventions==0.57b0 (from opentelemetry-sdk>=1.2.0->chromadb)\n",
      "  Downloading opentelemetry_semantic_conventions-0.57b0-py3-none-any.whl.metadata (2.4 kB)\n",
      "Collecting backoff>=1.10.0 (from posthog<6.0.0,>=2.4.0->chromadb)\n",
      "  Using cached backoff-2.2.1-py3-none-any.whl.metadata (14 kB)\n",
      "Requirement already satisfied: distro>=1.5.0 in c:\\users\\yuvra\\anaconda3\\lib\\site-packages (from posthog<6.0.0,>=2.4.0->chromadb) (1.9.0)\n",
      "Requirement already satisfied: annotated-types>=0.4.0 in c:\\users\\yuvra\\anaconda3\\lib\\site-packages (from pydantic>=1.9->chromadb) (0.6.0)\n",
      "Requirement already satisfied: pydantic-core==2.20.1 in c:\\users\\yuvra\\anaconda3\\lib\\site-packages (from pydantic>=1.9->chromadb) (2.20.1)\n",
      "Requirement already satisfied: markdown-it-py>=2.2.0 in c:\\users\\yuvra\\anaconda3\\lib\\site-packages (from rich>=10.11.0->chromadb) (2.2.0)\n",
      "Requirement already satisfied: pygments<3.0.0,>=2.13.0 in c:\\users\\yuvra\\anaconda3\\lib\\site-packages (from rich>=10.11.0->chromadb) (2.15.1)\n",
      "Requirement already satisfied: huggingface-hub<1.0,>=0.16.4 in c:\\users\\yuvra\\anaconda3\\lib\\site-packages (from tokenizers>=0.13.2->chromadb) (0.34.4)\n",
      "Requirement already satisfied: click<9.0.0,>=7.1.1 in c:\\users\\yuvra\\anaconda3\\lib\\site-packages (from typer>=0.9.0->chromadb) (8.1.7)\n",
      "Collecting httptools>=0.6.3 (from uvicorn[standard]>=0.18.3->chromadb)\n",
      "  Downloading httptools-0.6.4-cp312-cp312-win_amd64.whl.metadata (3.7 kB)\n",
      "Requirement already satisfied: python-dotenv>=0.13 in c:\\users\\yuvra\\anaconda3\\lib\\site-packages (from uvicorn[standard]>=0.18.3->chromadb) (0.21.0)\n",
      "Collecting watchfiles>=0.13 (from uvicorn[standard]>=0.18.3->chromadb)\n",
      "  Downloading watchfiles-1.1.0-cp312-cp312-win_amd64.whl.metadata (5.0 kB)\n",
      "Collecting websockets>=10.4 (from uvicorn[standard]>=0.18.3->chromadb)\n",
      "  Downloading websockets-15.0.1-cp312-cp312-win_amd64.whl.metadata (7.0 kB)\n",
      "Requirement already satisfied: cachetools<6.0,>=2.0.0 in c:\\users\\yuvra\\anaconda3\\lib\\site-packages (from google-auth>=1.0.1->kubernetes>=28.1.0->chromadb) (5.3.3)\n",
      "Requirement already satisfied: pyasn1-modules>=0.2.1 in c:\\users\\yuvra\\anaconda3\\lib\\site-packages (from google-auth>=1.0.1->kubernetes>=28.1.0->chromadb) (0.2.8)\n",
      "Collecting rsa<5,>=3.1.4 (from google-auth>=1.0.1->kubernetes>=28.1.0->chromadb)\n",
      "  Using cached rsa-4.9.1-py3-none-any.whl.metadata (5.6 kB)\n",
      "Requirement already satisfied: filelock in c:\\users\\yuvra\\anaconda3\\lib\\site-packages (from huggingface-hub<1.0,>=0.16.4->tokenizers>=0.13.2->chromadb) (3.13.1)\n",
      "Requirement already satisfied: fsspec>=2023.5.0 in c:\\users\\yuvra\\anaconda3\\lib\\site-packages (from huggingface-hub<1.0,>=0.16.4->tokenizers>=0.13.2->chromadb) (2024.6.1)\n",
      "Requirement already satisfied: zipp>=0.5 in c:\\users\\yuvra\\anaconda3\\lib\\site-packages (from importlib-metadata<8.8.0,>=6.0->opentelemetry-api>=1.2.0->chromadb) (3.17.0)\n",
      "Requirement already satisfied: mdurl~=0.1 in c:\\users\\yuvra\\anaconda3\\lib\\site-packages (from markdown-it-py>=2.2.0->rich>=10.11.0->chromadb) (0.1.0)\n",
      "Requirement already satisfied: charset-normalizer<4,>=2 in c:\\users\\yuvra\\anaconda3\\lib\\site-packages (from requests->kubernetes>=28.1.0->chromadb) (3.3.2)\n",
      "Collecting humanfriendly>=9.1 (from coloredlogs->onnxruntime>=1.14.1->chromadb)\n",
      "  Downloading humanfriendly-10.0-py2.py3-none-any.whl.metadata (9.2 kB)\n",
      "Requirement already satisfied: mpmath<1.4,>=1.1.0 in c:\\users\\yuvra\\anaconda3\\lib\\site-packages (from sympy->onnxruntime>=1.14.1->chromadb) (1.3.0)\n",
      "Collecting pyreadline3 (from humanfriendly>=9.1->coloredlogs->onnxruntime>=1.14.1->chromadb)\n",
      "  Downloading pyreadline3-3.5.4-py3-none-any.whl.metadata (4.7 kB)\n",
      "Requirement already satisfied: pyasn1<0.5.0,>=0.4.6 in c:\\users\\yuvra\\anaconda3\\lib\\site-packages (from pyasn1-modules>=0.2.1->google-auth>=1.0.1->kubernetes>=28.1.0->chromadb) (0.4.8)\n",
      "Downloading chromadb-1.0.20-cp39-abi3-win_amd64.whl (19.8 MB)\n",
      "   ---------------------------------------- 0.0/19.8 MB ? eta -:--:--\n",
      "    --------------------------------------- 0.3/19.8 MB ? eta -:--:--\n",
      "   - -------------------------------------- 0.8/19.8 MB 2.2 MB/s eta 0:00:09\n",
      "   -- ------------------------------------- 1.3/19.8 MB 2.0 MB/s eta 0:00:10\n",
      "   --- ------------------------------------ 1.6/19.8 MB 2.0 MB/s eta 0:00:10\n",
      "   --- ------------------------------------ 1.8/19.8 MB 1.9 MB/s eta 0:00:10\n",
      "   ---- ----------------------------------- 2.1/19.8 MB 1.9 MB/s eta 0:00:10\n",
      "   ----- ---------------------------------- 2.6/19.8 MB 1.8 MB/s eta 0:00:10\n",
      "   ----- ---------------------------------- 2.6/19.8 MB 1.8 MB/s eta 0:00:10\n",
      "   ----- ---------------------------------- 2.9/19.8 MB 1.6 MB/s eta 0:00:11\n",
      "   ------ --------------------------------- 3.1/19.8 MB 1.6 MB/s eta 0:00:11\n",
      "   ------ --------------------------------- 3.4/19.8 MB 1.5 MB/s eta 0:00:11\n",
      "   ------- -------------------------------- 3.7/19.8 MB 1.5 MB/s eta 0:00:11\n",
      "   ------- -------------------------------- 3.9/19.8 MB 1.5 MB/s eta 0:00:11\n",
      "   ------- -------------------------------- 3.9/19.8 MB 1.5 MB/s eta 0:00:11\n",
      "   ------- -------------------------------- 3.9/19.8 MB 1.5 MB/s eta 0:00:11\n",
      "   -------- ------------------------------- 4.2/19.8 MB 1.2 MB/s eta 0:00:13\n",
      "   -------- ------------------------------- 4.2/19.8 MB 1.2 MB/s eta 0:00:13\n",
      "   -------- ------------------------------- 4.2/19.8 MB 1.2 MB/s eta 0:00:13\n",
      "   --------- ------------------------------ 4.5/19.8 MB 1.1 MB/s eta 0:00:14\n",
      "   --------- ------------------------------ 4.5/19.8 MB 1.1 MB/s eta 0:00:14\n",
      "   --------- ------------------------------ 4.5/19.8 MB 1.1 MB/s eta 0:00:14\n",
      "   --------- ------------------------------ 4.5/19.8 MB 1.1 MB/s eta 0:00:14\n",
      "   --------- ------------------------------ 4.7/19.8 MB 983.5 kB/s eta 0:00:16\n",
      "   --------- ------------------------------ 4.7/19.8 MB 983.5 kB/s eta 0:00:16\n",
      "   --------- ------------------------------ 4.7/19.8 MB 983.5 kB/s eta 0:00:16\n",
      "   ---------- ----------------------------- 5.0/19.8 MB 888.1 kB/s eta 0:00:17\n",
      "   ---------- ----------------------------- 5.0/19.8 MB 888.1 kB/s eta 0:00:17\n",
      "   ---------- ----------------------------- 5.0/19.8 MB 888.1 kB/s eta 0:00:17\n",
      "   ---------- ----------------------------- 5.0/19.8 MB 888.1 kB/s eta 0:00:17\n",
      "   ---------- ----------------------------- 5.2/19.8 MB 817.3 kB/s eta 0:00:18\n",
      "   ---------- ----------------------------- 5.2/19.8 MB 817.3 kB/s eta 0:00:18\n",
      "   ----------- ---------------------------- 5.5/19.8 MB 812.5 kB/s eta 0:00:18\n",
      "   ----------- ---------------------------- 5.8/19.8 MB 821.3 kB/s eta 0:00:18\n",
      "   ------------ --------------------------- 6.0/19.8 MB 829.5 kB/s eta 0:00:17\n",
      "   ------------ --------------------------- 6.0/19.8 MB 829.5 kB/s eta 0:00:17\n",
      "   ------------ --------------------------- 6.3/19.8 MB 822.8 kB/s eta 0:00:17\n",
      "   ------------ --------------------------- 6.3/19.8 MB 822.8 kB/s eta 0:00:17\n",
      "   ------------ --------------------------- 6.3/19.8 MB 822.8 kB/s eta 0:00:17\n",
      "   ------------- -------------------------- 6.6/19.8 MB 784.9 kB/s eta 0:00:17\n",
      "   ------------- -------------------------- 6.6/19.8 MB 784.9 kB/s eta 0:00:17\n",
      "   ------------- -------------------------- 6.6/19.8 MB 784.9 kB/s eta 0:00:17\n",
      "   ------------- -------------------------- 6.6/19.8 MB 784.9 kB/s eta 0:00:17\n",
      "   ------------- -------------------------- 6.8/19.8 MB 753.0 kB/s eta 0:00:18\n",
      "   -------------- ------------------------- 7.1/19.8 MB 753.4 kB/s eta 0:00:17\n",
      "   -------------- ------------------------- 7.1/19.8 MB 753.4 kB/s eta 0:00:17\n",
      "   -------------- ------------------------- 7.1/19.8 MB 753.4 kB/s eta 0:00:17\n",
      "   -------------- ------------------------- 7.3/19.8 MB 739.0 kB/s eta 0:00:17\n",
      "   -------------- ------------------------- 7.3/19.8 MB 739.0 kB/s eta 0:00:17\n",
      "   --------------- ------------------------ 7.6/19.8 MB 728.3 kB/s eta 0:00:17\n",
      "   --------------- ------------------------ 7.9/19.8 MB 740.5 kB/s eta 0:00:17\n",
      "   ---------------- ----------------------- 8.1/19.8 MB 753.4 kB/s eta 0:00:16\n",
      "   ---------------- ----------------------- 8.1/19.8 MB 753.4 kB/s eta 0:00:16\n",
      "   ---------------- ----------------------- 8.4/19.8 MB 754.8 kB/s eta 0:00:16\n",
      "   ----------------- ---------------------- 8.7/19.8 MB 762.6 kB/s eta 0:00:15\n",
      "   ------------------ --------------------- 8.9/19.8 MB 769.0 kB/s eta 0:00:15\n",
      "   ------------------ --------------------- 9.2/19.8 MB 778.2 kB/s eta 0:00:14\n",
      "   ------------------- -------------------- 9.7/19.8 MB 798.9 kB/s eta 0:00:13\n",
      "   ------------------- -------------------- 9.7/19.8 MB 798.9 kB/s eta 0:00:13\n",
      "   ------------------- -------------------- 9.7/19.8 MB 798.9 kB/s eta 0:00:13\n",
      "   -------------------- ------------------- 10.0/19.8 MB 787.7 kB/s eta 0:00:13\n",
      "   -------------------- ------------------- 10.2/19.8 MB 793.9 kB/s eta 0:00:13\n",
      "   --------------------- ------------------ 10.7/19.8 MB 817.4 kB/s eta 0:00:12\n",
      "   ---------------------- ----------------- 11.3/19.8 MB 843.9 kB/s eta 0:00:11\n",
      "   ----------------------- ---------------- 11.5/19.8 MB 850.7 kB/s eta 0:00:10\n",
      "   ----------------------- ---------------- 11.8/19.8 MB 860.4 kB/s eta 0:00:10\n",
      "   ------------------------ --------------- 12.1/19.8 MB 864.8 kB/s eta 0:00:09\n",
      "   ------------------------ --------------- 12.3/19.8 MB 874.0 kB/s eta 0:00:09\n",
      "   ------------------------- -------------- 12.6/19.8 MB 875.2 kB/s eta 0:00:09\n",
      "   ------------------------- -------------- 12.8/19.8 MB 882.0 kB/s eta 0:00:08\n",
      "   -------------------------- ------------- 13.1/19.8 MB 890.7 kB/s eta 0:00:08\n",
      "   --------------------------- ------------ 13.4/19.8 MB 891.5 kB/s eta 0:00:08\n",
      "   --------------------------- ------------ 13.6/19.8 MB 895.9 kB/s eta 0:00:07\n",
      "   --------------------------- ------------ 13.6/19.8 MB 895.9 kB/s eta 0:00:07\n",
      "   ---------------------------- ----------- 13.9/19.8 MB 897.5 kB/s eta 0:00:07\n",
      "   ---------------------------- ----------- 14.2/19.8 MB 900.9 kB/s eta 0:00:07\n",
      "   ----------------------------- ---------- 14.7/19.8 MB 919.0 kB/s eta 0:00:06\n",
      "   ------------------------------ --------- 14.9/19.8 MB 923.8 kB/s eta 0:00:06\n",
      "   ------------------------------ --------- 15.2/19.8 MB 924.0 kB/s eta 0:00:05\n",
      "   ------------------------------ --------- 15.2/19.8 MB 924.0 kB/s eta 0:00:05\n",
      "   ------------------------------- -------- 15.5/19.8 MB 923.2 kB/s eta 0:00:05\n",
      "   ------------------------------- -------- 15.7/19.8 MB 927.7 kB/s eta 0:00:05\n",
      "   -------------------------------- ------- 16.0/19.8 MB 933.8 kB/s eta 0:00:05\n",
      "   -------------------------------- ------- 16.3/19.8 MB 931.2 kB/s eta 0:00:04\n",
      "   --------------------------------- ------ 16.5/19.8 MB 938.8 kB/s eta 0:00:04\n",
      "   --------------------------------- ------ 16.8/19.8 MB 942.0 kB/s eta 0:00:04\n",
      "   ---------------------------------- ----- 17.0/19.8 MB 946.0 kB/s eta 0:00:03\n",
      "   ----------------------------------- ---- 17.6/19.8 MB 961.2 kB/s eta 0:00:03\n",
      "   ----------------------------------- ---- 17.6/19.8 MB 961.2 kB/s eta 0:00:03\n",
      "   ------------------------------------ --- 17.8/19.8 MB 950.2 kB/s eta 0:00:03\n",
      "   ------------------------------------ --- 17.8/19.8 MB 950.2 kB/s eta 0:00:03\n",
      "   ------------------------------------ --- 18.1/19.8 MB 945.2 kB/s eta 0:00:02\n",
      "   ------------------------------------ --- 18.1/19.8 MB 945.2 kB/s eta 0:00:02\n",
      "   ------------------------------------- -- 18.4/19.8 MB 943.5 kB/s eta 0:00:02\n",
      "   ------------------------------------- -- 18.6/19.8 MB 938.8 kB/s eta 0:00:02\n",
      "   -------------------------------------- - 18.9/19.8 MB 943.2 kB/s eta 0:00:01\n",
      "   -------------------------------------- - 18.9/19.8 MB 943.2 kB/s eta 0:00:01\n",
      "   -------------------------------------- - 18.9/19.8 MB 943.2 kB/s eta 0:00:01\n",
      "   -------------------------------------- - 18.9/19.8 MB 943.2 kB/s eta 0:00:01\n",
      "   -------------------------------------- - 18.9/19.8 MB 943.2 kB/s eta 0:00:01\n",
      "   -------------------------------------- - 18.9/19.8 MB 943.2 kB/s eta 0:00:01\n",
      "   -------------------------------------- - 18.9/19.8 MB 943.2 kB/s eta 0:00:01\n",
      "   -------------------------------------- - 19.1/19.8 MB 894.1 kB/s eta 0:00:01\n",
      "   -------------------------------------- - 19.1/19.8 MB 894.1 kB/s eta 0:00:01\n",
      "   -------------------------------------- - 19.1/19.8 MB 894.1 kB/s eta 0:00:01\n",
      "   -------------------------------------- - 19.1/19.8 MB 894.1 kB/s eta 0:00:01\n",
      "   -------------------------------------- - 19.1/19.8 MB 894.1 kB/s eta 0:00:01\n",
      "   ---------------------------------------  19.4/19.8 MB 866.1 kB/s eta 0:00:01\n",
      "   ---------------------------------------  19.4/19.8 MB 866.1 kB/s eta 0:00:01\n",
      "   ---------------------------------------  19.4/19.8 MB 866.1 kB/s eta 0:00:01\n",
      "   ---------------------------------------  19.4/19.8 MB 866.1 kB/s eta 0:00:01\n",
      "   ---------------------------------------  19.7/19.8 MB 846.9 kB/s eta 0:00:01\n",
      "   ---------------------------------------  19.7/19.8 MB 846.9 kB/s eta 0:00:01\n",
      "   ---------------------------------------- 19.8/19.8 MB 832.2 kB/s eta 0:00:00\n",
      "Downloading bcrypt-4.3.0-cp39-abi3-win_amd64.whl (152 kB)\n",
      "Downloading build-1.3.0-py3-none-any.whl (23 kB)\n",
      "Downloading kubernetes-33.1.0-py2.py3-none-any.whl (1.9 MB)\n",
      "   ---------------------------------------- 0.0/1.9 MB ? eta -:--:--\n",
      "   ---------------------------------------- 0.0/1.9 MB ? eta -:--:--\n",
      "   ---------------------------------------- 0.0/1.9 MB ? eta -:--:--\n",
      "   ----- ---------------------------------- 0.3/1.9 MB ? eta -:--:--\n",
      "   ---------- ----------------------------- 0.5/1.9 MB 1.1 MB/s eta 0:00:02\n",
      "   ---------- ----------------------------- 0.5/1.9 MB 1.1 MB/s eta 0:00:02\n",
      "   ---------------- ----------------------- 0.8/1.9 MB 780.2 kB/s eta 0:00:02\n",
      "   ---------------- ----------------------- 0.8/1.9 MB 780.2 kB/s eta 0:00:02\n",
      "   ---------------- ----------------------- 0.8/1.9 MB 780.2 kB/s eta 0:00:02\n",
      "   --------------------- ------------------ 1.0/1.9 MB 689.2 kB/s eta 0:00:02\n",
      "   --------------------------- ------------ 1.3/1.9 MB 753.8 kB/s eta 0:00:01\n",
      "   -------------------------------- ------- 1.6/1.9 MB 798.7 kB/s eta 0:00:01\n",
      "   ------------------------------------- -- 1.8/1.9 MB 804.9 kB/s eta 0:00:01\n",
      "   ---------------------------------------- 1.9/1.9 MB 790.2 kB/s eta 0:00:00\n",
      "Downloading mmh3-5.2.0-cp312-cp312-win_amd64.whl (41 kB)\n",
      "Downloading onnxruntime-1.22.1-cp312-cp312-win_amd64.whl (12.7 MB)\n",
      "   ---------------------------------------- 0.0/12.7 MB ? eta -:--:--\n",
      "   ---------------------------------------- 0.0/12.7 MB ? eta -:--:--\n",
      "    --------------------------------------- 0.3/12.7 MB ? eta -:--:--\n",
      "   - -------------------------------------- 0.5/12.7 MB 1.0 MB/s eta 0:00:12\n",
      "   - -------------------------------------- 0.5/12.7 MB 1.0 MB/s eta 0:00:12\n",
      "   -- ------------------------------------- 0.8/12.7 MB 882.6 kB/s eta 0:00:14\n",
      "   -- ------------------------------------- 0.8/12.7 MB 882.6 kB/s eta 0:00:14\n",
      "   --- ------------------------------------ 1.0/12.7 MB 825.2 kB/s eta 0:00:15\n",
      "   ----- ---------------------------------- 1.8/12.7 MB 1.2 MB/s eta 0:00:10\n",
      "   ------ --------------------------------- 2.1/12.7 MB 1.2 MB/s eta 0:00:09\n",
      "   -------- ------------------------------- 2.6/12.7 MB 1.4 MB/s eta 0:00:08\n",
      "   ---------- ----------------------------- 3.4/12.7 MB 1.6 MB/s eta 0:00:06\n",
      "   ----------- ---------------------------- 3.7/12.7 MB 1.7 MB/s eta 0:00:06\n",
      "   ------------- -------------------------- 4.2/12.7 MB 1.7 MB/s eta 0:00:05\n",
      "   --------------- ------------------------ 5.0/12.7 MB 1.8 MB/s eta 0:00:05\n",
      "   ----------------- ---------------------- 5.5/12.7 MB 1.9 MB/s eta 0:00:04\n",
      "   ------------------ --------------------- 5.8/12.7 MB 1.9 MB/s eta 0:00:04\n",
      "   ------------------- -------------------- 6.3/12.7 MB 1.9 MB/s eta 0:00:04\n",
      "   -------------------- ------------------- 6.6/12.7 MB 1.9 MB/s eta 0:00:04\n",
      "   ----------------------- ---------------- 7.3/12.7 MB 2.0 MB/s eta 0:00:03\n",
      "   ----------------------- ---------------- 7.6/12.7 MB 2.0 MB/s eta 0:00:03\n",
      "   ------------------------- -------------- 8.1/12.7 MB 2.0 MB/s eta 0:00:03\n",
      "   --------------------------- ------------ 8.7/12.7 MB 2.0 MB/s eta 0:00:03\n",
      "   ---------------------------- ----------- 9.2/12.7 MB 2.0 MB/s eta 0:00:02\n",
      "   ------------------------------ --------- 9.7/12.7 MB 2.0 MB/s eta 0:00:02\n",
      "   -------------------------------- ------- 10.2/12.7 MB 2.1 MB/s eta 0:00:02\n",
      "   --------------------------------- ------ 10.5/12.7 MB 2.1 MB/s eta 0:00:02\n",
      "   ----------------------------------- ---- 11.3/12.7 MB 2.1 MB/s eta 0:00:01\n",
      "   ------------------------------------ --- 11.5/12.7 MB 2.0 MB/s eta 0:00:01\n",
      "   -------------------------------------- - 12.1/12.7 MB 2.1 MB/s eta 0:00:01\n",
      "   ---------------------------------------  12.6/12.7 MB 2.1 MB/s eta 0:00:01\n",
      "   ---------------------------------------- 12.7/12.7 MB 2.1 MB/s eta 0:00:00\n",
      "Downloading opentelemetry_api-1.36.0-py3-none-any.whl (65 kB)\n",
      "Downloading opentelemetry_exporter_otlp_proto_grpc-1.36.0-py3-none-any.whl (18 kB)\n",
      "Downloading opentelemetry_exporter_otlp_proto_common-1.36.0-py3-none-any.whl (18 kB)\n",
      "Downloading opentelemetry_proto-1.36.0-py3-none-any.whl (72 kB)\n",
      "Downloading opentelemetry_sdk-1.36.0-py3-none-any.whl (119 kB)\n",
      "Downloading opentelemetry_semantic_conventions-0.57b0-py3-none-any.whl (201 kB)\n",
      "Downloading posthog-5.4.0-py3-none-any.whl (105 kB)\n",
      "Downloading pybase64-1.4.2-cp312-cp312-win_amd64.whl (35 kB)\n",
      "Using cached importlib_resources-6.5.2-py3-none-any.whl (37 kB)\n",
      "Downloading backoff-2.2.1-py3-none-any.whl (15 kB)\n",
      "Downloading durationpy-0.10-py3-none-any.whl (3.9 kB)\n",
      "Using cached google_auth-2.40.3-py2.py3-none-any.whl (216 kB)\n",
      "Downloading googleapis_common_protos-1.70.0-py3-none-any.whl (294 kB)\n",
      "Downloading httptools-0.6.4-cp312-cp312-win_amd64.whl (88 kB)\n",
      "Using cached oauthlib-3.3.1-py3-none-any.whl (160 kB)\n",
      "Using cached protobuf-6.32.0-cp310-abi3-win_amd64.whl (435 kB)\n",
      "Downloading watchfiles-1.1.0-cp312-cp312-win_amd64.whl (292 kB)\n",
      "Downloading websockets-15.0.1-cp312-cp312-win_amd64.whl (176 kB)\n",
      "Downloading coloredlogs-15.0.1-py2.py3-none-any.whl (46 kB)\n",
      "Downloading pyproject_hooks-1.2.0-py3-none-any.whl (10 kB)\n",
      "Using cached requests_oauthlib-2.0.0-py2.py3-none-any.whl (24 kB)\n",
      "Downloading humanfriendly-10.0-py2.py3-none-any.whl (86 kB)\n",
      "Using cached rsa-4.9.1-py3-none-any.whl (34 kB)\n",
      "Downloading pyreadline3-3.5.4-py3-none-any.whl (83 kB)\n",
      "Building wheels for collected packages: pypika\n",
      "  Building wheel for pypika (pyproject.toml): started\n",
      "  Building wheel for pypika (pyproject.toml): finished with status 'done'\n",
      "  Created wheel for pypika: filename=pypika-0.48.9-py2.py3-none-any.whl size=53916 sha256=1e46eea43cca6ff7de441b0cb23760a8e859031d3fe8d2a0c0465dc201fb050c\n",
      "  Stored in directory: c:\\users\\yuvra\\appdata\\local\\pip\\cache\\wheels\\d5\\3d\\69\\8d68d249cd3de2584f226e27fd431d6344f7d70fd856ebd01b\n",
      "Successfully built pypika\n",
      "Installing collected packages: pypika, durationpy, websockets, rsa, pyreadline3, pyproject_hooks, pybase64, protobuf, oauthlib, mmh3, importlib-resources, httptools, bcrypt, backoff, watchfiles, requests-oauthlib, posthog, opentelemetry-proto, opentelemetry-api, humanfriendly, googleapis-common-protos, google-auth, build, opentelemetry-semantic-conventions, opentelemetry-exporter-otlp-proto-common, kubernetes, coloredlogs, opentelemetry-sdk, onnxruntime, opentelemetry-exporter-otlp-proto-grpc, chromadb\n",
      "  Attempting uninstall: protobuf\n",
      "    Found existing installation: protobuf 4.25.3\n",
      "    Uninstalling protobuf-4.25.3:\n",
      "      Successfully uninstalled protobuf-4.25.3\n",
      "  Attempting uninstall: bcrypt\n",
      "    Found existing installation: bcrypt 3.2.0\n",
      "    Uninstalling bcrypt-3.2.0:\n",
      "      Successfully uninstalled bcrypt-3.2.0\n",
      "Successfully installed backoff-2.2.1 bcrypt-4.3.0 build-1.3.0 chromadb-1.0.20 coloredlogs-15.0.1 durationpy-0.10 google-auth-2.40.3 googleapis-common-protos-1.70.0 httptools-0.6.4 humanfriendly-10.0 importlib-resources-6.5.2 kubernetes-33.1.0 mmh3-5.2.0 oauthlib-3.3.1 onnxruntime-1.22.1 opentelemetry-api-1.36.0 opentelemetry-exporter-otlp-proto-common-1.36.0 opentelemetry-exporter-otlp-proto-grpc-1.36.0 opentelemetry-proto-1.36.0 opentelemetry-sdk-1.36.0 opentelemetry-semantic-conventions-0.57b0 posthog-5.4.0 protobuf-6.32.0 pybase64-1.4.2 pypika-0.48.9 pyproject_hooks-1.2.0 pyreadline3-3.5.4 requests-oauthlib-2.0.0 rsa-4.9.1 watchfiles-1.1.0 websockets-15.0.1\n"
     ]
    },
    {
     "name": "stderr",
     "output_type": "stream",
     "text": [
      "ERROR: pip's dependency resolver does not currently take into account all the packages that are installed. This behaviour is the source of the following dependency conflicts.\n",
      "streamlit 1.29.0 requires protobuf<5,>=3.20, but you have protobuf 6.32.0 which is incompatible.\n",
      "tensorflow 2.19.0 requires protobuf!=4.21.0,!=4.21.1,!=4.21.2,!=4.21.3,!=4.21.4,!=4.21.5,<6.0.0dev,>=3.20.3, but you have protobuf 6.32.0 which is incompatible.\n"
     ]
    }
   ],
   "source": [
    "!pip install chromadb"
   ]
  },
  {
   "cell_type": "code",
   "execution_count": 15,
   "id": "352eb0ee",
   "metadata": {},
   "outputs": [
    {
     "name": "stderr",
     "output_type": "stream",
     "text": [
      "C:\\Users\\yuvra\\AppData\\Local\\Temp\\ipykernel_21376\\1230530679.py:4: LangChainDeprecationWarning: The class `OllamaEmbeddings` was deprecated in LangChain 0.3.1 and will be removed in 1.0.0. An updated version of the class exists in the :class:`~langchain-ollama package and should be used instead. To use it run `pip install -U :class:`~langchain-ollama` and import as `from :class:`~langchain_ollama import OllamaEmbeddings``.\n",
      "  db = Chroma.from_documents(documents[:20], OllamaEmbeddings())\n"
     ]
    }
   ],
   "source": [
    "# embedings\n",
    "from langchain_community.embeddings import OllamaEmbeddings\n",
    "from langchain_community.vectorstores import Chroma\n",
    "db = Chroma.from_documents(documents[:20], OllamaEmbeddings())"
   ]
  },
  {
   "cell_type": "code",
   "execution_count": 18,
   "id": "469dee80",
   "metadata": {},
   "outputs": [],
   "source": [
    "# VECTOR DATABSE\n",
    "query = 'skills'\n",
    "result = db.similarity_search(query)"
   ]
  },
  {
   "cell_type": "code",
   "execution_count": 21,
   "id": "db21cffc",
   "metadata": {},
   "outputs": [
    {
     "data": {
      "text/plain": [
       "[Document(metadata={'moddate': '2025-05-23T07:28:32+00:00', 'author': 'Yuvraj Tayal', 'total_pages': 2, 'creator': 'Canva', 'source': './Resume-Yuvraj-Tayal.pdf', 'page': 0, 'title': 'Black and White Simple Infographic Resume', 'producer': 'Canva', 'keywords': 'DAGjwMknZFY,BAFNntE08XA,0', 'creationdate': '2025-05-23T07:28:32+00:00', 'page_label': '1'}, page_content='SUMMARY\\nSelf-taught Full-Stack Web Developer with a strong commitment to developing high-quality, efficient, and\\nuser-centric web applications. Demonstrates the ability to manage end-to-end development processes\\nindependently, with a focus on maintainability, scalability, and performance. Actively engaged in continuous\\nlearning and professional growth, with a disciplined approach to problem-solving and a deep interest in\\nemerging trends and best practices in web development.\\nYUVRAJ TAYAL\\nRishikesh, Uttarakhand | +91 -7451062733 | yuvrajtayal1202@gmail.com | Twitter | Github | LinkedIn \\nFULL-STACK WEB DEVELOPER\\n     TECHNICAL SKILLS\\nLanguages: JavaScript, TypeScript, Mongoose, HTML5, CSS3\\nFrontend: React.js, Next.js, Redux, Tailwind CSS, Bootstrap\\nBackend: Node.js, Express.js, Fastify, REST API, JWT (auth)\\nDatabases: MongoDB, PostgreSQL, Firebase, Sanity\\nDevOps: Vercel, Netlify, Github Actions, Render\\nTools: Git, Postman, VS Code, Figma, Swagger\\nMulti-User Notes App | Link'),\n",
       " Document(metadata={'page': 1, 'author': 'Yuvraj Tayal', 'keywords': 'DAGjwMknZFY,BAFNntE08XA,0', 'moddate': '2025-05-23T07:28:32+00:00', 'title': 'Black and White Simple Infographic Resume', 'producer': 'Canva', 'creator': 'Canva', 'creationdate': '2025-05-23T07:28:32+00:00', 'total_pages': 2, 'page_label': '2', 'source': './Resume-Yuvraj-Tayal.pdf'}, page_content='Education: Currently pursuing high school education.\\nLanguages: Hindi | English\\nHobbies : Gym, Reading\\n     ADDITIONAL INFORMATION\\n     WEB DEV JOURNEY\\nI have recently embarked on my journey to become a full-stack web developer. As a self-taught learner, I am\\ncommitted to mastering both front-end and back-end development through consistent practice and hands-on\\nexploration. I maintain a public GitHub repository where I document my daily progress through logs, code\\nsnippets, and learning milestones. This journey reflects my dedication to continuous growth and my long-\\nterm goal of building real-world, pr oduction-ready applications\\nHere is the Link- Dev-learning-journey\\nInternship — Techno Hacks\\nApril 2025 - May 2025  \\nParticipated in a project-based internship focused on web development, where I designed,\\ndeveloped, and submitted multiple web applications.\\nGained hands-on experience in front-end and back-end development through real-world project\\nimplementation.'),\n",
       " Document(metadata={'page_label': '2', 'keywords': 'DAGjwMknZFY,BAFNntE08XA,0', 'title': 'Black and White Simple Infographic Resume', 'page': 1, 'author': 'Yuvraj Tayal', 'moddate': '2025-05-23T07:28:32+00:00', 'creationdate': '2025-05-23T07:28:32+00:00', 'creator': 'Canva', 'total_pages': 2, 'source': './Resume-Yuvraj-Tayal.pdf', 'producer': 'Canva'}, page_content='developed, and submitted multiple web applications.\\nGained hands-on experience in front-end and back-end development through real-world project\\nimplementation.\\nEnhanced skills in React, Firebase, API integration, and client-side state management by delivering\\nfunctional, user-focused projects.\\nDemonstrated discipline and initiative by consistently meeting project deadlines and applying best\\ncoding practices.\\n      TECHNICAL EXPERIENCE'),\n",
       " Document(metadata={'keywords': 'DAGjwMknZFY,BAFNntE08XA,0', 'title': 'Black and White Simple Infographic Resume', 'author': 'Yuvraj Tayal', 'source': './Resume-Yuvraj-Tayal.pdf', 'moddate': '2025-05-23T07:28:32+00:00', 'page_label': '1', 'total_pages': 2, 'creator': 'Canva', 'producer': 'Canva', 'creationdate': '2025-05-23T07:28:32+00:00', 'page': 0}, page_content='answers from external APIs.\\nCreated a clean and engaging UI with real-time score tracking and user feedback after each\\nquestion.\\nApplied asynchronous data handling and state management to deliver smooth and responsive user\\ninteractions.\\nFocused on modular, reusable components and clean code structure for easy maintenance and\\nscalability.\\nText Utils | Link\\nPersonal Project | April 2025  \\nDeveloped a utility web application to manipulate text with features like case conversion (uppercase,\\nlowercase, sentence case, title case), copy-paste functionality, and text editing.\\nImplemented local storage to save user input persistently across sessions.\\nIntegrated PDF generation for exporting edited text directly from the browser.\\nBuilt with React, focusing on a clean UI and efficient state management for seamless user\\nexperience.')]"
      ]
     },
     "execution_count": 21,
     "metadata": {},
     "output_type": "execute_result"
    }
   ],
   "source": [
    "result"
   ]
  },
  {
   "cell_type": "code",
   "execution_count": null,
   "id": "b18c1661",
   "metadata": {},
   "outputs": [],
   "source": []
  },
  {
   "cell_type": "code",
   "execution_count": null,
   "id": "8a71ce59",
   "metadata": {},
   "outputs": [],
   "source": []
  },
  {
   "cell_type": "code",
   "execution_count": null,
   "id": "60fd7a43",
   "metadata": {},
   "outputs": [],
   "source": []
  },
  {
   "cell_type": "code",
   "execution_count": null,
   "id": "89bc7283",
   "metadata": {},
   "outputs": [],
   "source": []
  },
  {
   "cell_type": "code",
   "execution_count": null,
   "id": "80716dc6",
   "metadata": {},
   "outputs": [],
   "source": []
  },
  {
   "cell_type": "code",
   "execution_count": null,
   "id": "51f91a83",
   "metadata": {},
   "outputs": [],
   "source": []
  },
  {
   "cell_type": "code",
   "execution_count": null,
   "id": "ce6afb06",
   "metadata": {},
   "outputs": [],
   "source": []
  },
  {
   "cell_type": "code",
   "execution_count": null,
   "id": "5a0055d4",
   "metadata": {},
   "outputs": [],
   "source": []
  },
  {
   "cell_type": "code",
   "execution_count": null,
   "id": "8ba68b36",
   "metadata": {},
   "outputs": [],
   "source": []
  },
  {
   "cell_type": "code",
   "execution_count": null,
   "id": "03bdce2a",
   "metadata": {},
   "outputs": [],
   "source": []
  },
  {
   "cell_type": "code",
   "execution_count": null,
   "id": "a3b47940",
   "metadata": {},
   "outputs": [],
   "source": []
  },
  {
   "cell_type": "code",
   "execution_count": null,
   "id": "f3e5dfa8",
   "metadata": {},
   "outputs": [],
   "source": []
  },
  {
   "cell_type": "code",
   "execution_count": null,
   "id": "48009594",
   "metadata": {},
   "outputs": [],
   "source": []
  },
  {
   "cell_type": "code",
   "execution_count": null,
   "id": "58bba036",
   "metadata": {},
   "outputs": [],
   "source": []
  },
  {
   "cell_type": "code",
   "execution_count": null,
   "id": "9ac059ed",
   "metadata": {},
   "outputs": [],
   "source": []
  },
  {
   "cell_type": "code",
   "execution_count": null,
   "id": "27a68954",
   "metadata": {},
   "outputs": [],
   "source": []
  }
 ],
 "metadata": {
  "kernelspec": {
   "display_name": "base",
   "language": "python",
   "name": "python3"
  },
  "language_info": {
   "codemirror_mode": {
    "name": "ipython",
    "version": 3
   },
   "file_extension": ".py",
   "mimetype": "text/x-python",
   "name": "python",
   "nbconvert_exporter": "python",
   "pygments_lexer": "ipython3",
   "version": "3.12.7"
  }
 },
 "nbformat": 4,
 "nbformat_minor": 5
}
