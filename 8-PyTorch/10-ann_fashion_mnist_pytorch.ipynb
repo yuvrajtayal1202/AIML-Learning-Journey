{
  "nbformat": 4,
  "nbformat_minor": 0,
  "metadata": {
    "colab": {
      "provenance": []
    },
    "kernelspec": {
      "name": "python3",
      "display_name": "Python 3"
    },
    "language_info": {
      "name": "python"
    }
  },
  "cells": [
    {
      "cell_type": "code",
      "execution_count": null,
      "metadata": {
        "id": "EhZMtSdM3W4N"
      },
      "outputs": [],
      "source": [
        "import pandas as pd\n",
        "from sklearn.model_selection import train_test_split\n",
        "import torch\n",
        "from torch.utils.data import Dataset, DataLoader\n",
        "import torch.nn as nn\n",
        "import torch.optim as optim\n",
        "import matplotlib.pyplot as plt"
      ]
    },
    {
      "cell_type": "code",
      "source": [
        "# Set random seeds for reproducibility\n",
        "torch.manual_seed(42)"
      ],
      "metadata": {
        "colab": {
          "base_uri": "https://localhost:8080/"
        },
        "id": "NCrakIjRollf",
        "outputId": "0b8db945-4a9a-4234-ab54-e49a03dc4aaf"
      },
      "execution_count": null,
      "outputs": [
        {
          "output_type": "execute_result",
          "data": {
            "text/plain": [
              "<torch._C.Generator at 0x7b6b52c4e690>"
            ]
          },
          "metadata": {},
          "execution_count": 12
        }
      ]
    },
    {
      "cell_type": "code",
      "source": [
        "df = pd.read_csv('fmnist_small.csv')\n",
        "df.head()"
      ],
      "metadata": {
        "colab": {
          "base_uri": "https://localhost:8080/",
          "height": 255
        },
        "id": "7lZjGSXR35Qz",
        "outputId": "1dc582ab-6339-44c5-e5ea-55ddb3884c1f"
      },
      "execution_count": null,
      "outputs": [
        {
          "output_type": "execute_result",
          "data": {
            "text/plain": [
              "   label  pixel1  pixel2  pixel3  pixel4  pixel5  pixel6  pixel7  pixel8  \\\n",
              "0      9       0       0       0       0       0       0       0       0   \n",
              "1      7       0       0       0       0       0       0       0       0   \n",
              "2      0       0       0       0       0       0       1       0       0   \n",
              "3      8       0       0       0       0       0       0       0       0   \n",
              "4      8       0       0       0       0       0       0       0       0   \n",
              "\n",
              "   pixel9  ...  pixel775  pixel776  pixel777  pixel778  pixel779  pixel780  \\\n",
              "0       0  ...         0         7         0        50       205       196   \n",
              "1       0  ...         0         0         0         0         0         0   \n",
              "2       0  ...       142       142       142        21         0         3   \n",
              "3       0  ...         0         0         0         0         0         0   \n",
              "4       0  ...       213       203       174       151       188        10   \n",
              "\n",
              "   pixel781  pixel782  pixel783  pixel784  \n",
              "0       213       165         0         0  \n",
              "1         0         0         0         0  \n",
              "2         0         0         0         0  \n",
              "3         0         0         0         0  \n",
              "4         0         0         0         0  \n",
              "\n",
              "[5 rows x 785 columns]"
            ],
            "text/html": [
              "\n",
              "  <div id=\"df-57326ced-974f-4910-bdd0-2f34e07880f4\" class=\"colab-df-container\">\n",
              "    <div>\n",
              "<style scoped>\n",
              "    .dataframe tbody tr th:only-of-type {\n",
              "        vertical-align: middle;\n",
              "    }\n",
              "\n",
              "    .dataframe tbody tr th {\n",
              "        vertical-align: top;\n",
              "    }\n",
              "\n",
              "    .dataframe thead th {\n",
              "        text-align: right;\n",
              "    }\n",
              "</style>\n",
              "<table border=\"1\" class=\"dataframe\">\n",
              "  <thead>\n",
              "    <tr style=\"text-align: right;\">\n",
              "      <th></th>\n",
              "      <th>label</th>\n",
              "      <th>pixel1</th>\n",
              "      <th>pixel2</th>\n",
              "      <th>pixel3</th>\n",
              "      <th>pixel4</th>\n",
              "      <th>pixel5</th>\n",
              "      <th>pixel6</th>\n",
              "      <th>pixel7</th>\n",
              "      <th>pixel8</th>\n",
              "      <th>pixel9</th>\n",
              "      <th>...</th>\n",
              "      <th>pixel775</th>\n",
              "      <th>pixel776</th>\n",
              "      <th>pixel777</th>\n",
              "      <th>pixel778</th>\n",
              "      <th>pixel779</th>\n",
              "      <th>pixel780</th>\n",
              "      <th>pixel781</th>\n",
              "      <th>pixel782</th>\n",
              "      <th>pixel783</th>\n",
              "      <th>pixel784</th>\n",
              "    </tr>\n",
              "  </thead>\n",
              "  <tbody>\n",
              "    <tr>\n",
              "      <th>0</th>\n",
              "      <td>9</td>\n",
              "      <td>0</td>\n",
              "      <td>0</td>\n",
              "      <td>0</td>\n",
              "      <td>0</td>\n",
              "      <td>0</td>\n",
              "      <td>0</td>\n",
              "      <td>0</td>\n",
              "      <td>0</td>\n",
              "      <td>0</td>\n",
              "      <td>...</td>\n",
              "      <td>0</td>\n",
              "      <td>7</td>\n",
              "      <td>0</td>\n",
              "      <td>50</td>\n",
              "      <td>205</td>\n",
              "      <td>196</td>\n",
              "      <td>213</td>\n",
              "      <td>165</td>\n",
              "      <td>0</td>\n",
              "      <td>0</td>\n",
              "    </tr>\n",
              "    <tr>\n",
              "      <th>1</th>\n",
              "      <td>7</td>\n",
              "      <td>0</td>\n",
              "      <td>0</td>\n",
              "      <td>0</td>\n",
              "      <td>0</td>\n",
              "      <td>0</td>\n",
              "      <td>0</td>\n",
              "      <td>0</td>\n",
              "      <td>0</td>\n",
              "      <td>0</td>\n",
              "      <td>...</td>\n",
              "      <td>0</td>\n",
              "      <td>0</td>\n",
              "      <td>0</td>\n",
              "      <td>0</td>\n",
              "      <td>0</td>\n",
              "      <td>0</td>\n",
              "      <td>0</td>\n",
              "      <td>0</td>\n",
              "      <td>0</td>\n",
              "      <td>0</td>\n",
              "    </tr>\n",
              "    <tr>\n",
              "      <th>2</th>\n",
              "      <td>0</td>\n",
              "      <td>0</td>\n",
              "      <td>0</td>\n",
              "      <td>0</td>\n",
              "      <td>0</td>\n",
              "      <td>0</td>\n",
              "      <td>1</td>\n",
              "      <td>0</td>\n",
              "      <td>0</td>\n",
              "      <td>0</td>\n",
              "      <td>...</td>\n",
              "      <td>142</td>\n",
              "      <td>142</td>\n",
              "      <td>142</td>\n",
              "      <td>21</td>\n",
              "      <td>0</td>\n",
              "      <td>3</td>\n",
              "      <td>0</td>\n",
              "      <td>0</td>\n",
              "      <td>0</td>\n",
              "      <td>0</td>\n",
              "    </tr>\n",
              "    <tr>\n",
              "      <th>3</th>\n",
              "      <td>8</td>\n",
              "      <td>0</td>\n",
              "      <td>0</td>\n",
              "      <td>0</td>\n",
              "      <td>0</td>\n",
              "      <td>0</td>\n",
              "      <td>0</td>\n",
              "      <td>0</td>\n",
              "      <td>0</td>\n",
              "      <td>0</td>\n",
              "      <td>...</td>\n",
              "      <td>0</td>\n",
              "      <td>0</td>\n",
              "      <td>0</td>\n",
              "      <td>0</td>\n",
              "      <td>0</td>\n",
              "      <td>0</td>\n",
              "      <td>0</td>\n",
              "      <td>0</td>\n",
              "      <td>0</td>\n",
              "      <td>0</td>\n",
              "    </tr>\n",
              "    <tr>\n",
              "      <th>4</th>\n",
              "      <td>8</td>\n",
              "      <td>0</td>\n",
              "      <td>0</td>\n",
              "      <td>0</td>\n",
              "      <td>0</td>\n",
              "      <td>0</td>\n",
              "      <td>0</td>\n",
              "      <td>0</td>\n",
              "      <td>0</td>\n",
              "      <td>0</td>\n",
              "      <td>...</td>\n",
              "      <td>213</td>\n",
              "      <td>203</td>\n",
              "      <td>174</td>\n",
              "      <td>151</td>\n",
              "      <td>188</td>\n",
              "      <td>10</td>\n",
              "      <td>0</td>\n",
              "      <td>0</td>\n",
              "      <td>0</td>\n",
              "      <td>0</td>\n",
              "    </tr>\n",
              "  </tbody>\n",
              "</table>\n",
              "<p>5 rows × 785 columns</p>\n",
              "</div>\n",
              "    <div class=\"colab-df-buttons\">\n",
              "\n",
              "  <div class=\"colab-df-container\">\n",
              "    <button class=\"colab-df-convert\" onclick=\"convertToInteractive('df-57326ced-974f-4910-bdd0-2f34e07880f4')\"\n",
              "            title=\"Convert this dataframe to an interactive table.\"\n",
              "            style=\"display:none;\">\n",
              "\n",
              "  <svg xmlns=\"http://www.w3.org/2000/svg\" height=\"24px\" viewBox=\"0 -960 960 960\">\n",
              "    <path d=\"M120-120v-720h720v720H120Zm60-500h600v-160H180v160Zm220 220h160v-160H400v160Zm0 220h160v-160H400v160ZM180-400h160v-160H180v160Zm440 0h160v-160H620v160ZM180-180h160v-160H180v160Zm440 0h160v-160H620v160Z\"/>\n",
              "  </svg>\n",
              "    </button>\n",
              "\n",
              "  <style>\n",
              "    .colab-df-container {\n",
              "      display:flex;\n",
              "      gap: 12px;\n",
              "    }\n",
              "\n",
              "    .colab-df-convert {\n",
              "      background-color: #E8F0FE;\n",
              "      border: none;\n",
              "      border-radius: 50%;\n",
              "      cursor: pointer;\n",
              "      display: none;\n",
              "      fill: #1967D2;\n",
              "      height: 32px;\n",
              "      padding: 0 0 0 0;\n",
              "      width: 32px;\n",
              "    }\n",
              "\n",
              "    .colab-df-convert:hover {\n",
              "      background-color: #E2EBFA;\n",
              "      box-shadow: 0px 1px 2px rgba(60, 64, 67, 0.3), 0px 1px 3px 1px rgba(60, 64, 67, 0.15);\n",
              "      fill: #174EA6;\n",
              "    }\n",
              "\n",
              "    .colab-df-buttons div {\n",
              "      margin-bottom: 4px;\n",
              "    }\n",
              "\n",
              "    [theme=dark] .colab-df-convert {\n",
              "      background-color: #3B4455;\n",
              "      fill: #D2E3FC;\n",
              "    }\n",
              "\n",
              "    [theme=dark] .colab-df-convert:hover {\n",
              "      background-color: #434B5C;\n",
              "      box-shadow: 0px 1px 3px 1px rgba(0, 0, 0, 0.15);\n",
              "      filter: drop-shadow(0px 1px 2px rgba(0, 0, 0, 0.3));\n",
              "      fill: #FFFFFF;\n",
              "    }\n",
              "  </style>\n",
              "\n",
              "    <script>\n",
              "      const buttonEl =\n",
              "        document.querySelector('#df-57326ced-974f-4910-bdd0-2f34e07880f4 button.colab-df-convert');\n",
              "      buttonEl.style.display =\n",
              "        google.colab.kernel.accessAllowed ? 'block' : 'none';\n",
              "\n",
              "      async function convertToInteractive(key) {\n",
              "        const element = document.querySelector('#df-57326ced-974f-4910-bdd0-2f34e07880f4');\n",
              "        const dataTable =\n",
              "          await google.colab.kernel.invokeFunction('convertToInteractive',\n",
              "                                                    [key], {});\n",
              "        if (!dataTable) return;\n",
              "\n",
              "        const docLinkHtml = 'Like what you see? Visit the ' +\n",
              "          '<a target=\"_blank\" href=https://colab.research.google.com/notebooks/data_table.ipynb>data table notebook</a>'\n",
              "          + ' to learn more about interactive tables.';\n",
              "        element.innerHTML = '';\n",
              "        dataTable['output_type'] = 'display_data';\n",
              "        await google.colab.output.renderOutput(dataTable, element);\n",
              "        const docLink = document.createElement('div');\n",
              "        docLink.innerHTML = docLinkHtml;\n",
              "        element.appendChild(docLink);\n",
              "      }\n",
              "    </script>\n",
              "  </div>\n",
              "\n",
              "\n",
              "<div id=\"df-f069dc00-c4b3-4a6a-b25c-9f477bf27eed\">\n",
              "  <button class=\"colab-df-quickchart\" onclick=\"quickchart('df-f069dc00-c4b3-4a6a-b25c-9f477bf27eed')\"\n",
              "            title=\"Suggest charts\"\n",
              "            style=\"display:none;\">\n",
              "\n",
              "<svg xmlns=\"http://www.w3.org/2000/svg\" height=\"24px\"viewBox=\"0 0 24 24\"\n",
              "     width=\"24px\">\n",
              "    <g>\n",
              "        <path d=\"M19 3H5c-1.1 0-2 .9-2 2v14c0 1.1.9 2 2 2h14c1.1 0 2-.9 2-2V5c0-1.1-.9-2-2-2zM9 17H7v-7h2v7zm4 0h-2V7h2v10zm4 0h-2v-4h2v4z\"/>\n",
              "    </g>\n",
              "</svg>\n",
              "  </button>\n",
              "\n",
              "<style>\n",
              "  .colab-df-quickchart {\n",
              "      --bg-color: #E8F0FE;\n",
              "      --fill-color: #1967D2;\n",
              "      --hover-bg-color: #E2EBFA;\n",
              "      --hover-fill-color: #174EA6;\n",
              "      --disabled-fill-color: #AAA;\n",
              "      --disabled-bg-color: #DDD;\n",
              "  }\n",
              "\n",
              "  [theme=dark] .colab-df-quickchart {\n",
              "      --bg-color: #3B4455;\n",
              "      --fill-color: #D2E3FC;\n",
              "      --hover-bg-color: #434B5C;\n",
              "      --hover-fill-color: #FFFFFF;\n",
              "      --disabled-bg-color: #3B4455;\n",
              "      --disabled-fill-color: #666;\n",
              "  }\n",
              "\n",
              "  .colab-df-quickchart {\n",
              "    background-color: var(--bg-color);\n",
              "    border: none;\n",
              "    border-radius: 50%;\n",
              "    cursor: pointer;\n",
              "    display: none;\n",
              "    fill: var(--fill-color);\n",
              "    height: 32px;\n",
              "    padding: 0;\n",
              "    width: 32px;\n",
              "  }\n",
              "\n",
              "  .colab-df-quickchart:hover {\n",
              "    background-color: var(--hover-bg-color);\n",
              "    box-shadow: 0 1px 2px rgba(60, 64, 67, 0.3), 0 1px 3px 1px rgba(60, 64, 67, 0.15);\n",
              "    fill: var(--button-hover-fill-color);\n",
              "  }\n",
              "\n",
              "  .colab-df-quickchart-complete:disabled,\n",
              "  .colab-df-quickchart-complete:disabled:hover {\n",
              "    background-color: var(--disabled-bg-color);\n",
              "    fill: var(--disabled-fill-color);\n",
              "    box-shadow: none;\n",
              "  }\n",
              "\n",
              "  .colab-df-spinner {\n",
              "    border: 2px solid var(--fill-color);\n",
              "    border-color: transparent;\n",
              "    border-bottom-color: var(--fill-color);\n",
              "    animation:\n",
              "      spin 1s steps(1) infinite;\n",
              "  }\n",
              "\n",
              "  @keyframes spin {\n",
              "    0% {\n",
              "      border-color: transparent;\n",
              "      border-bottom-color: var(--fill-color);\n",
              "      border-left-color: var(--fill-color);\n",
              "    }\n",
              "    20% {\n",
              "      border-color: transparent;\n",
              "      border-left-color: var(--fill-color);\n",
              "      border-top-color: var(--fill-color);\n",
              "    }\n",
              "    30% {\n",
              "      border-color: transparent;\n",
              "      border-left-color: var(--fill-color);\n",
              "      border-top-color: var(--fill-color);\n",
              "      border-right-color: var(--fill-color);\n",
              "    }\n",
              "    40% {\n",
              "      border-color: transparent;\n",
              "      border-right-color: var(--fill-color);\n",
              "      border-top-color: var(--fill-color);\n",
              "    }\n",
              "    60% {\n",
              "      border-color: transparent;\n",
              "      border-right-color: var(--fill-color);\n",
              "    }\n",
              "    80% {\n",
              "      border-color: transparent;\n",
              "      border-right-color: var(--fill-color);\n",
              "      border-bottom-color: var(--fill-color);\n",
              "    }\n",
              "    90% {\n",
              "      border-color: transparent;\n",
              "      border-bottom-color: var(--fill-color);\n",
              "    }\n",
              "  }\n",
              "</style>\n",
              "\n",
              "  <script>\n",
              "    async function quickchart(key) {\n",
              "      const quickchartButtonEl =\n",
              "        document.querySelector('#' + key + ' button');\n",
              "      quickchartButtonEl.disabled = true;  // To prevent multiple clicks.\n",
              "      quickchartButtonEl.classList.add('colab-df-spinner');\n",
              "      try {\n",
              "        const charts = await google.colab.kernel.invokeFunction(\n",
              "            'suggestCharts', [key], {});\n",
              "      } catch (error) {\n",
              "        console.error('Error during call to suggestCharts:', error);\n",
              "      }\n",
              "      quickchartButtonEl.classList.remove('colab-df-spinner');\n",
              "      quickchartButtonEl.classList.add('colab-df-quickchart-complete');\n",
              "    }\n",
              "    (() => {\n",
              "      let quickchartButtonEl =\n",
              "        document.querySelector('#df-f069dc00-c4b3-4a6a-b25c-9f477bf27eed button');\n",
              "      quickchartButtonEl.style.display =\n",
              "        google.colab.kernel.accessAllowed ? 'block' : 'none';\n",
              "    })();\n",
              "  </script>\n",
              "</div>\n",
              "\n",
              "    </div>\n",
              "  </div>\n"
            ],
            "application/vnd.google.colaboratory.intrinsic+json": {
              "type": "dataframe",
              "variable_name": "df"
            }
          },
          "metadata": {},
          "execution_count": 13
        }
      ]
    },
    {
      "cell_type": "code",
      "source": [
        "# Create a 4x4 grid of images\n",
        "fig, axes = plt.subplots(4, 4, figsize=(10, 10))\n",
        "fig.suptitle(\"First 16 Images\", fontsize=16)\n",
        "\n",
        "# Plot the first 16 images from the dataset\n",
        "for i, ax in enumerate(axes.flat):\n",
        "    img = df.iloc[i, 1:].values.reshape(28, 28)  # Reshape to 28x28\n",
        "    ax.imshow(img)  # Display in grayscale\n",
        "    ax.axis('off')  # Remove axis for a cleaner look\n",
        "    ax.set_title(f\"Label: {df.iloc[i, 0]}\")  # Show the label\n",
        "\n",
        "plt.tight_layout(rect=[0, 0, 1, 0.96])  # Adjust layout to fit the title\n",
        "plt.show()\n"
      ],
      "metadata": {
        "colab": {
          "base_uri": "https://localhost:8080/",
          "height": 1000
        },
        "id": "jFkhK1dvyzW8",
        "outputId": "f68715b2-91c4-41c7-c935-d8cddaeb50e7"
      },
      "execution_count": null,
      "outputs": [
        {
          "output_type": "display_data",
          "data": {
            "text/plain": [
              "<Figure size 1000x1000 with 16 Axes>"
            ],
            "image/png": "[encoded data removed]"
          },
          "metadata": {}
        }
      ]
    },
    {
      "cell_type": "code",
      "source": [
        "# train test split\n",
        "\n",
        "X = df.iloc[:, 1:].values\n",
        "y = df.iloc[:, 0].values"
      ],
      "metadata": {
        "id": "CPoB2jkn3-8V"
      },
      "execution_count": null,
      "outputs": []
    },
    {
      "cell_type": "code",
      "source": [
        "X_train, X_test, y_train, y_test = train_test_split(X, y, test_size=0.2, random_state=42)"
      ],
      "metadata": {
        "id": "CtmEmavE4K7V"
      },
      "execution_count": null,
      "outputs": []
    },
    {
      "cell_type": "code",
      "source": [
        "# scaling the feautures\n",
        "X_train = X_train/255.0\n",
        "X_test = X_test/255.0"
      ],
      "metadata": {
        "id": "6zRx5nPbkoM-"
      },
      "execution_count": null,
      "outputs": []
    },
    {
      "cell_type": "code",
      "source": [
        "X_train"
      ],
      "metadata": {
        "colab": {
          "base_uri": "https://localhost:8080/"
        },
        "id": "ridzYgSTBBu3",
        "outputId": "8195e1a4-a5c3-49dc-bad7-532e864100e3"
      },
      "execution_count": null,
      "outputs": [
        {
          "output_type": "execute_result",
          "data": {
            "text/plain": [
              "array([[0.       , 0.       , 0.       , ..., 0.       , 0.       ,\n",
              "        0.       ],\n",
              "       [0.       , 0.       , 0.       , ..., 0.       , 0.       ,\n",
              "        0.       ],\n",
              "       [0.       , 0.       , 0.       , ..., 0.       , 0.       ,\n",
              "        0.       ],\n",
              "       ...,\n",
              "       [0.       , 0.       , 0.       , ..., 0.       , 0.       ,\n",
              "        0.       ],\n",
              "       [0.       , 0.       , 0.       , ..., 0.       , 0.       ,\n",
              "        0.       ],\n",
              "       [0.       , 0.       , 0.       , ..., 0.0627451, 0.       ,\n",
              "        0.       ]])"
            ]
          },
          "metadata": {},
          "execution_count": 18
        }
      ]
    },
    {
      "cell_type": "code",
      "source": [
        "# create CustomDataset Class\n",
        "class CustomDataset(Dataset):\n",
        "\n",
        "  def __init__(self, features, labels):\n",
        "\n",
        "    self.features = torch.tensor(features, dtype=torch.float32)\n",
        "    self.labels = torch.tensor(labels, dtype=torch.long)\n",
        "\n",
        "  def __len__(self):\n",
        "\n",
        "    return len(self.features)\n",
        "\n",
        "  def __getitem__(self, index):\n",
        "\n",
        "    return self.features[index], self.labels[index]\n",
        "\n"
      ],
      "metadata": {
        "id": "0oISAHnU5GnT"
      },
      "execution_count": null,
      "outputs": []
    },
    {
      "cell_type": "code",
      "source": [
        "# create train_dataset object\n",
        "train_dataset = CustomDataset(X_train, y_train)"
      ],
      "metadata": {
        "id": "Thpv_XzP5z_b"
      },
      "execution_count": null,
      "outputs": []
    },
    {
      "cell_type": "code",
      "source": [
        "train_dataset[0]"
      ],
      "metadata": {
        "colab": {
          "base_uri": "https://localhost:8080/"
        },
        "id": "GrZZvwYIDW_Q",
        "outputId": "d1ea4b66-af58-4223-a3dc-cc2e3191379f"
      },
      "execution_count": null,
      "outputs": [
        {
          "output_type": "execute_result",
          "data": {
            "text/plain": [
              "(tensor([0.0000, 0.0000, 0.0000, 0.0000, 0.0000, 0.0000, 0.0000, 0.0000, 0.0000,\n",
              "         0.0000, 0.0000, 0.0000, 0.0000, 0.0000, 0.0000, 0.0000, 0.0000, 0.0000,\n",
              "         0.0000, 0.0000, 0.0000, 0.0000, 0.0000, 0.0000, 0.0000, 0.0000, 0.0000,\n",
              "         0.0000, 0.0000, 0.0000, 0.0000, 0.0000, 0.0000, 0.0000, 0.0000, 0.0000,\n",
              "         0.0000, 0.0000, 0.0000, 0.0000, 0.0000, 0.0000, 0.0000, 0.0000, 0.0000,\n",
              "         0.0000, 0.0000, 0.0000, 0.0000, 0.0000, 0.0000, 0.0000, 0.0000, 0.0000,\n",
              "         0.0000, 0.0000, 0.0000, 0.0000, 0.0000, 0.0000, 0.0000, 0.0000, 0.0000,\n",
              "         0.0000, 0.0000, 0.0000, 0.0000, 0.0000, 0.0000, 0.0000, 0.0000, 0.0000,\n",
              "         0.0000, 0.0000, 0.0000, 0.0000, 0.0000, 0.0000, 0.0000, 0.0000, 0.0000,\n",
              "         0.0000, 0.0000, 0.0000, 0.0000, 0.0000, 0.0000, 0.0000, 0.0000, 0.0000,\n",
              "         0.0000, 0.0000, 0.0000, 0.0000, 0.0000, 0.0000, 0.0000, 0.0000, 0.0000,\n",
              "         0.0000, 0.0000, 0.0000, 0.0000, 0.0000, 0.0000, 0.0000, 0.0000, 0.0000,\n",
              "         0.0000, 0.0000, 0.0000, 0.0000, 0.0000, 0.0000, 0.0000, 0.0000, 0.0000,\n",
              "         0.0000, 0.0000, 0.0000, 0.0000, 0.0000, 0.0000, 0.0000, 0.0000, 0.0000,\n",
              "         0.0000, 0.0000, 0.0000, 0.0000, 0.0000, 0.0000, 0.0000, 0.0000, 0.0000,\n",
              "         0.0000, 0.0000, 0.0000, 0.0000, 0.0000, 0.0000, 0.0000, 0.0000, 0.0000,\n",
              "         0.0000, 0.0000, 0.0000, 0.0000, 0.0000, 0.0000, 0.0000, 0.0000, 0.0000,\n",
              "         0.0000, 0.0000, 0.0000, 0.0000, 0.0000, 0.0000, 0.0000, 0.0000, 0.0000,\n",
              "         0.0000, 0.0000, 0.0000, 0.0000, 0.0000, 0.0000, 0.0000, 0.0000, 0.0000,\n",
              "         0.0000, 0.0000, 0.0000, 0.0000, 0.0000, 0.0000, 0.0000, 0.0000, 0.0000,\n",
              "         0.0000, 0.0000, 0.0000, 0.0000, 0.0000, 0.0000, 0.0000, 0.0000, 0.0000,\n",
              "         0.0000, 0.0000, 0.0000, 0.0000, 0.0000, 0.0000, 0.0000, 0.0000, 0.0000,\n",
              "         0.0000, 0.0000, 0.0000, 0.0000, 0.0000, 0.0000, 0.0000, 0.0000, 0.0000,\n",
              "         0.0000, 0.0000, 0.0000, 0.0000, 0.0000, 0.0000, 0.0000, 0.0000, 0.0000,\n",
              "         0.0000, 0.0000, 0.0000, 0.0000, 0.0000, 0.0000, 0.0000, 0.0000, 0.0000,\n",
              "         0.0000, 0.0000, 0.0000, 0.0000, 0.0000, 0.0000, 0.0000, 0.0000, 0.0000,\n",
              "         0.0000, 0.0000, 0.0000, 0.0000, 0.0000, 0.0000, 0.0000, 0.0000, 0.0000,\n",
              "         0.0000, 0.0000, 0.0000, 0.0000, 0.0000, 0.0000, 0.0000, 0.0000, 0.0000,\n",
              "         0.0000, 0.0000, 0.0000, 0.0000, 0.0000, 0.0000, 0.0000, 0.0000, 0.0000,\n",
              "         0.0000, 0.0000, 0.0000, 0.0000, 0.0000, 0.0627, 0.2196, 0.2039, 0.0784,\n",
              "         0.1569, 0.2196, 0.0000, 0.0000, 0.0314, 0.0000, 0.0000, 0.0000, 0.0000,\n",
              "         0.0000, 0.0000, 0.0000, 0.0000, 0.0000, 0.0000, 0.0000, 0.0000, 0.0000,\n",
              "         0.0157, 0.0000, 0.0000, 0.0000, 0.0157, 0.0627, 0.3333, 0.5216, 0.4118,\n",
              "         0.2667, 0.2667, 0.4745, 0.0000, 0.0000, 0.0157, 0.0157, 0.0157, 0.0000,\n",
              "         0.0000, 0.0000, 0.0000, 0.0000, 0.0000, 0.0000, 0.0000, 0.0000, 0.0000,\n",
              "         0.0000, 0.0000, 0.0000, 0.0471, 0.2039, 0.3137, 0.3647, 0.0314, 0.0627,\n",
              "         0.2196, 0.1098, 0.3490, 1.0000, 0.0000, 0.0000, 0.0000, 0.0000, 0.0000,\n",
              "         0.0000, 0.6824, 0.1098, 0.0000, 0.0157, 0.0000, 0.0000, 0.0000, 0.0000,\n",
              "         0.0000, 0.0000, 0.1255, 0.2667, 0.3137, 0.2510, 0.1098, 0.0627, 0.1569,\n",
              "         0.1098, 0.0471, 0.1098, 0.0000, 0.4275, 0.6824, 0.2353, 0.0314, 0.0000,\n",
              "         0.0157, 0.4275, 0.6824, 0.1098, 0.0000, 0.0000, 0.0000, 0.0000, 0.0000,\n",
              "         0.0000, 0.1882, 0.2667, 0.1882, 0.0627, 0.1098, 0.0941, 0.0314, 0.0471,\n",
              "         0.0000, 0.0000, 0.0000, 0.1569, 0.8078, 0.0941, 0.0000, 0.1255, 0.6667,\n",
              "         0.6824, 0.6157, 0.6824, 0.6824, 0.2039, 0.0157, 0.1569, 0.1882, 0.2039,\n",
              "         0.1725, 0.3804, 0.1255, 0.0000, 0.1098, 0.1255, 0.0627, 0.0157, 0.0157,\n",
              "         0.0000, 0.0314, 0.3647, 0.6157, 0.5843, 0.7608, 0.8549, 0.4745, 0.1882,\n",
              "         0.7765, 0.6667, 0.4745, 0.6314, 0.6314, 0.4118, 0.2980, 0.4118, 0.1255,\n",
              "         0.0000, 0.1412, 0.5686, 0.0000, 0.2667, 0.1255, 0.0000, 0.0471, 0.1412,\n",
              "         0.1725, 0.3333, 0.5216, 0.7765, 0.9176, 0.8392, 0.7137, 0.8078, 0.8549,\n",
              "         0.6824, 0.8863, 0.6824, 0.3961, 0.5529, 0.6824, 0.4588, 0.2510, 0.2510,\n",
              "         0.3804, 0.2980, 0.3804, 0.5529, 0.2510, 0.4431, 0.2353, 0.1569, 0.0157,\n",
              "         0.1412, 0.3804, 0.8392, 0.7137, 0.6980, 0.6157, 0.4588, 0.4431, 0.5686,\n",
              "         0.7294, 0.6471, 0.7765, 0.7765, 0.5373, 0.5843, 0.6667, 0.4588, 0.4588,\n",
              "         0.4431, 0.3333, 0.2667, 0.2824, 0.3137, 0.3490, 0.3804, 0.3333, 0.3961,\n",
              "         0.3333, 0.2980, 0.3137, 0.2980, 0.2824, 0.2824, 0.2510, 0.2039, 0.2196,\n",
              "         0.2510, 0.2667, 0.3490, 0.3647, 0.3333, 0.2980, 0.2980, 0.3647, 0.4118,\n",
              "         0.1098, 0.2667, 0.4588, 0.5529, 0.4431, 0.4275, 0.3804, 0.3647, 0.3137,\n",
              "         0.3961, 0.4745, 0.4431, 0.4275, 0.3647, 0.3804, 0.3961, 0.4275, 0.4118,\n",
              "         0.3804, 0.3961, 0.3804, 0.3647, 0.3490, 0.3804, 0.4118, 0.3961, 0.3804,\n",
              "         0.4118, 0.0000, 0.0000, 0.0000, 0.1255, 0.3137, 0.2980, 0.3804, 0.3961,\n",
              "         0.4431, 0.4275, 0.3804, 0.3137, 0.3647, 0.4118, 0.3647, 0.3490, 0.3333,\n",
              "         0.3490, 0.3647, 0.3804, 0.3804, 0.3804, 0.3961, 0.4275, 0.4588, 0.3961,\n",
              "         0.4118, 0.3804, 0.0000, 0.0000, 0.0000, 0.0000, 0.0000, 0.0000, 0.0000,\n",
              "         0.0000, 0.0000, 0.0000, 0.0000, 0.0000, 0.0000, 0.0000, 0.0000, 0.0000,\n",
              "         0.0000, 0.0000, 0.0000, 0.0000, 0.0000, 0.0000, 0.0000, 0.0000, 0.0000,\n",
              "         0.0000, 0.0000, 0.0000, 0.0000, 0.0000, 0.0000, 0.0000, 0.0000, 0.0000,\n",
              "         0.0000, 0.0000, 0.0000, 0.0000, 0.0000, 0.0000, 0.0000, 0.0000, 0.0000,\n",
              "         0.0000, 0.0000, 0.0000, 0.0000, 0.0000, 0.0000, 0.0000, 0.0000, 0.0000,\n",
              "         0.0000, 0.0000, 0.0000, 0.0000, 0.0000, 0.0000, 0.0000, 0.0000, 0.0000,\n",
              "         0.0000, 0.0000, 0.0000, 0.0000, 0.0000, 0.0000, 0.0000, 0.0000, 0.0000,\n",
              "         0.0000, 0.0000, 0.0000, 0.0000, 0.0000, 0.0000, 0.0000, 0.0000, 0.0000,\n",
              "         0.0000, 0.0000, 0.0000, 0.0000, 0.0000, 0.0000, 0.0000, 0.0000, 0.0000,\n",
              "         0.0000, 0.0000, 0.0000, 0.0000, 0.0000, 0.0000, 0.0000, 0.0000, 0.0000,\n",
              "         0.0000, 0.0000, 0.0000, 0.0000, 0.0000, 0.0000, 0.0000, 0.0000, 0.0000,\n",
              "         0.0000, 0.0000, 0.0000, 0.0000, 0.0000, 0.0000, 0.0000, 0.0000, 0.0000,\n",
              "         0.0000, 0.0000, 0.0000, 0.0000, 0.0000, 0.0000, 0.0000, 0.0000, 0.0000,\n",
              "         0.0000, 0.0000, 0.0000, 0.0000, 0.0000, 0.0000, 0.0000, 0.0000, 0.0000,\n",
              "         0.0000, 0.0000, 0.0000, 0.0000, 0.0000, 0.0000, 0.0000, 0.0000, 0.0000,\n",
              "         0.0000, 0.0000, 0.0000, 0.0000, 0.0000, 0.0000, 0.0000, 0.0000, 0.0000,\n",
              "         0.0000, 0.0000, 0.0000, 0.0000, 0.0000, 0.0000, 0.0000, 0.0000, 0.0000,\n",
              "         0.0000, 0.0000, 0.0000, 0.0000, 0.0000, 0.0000, 0.0000, 0.0000, 0.0000,\n",
              "         0.0000, 0.0000, 0.0000, 0.0000, 0.0000, 0.0000, 0.0000, 0.0000, 0.0000,\n",
              "         0.0000, 0.0000, 0.0000, 0.0000, 0.0000, 0.0000, 0.0000, 0.0000, 0.0000,\n",
              "         0.0000, 0.0000, 0.0000, 0.0000, 0.0000, 0.0000, 0.0000, 0.0000, 0.0000,\n",
              "         0.0000, 0.0000, 0.0000, 0.0000, 0.0000, 0.0000, 0.0000, 0.0000, 0.0000,\n",
              "         0.0000, 0.0000, 0.0000, 0.0000, 0.0000, 0.0000, 0.0000, 0.0000, 0.0000,\n",
              "         0.0000, 0.0000, 0.0000, 0.0000, 0.0000, 0.0000, 0.0000, 0.0000, 0.0000,\n",
              "         0.0000]),\n",
              " tensor(7))"
            ]
          },
          "metadata": {},
          "execution_count": 22
        }
      ]
    },
    {
      "cell_type": "code",
      "source": [
        "# create test_dataset object\n",
        "test_dataset = CustomDataset(X_test, y_test)"
      ],
      "metadata": {
        "id": "kqAkmOzV58TD"
      },
      "execution_count": null,
      "outputs": []
    },
    {
      "cell_type": "code",
      "source": [
        "# create train and test loader\n",
        "train_loader = DataLoader(train_dataset, batch_size=32, shuffle=True)\n",
        "test_loader = DataLoader(test_dataset, batch_size=32, shuffle=False)"
      ],
      "metadata": {
        "id": "UW-HhV4x5_PD"
      },
      "execution_count": null,
      "outputs": []
    },
    {
      "cell_type": "code",
      "source": [
        "# define NN class\n",
        "\n",
        "class MyNN(nn.Module):\n",
        "\n",
        "  def __init__(self, num_features):\n",
        "\n",
        "    super().__init__()\n",
        "    self.model = nn.Sequential(\n",
        "        nn.Linear(num_features, 128),\n",
        "        nn.ReLU(),\n",
        "        nn.Linear(128, 64),\n",
        "        nn.ReLU(),\n",
        "        nn.Linear(64, 10)\n",
        "    )\n",
        "\n",
        "  def forward(self, x):\n",
        "\n",
        "    return self.model(x)"
      ],
      "metadata": {
        "id": "Xgn1tw9I6fPT"
      },
      "execution_count": null,
      "outputs": []
    },
    {
      "cell_type": "code",
      "source": [
        "# set learning rate and epochs\n",
        "epochs = 100\n",
        "learning_rate = 0.1"
      ],
      "metadata": {
        "id": "z3LfMWb698O5"
      },
      "execution_count": null,
      "outputs": []
    },
    {
      "cell_type": "code",
      "source": [
        "# instatiate the model\n",
        "model = MyNN(X_train.shape[1])\n",
        "\n",
        "# loss function\n",
        "criterion = nn.CrossEntropyLoss()\n",
        "\n",
        "# optimizer\n",
        "optimizer = optim.SGD(model.parameters(), lr= learning_rate)"
      ],
      "metadata": {
        "id": "JpbU_UCp9N1r"
      },
      "execution_count": null,
      "outputs": []
    },
    {
      "cell_type": "code",
      "source": [
        "len(train_loader)"
      ],
      "metadata": {
        "colab": {
          "base_uri": "https://localhost:8080/"
        },
        "id": "8p8vKKCiLjMM",
        "outputId": "12534f3c-d1a4-4e76-c6c5-fb13ac9c1384"
      },
      "execution_count": null,
      "outputs": [
        {
          "output_type": "execute_result",
          "data": {
            "text/plain": [
              "150"
            ]
          },
          "metadata": {},
          "execution_count": 30
        }
      ]
    },
    {
      "cell_type": "code",
      "source": [
        "# training loop\n",
        "\n",
        "for epoch in range(epochs):\n",
        "\n",
        "  total_epoch_loss = 0\n",
        "\n",
        "  for batch_features, batch_labels in train_loader:\n",
        "\n",
        "    # forward pass\n",
        "    outputs = model(batch_features)\n",
        "\n",
        "    # calculate loss\n",
        "    loss = criterion(outputs, batch_labels)\n",
        "\n",
        "    # back pass\n",
        "    optimizer.zero_grad()\n",
        "    loss.backward()\n",
        "\n",
        "    # update grads\n",
        "    optimizer.step()\n",
        "\n",
        "    total_epoch_loss = total_epoch_loss + loss.item()\n",
        "\n",
        "  avg_loss = total_epoch_loss/len(train_loader)\n",
        "  print(f'Epoch: {epoch + 1} , Loss: {avg_loss}')\n"
      ],
      "metadata": {
        "colab": {
          "base_uri": "https://localhost:8080/"
        },
        "id": "0UpCVk9X-JaI",
        "outputId": "1a855f3d-4e2d-4d68-d267-1f51b3257bdc"
      },
      "execution_count": null,
      "outputs": [
        {
          "output_type": "stream",
          "name": "stdout",
          "text": [
            "Epoch: 1 , Loss: 1.3216368440786999\n",
            "Epoch: 2 , Loss: 0.7793365436792373\n",
            "Epoch: 3 , Loss: 0.6427524652083715\n",
            "Epoch: 4 , Loss: 0.5751657336950302\n",
            "Epoch: 5 , Loss: 0.528180201848348\n",
            "Epoch: 6 , Loss: 0.49528750121593473\n",
            "Epoch: 7 , Loss: 0.4602432996034622\n",
            "Epoch: 8 , Loss: 0.4359459094206492\n",
            "Epoch: 9 , Loss: 0.41829214423894884\n",
            "Epoch: 10 , Loss: 0.3984092291692893\n",
            "Epoch: 11 , Loss: 0.3850264506538709\n",
            "Epoch: 12 , Loss: 0.3722685620188713\n",
            "Epoch: 13 , Loss: 0.3477362078428268\n",
            "Epoch: 14 , Loss: 0.3467242218057315\n",
            "Epoch: 15 , Loss: 0.3138812760512034\n",
            "Epoch: 16 , Loss: 0.3126461291313171\n",
            "Epoch: 17 , Loss: 0.29552092105150224\n",
            "Epoch: 18 , Loss: 0.2857150869568189\n",
            "Epoch: 19 , Loss: 0.27084775785605114\n",
            "Epoch: 20 , Loss: 0.26237100958824155\n",
            "Epoch: 21 , Loss: 0.25756089876095456\n",
            "Epoch: 22 , Loss: 0.24232648963729542\n",
            "Epoch: 23 , Loss: 0.23957946779827277\n",
            "Epoch: 24 , Loss: 0.2261324493587017\n",
            "Epoch: 25 , Loss: 0.2233684351791938\n",
            "Epoch: 26 , Loss: 0.21165308925012746\n",
            "Epoch: 27 , Loss: 0.21910773759086927\n",
            "Epoch: 28 , Loss: 0.21103892110288144\n",
            "Epoch: 29 , Loss: 0.18156708138684433\n",
            "Epoch: 30 , Loss: 0.18886244976272185\n",
            "Epoch: 31 , Loss: 0.19120197057723998\n",
            "Epoch: 32 , Loss: 0.1914620167016983\n",
            "Epoch: 33 , Loss: 0.1758678053940336\n",
            "Epoch: 34 , Loss: 0.17788761181135973\n",
            "Epoch: 35 , Loss: 0.157662669159472\n",
            "Epoch: 36 , Loss: 0.16680870349208513\n",
            "Epoch: 37 , Loss: 0.15528808721651632\n",
            "Epoch: 38 , Loss: 0.14431856885552408\n",
            "Epoch: 39 , Loss: 0.1442228495577971\n",
            "Epoch: 40 , Loss: 0.13288619516184552\n",
            "Epoch: 41 , Loss: 0.135676580692331\n",
            "Epoch: 42 , Loss: 0.14467643752383688\n",
            "Epoch: 43 , Loss: 0.12461728240052859\n",
            "Epoch: 44 , Loss: 0.12559822227805853\n",
            "Epoch: 45 , Loss: 0.10866230014711618\n",
            "Epoch: 46 , Loss: 0.12954869902382293\n",
            "Epoch: 47 , Loss: 0.11017234543959299\n",
            "Epoch: 48 , Loss: 0.11515208431830008\n",
            "Epoch: 49 , Loss: 0.10039059857216974\n",
            "Epoch: 50 , Loss: 0.10084663986538847\n",
            "Epoch: 51 , Loss: 0.08974190000444651\n",
            "Epoch: 52 , Loss: 0.08475546677752087\n",
            "Epoch: 53 , Loss: 0.09427098215247194\n",
            "Epoch: 54 , Loss: 0.09268801522130768\n",
            "Epoch: 55 , Loss: 0.0918927800298358\n",
            "Epoch: 56 , Loss: 0.0889479945662121\n",
            "Epoch: 57 , Loss: 0.07283928324778875\n",
            "Epoch: 58 , Loss: 0.08935849150953193\n",
            "Epoch: 59 , Loss: 0.07462442129229506\n",
            "Epoch: 60 , Loss: 0.0789726735604927\n",
            "Epoch: 61 , Loss: 0.08824706799350679\n",
            "Epoch: 62 , Loss: 0.06006458135942618\n",
            "Epoch: 63 , Loss: 0.08791264206171036\n",
            "Epoch: 64 , Loss: 0.22559133859351277\n",
            "Epoch: 65 , Loss: 0.09637079646190007\n",
            "Epoch: 66 , Loss: 0.11621116815755765\n",
            "Epoch: 67 , Loss: 0.07865453423000872\n",
            "Epoch: 68 , Loss: 0.06934662629850209\n",
            "Epoch: 69 , Loss: 0.07031679789690921\n",
            "Epoch: 70 , Loss: 0.05125938480564703\n",
            "Epoch: 71 , Loss: 0.05311573015681158\n",
            "Epoch: 72 , Loss: 0.04880531335094323\n",
            "Epoch: 73 , Loss: 0.04703562020789832\n",
            "Epoch: 74 , Loss: 0.040777511660320065\n",
            "Epoch: 75 , Loss: 0.04819046132111301\n",
            "Epoch: 76 , Loss: 0.03072676162390659\n",
            "Epoch: 77 , Loss: 0.032312645499284066\n",
            "Epoch: 78 , Loss: 0.03567005050523828\n",
            "Epoch: 79 , Loss: 0.029893570366936427\n",
            "Epoch: 80 , Loss: 0.023853825814827968\n",
            "Epoch: 81 , Loss: 0.048085718614359695\n",
            "Epoch: 82 , Loss: 0.033158210010733456\n",
            "Epoch: 83 , Loss: 0.03151849518840512\n",
            "Epoch: 84 , Loss: 0.022204163090015452\n",
            "Epoch: 85 , Loss: 0.07666023984357405\n",
            "Epoch: 86 , Loss: 0.06685945079972347\n",
            "Epoch: 87 , Loss: 0.018734083388311167\n",
            "Epoch: 88 , Loss: 0.017389200692608332\n",
            "Epoch: 89 , Loss: 0.021070881032307323\n",
            "Epoch: 90 , Loss: 0.06782017603516578\n",
            "Epoch: 91 , Loss: 0.03387275122338906\n",
            "Epoch: 92 , Loss: 0.030707686008730282\n",
            "Epoch: 93 , Loss: 0.013259945363582422\n",
            "Epoch: 94 , Loss: 0.04547278591625703\n",
            "Epoch: 95 , Loss: 0.020045689839559296\n",
            "Epoch: 96 , Loss: 0.021593706752949703\n",
            "Epoch: 97 , Loss: 0.012292747854177529\n",
            "Epoch: 98 , Loss: 0.00892297200523899\n",
            "Epoch: 99 , Loss: 0.009056749793817289\n",
            "Epoch: 100 , Loss: 0.008310633393703028\n"
          ]
        }
      ]
    },
    {
      "cell_type": "code",
      "source": [
        "# set model to eval mode\n",
        "model.eval()"
      ],
      "metadata": {
        "colab": {
          "base_uri": "https://localhost:8080/"
        },
        "id": "CA6B2YPYAOtu",
        "outputId": "18487209-cb33-42ad-9935-d4f94cbde168"
      },
      "execution_count": null,
      "outputs": [
        {
          "output_type": "execute_result",
          "data": {
            "text/plain": [
              "MyNN(\n",
              "  (model): Sequential(\n",
              "    (0): Linear(in_features=784, out_features=128, bias=True)\n",
              "    (1): ReLU()\n",
              "    (2): Linear(in_features=128, out_features=64, bias=True)\n",
              "    (3): ReLU()\n",
              "    (4): Linear(in_features=64, out_features=10, bias=True)\n",
              "  )\n",
              ")"
            ]
          },
          "metadata": {},
          "execution_count": 36
        }
      ]
    },
    {
      "cell_type": "code",
      "source": [
        "# evaluation code\n",
        "total = 0\n",
        "correct = 0\n",
        "\n",
        "with torch.no_grad():\n",
        "\n",
        "  for batch_features, batch_labels in test_loader:\n",
        "\n",
        "    outputs = model(batch_features)\n",
        "\n",
        "    _, predicted = torch.max(outputs, 1)\n",
        "\n",
        "    total = total + batch_labels.shape[0]\n",
        "\n",
        "    correct = correct + (predicted == batch_labels).sum().item()\n",
        "\n",
        "print(correct/total)\n"
      ],
      "metadata": {
        "id": "Xwirkg4PPNhB",
        "colab": {
          "base_uri": "https://localhost:8080/"
        },
        "outputId": "bf1109a9-9f5d-4be9-9d2b-3e86697bc39d"
      },
      "execution_count": null,
      "outputs": [
        {
          "output_type": "stream",
          "name": "stdout",
          "text": [
            "0.8325\n"
          ]
        }
      ]
    },
    {
      "cell_type": "code",
      "source": [
        "len(test_loader)"
      ],
      "metadata": {
        "colab": {
          "base_uri": "https://localhost:8080/"
        },
        "id": "_WFEfo5-Qrcs",
        "outputId": "a5e0d2d2-7acf-4c5b-def3-690472464093"
      },
      "execution_count": null,
      "outputs": [
        {
          "output_type": "execute_result",
          "data": {
            "text/plain": [
              "38"
            ]
          },
          "metadata": {},
          "execution_count": 37
        }
      ]
    },
    {
      "cell_type": "code",
      "source": [],
      "metadata": {
        "id": "xY0d4xWok40k"
      },
      "execution_count": null,
      "outputs": []
    }
  ]
}