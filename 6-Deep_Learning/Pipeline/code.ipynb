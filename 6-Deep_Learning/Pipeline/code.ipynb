{
 "cells": [
  {
   "cell_type": "code",
   "execution_count": 183,
   "id": "88db016f",
   "metadata": {},
   "outputs": [],
   "source": [
    "import tensorflow as tf"
   ]
  },
  {
   "cell_type": "code",
   "execution_count": 184,
   "metadata": {},
   "outputs": [],
   "source": [
    "daily_sales_numbers = [21, 22, -108, 31, -2, 32, 654]"
   ]
  },
  {
   "cell_type": "code",
   "execution_count": 185,
   "id": "b205411b",
   "metadata": {},
   "outputs": [],
   "source": [
    "tf_dataset = tf.data.Dataset.from_tensor_slices(daily_sales_numbers)"
   ]
  },
  {
   "cell_type": "code",
   "execution_count": 186,
   "metadata": {},
   "outputs": [
    {
     "data": {
      "text/plain": [
       "<_TensorSliceDataset element_spec=TensorSpec(shape=(), dtype=tf.int32, name=None)>"
      ]
     },
     "execution_count": 186,
     "metadata": {},
     "output_type": "execute_result"
    }
   ],
   "source": [
    "tf_dataset"
   ]
  },
  {
   "cell_type": "code",
   "execution_count": 187,
   "id": "ea5769b2",
   "metadata": {},
   "outputs": [
    {
     "name": "stdout",
     "output_type": "stream",
     "text": [
      "21\n",
      "22\n",
      "-108\n",
      "31\n",
      "-2\n",
      "32\n",
      "654\n"
     ]
    }
   ],
   "source": [
    "for sales in tf_dataset:\n",
    "    print(sales.numpy())"
   ]
  },
  {
   "cell_type": "code",
   "execution_count": 188,
   "id": "6643b659",
   "metadata": {},
   "outputs": [
    {
     "name": "stdout",
     "output_type": "stream",
     "text": [
      "21\n",
      "22\n",
      "-108\n"
     ]
    }
   ],
   "source": [
    "for sales in tf_dataset.take(3):\n",
    "    print(sales.numpy())"
   ]
  },
  {
   "cell_type": "code",
   "execution_count": 189,
   "id": "72b6d760",
   "metadata": {},
   "outputs": [
    {
     "name": "stdout",
     "output_type": "stream",
     "text": [
      "21\n",
      "22\n",
      "31\n"
     ]
    }
   ],
   "source": [
    "tf_dataset = tf_dataset.filter(lambda x:x>0)\n",
    "for sales in tf_dataset.take(3):\n",
    "    print(sales.numpy())"
   ]
  },
  {
   "cell_type": "code",
   "execution_count": 190,
   "id": "5fdadc59",
   "metadata": {},
   "outputs": [
    {
     "name": "stdout",
     "output_type": "stream",
     "text": [
      "1827\n",
      "1914\n",
      "2697\n"
     ]
    }
   ],
   "source": [
    "tf_dataset = tf_dataset.map(lambda x: x*87)\n",
    "for sales in tf_dataset.take(3):\n",
    "    print(sales.numpy())"
   ]
  },
  {
   "cell_type": "code",
   "execution_count": 191,
   "metadata": {},
   "outputs": [
    {
     "name": "stdout",
     "output_type": "stream",
     "text": [
      "1914\n",
      "1827\n",
      "56898\n",
      "2697\n",
      "2784\n"
     ]
    }
   ],
   "source": [
    "tf_dataset = tf_dataset.shuffle(3)\n",
    "for sales in tf_dataset:\n",
    "    print(sales.numpy())"
   ]
  },
  {
   "cell_type": "code",
   "execution_count": 192,
   "metadata": {},
   "outputs": [
    {
     "name": "stdout",
     "output_type": "stream",
     "text": [
      "[ 1914  1827  2697 56898]\n"
     ]
    },
    {
     "name": "stdout",
     "output_type": "stream",
     "text": [
      "[2784]\n"
     ]
    }
   ],
   "source": [
    "for sales_batch in tf_dataset.batch(4):\n",
    "    print(sales_batch.numpy())"
   ]
  },
  {
   "cell_type": "code",
   "execution_count": 193,
   "id": "a1d2d09f",
   "metadata": {},
   "outputs": [],
   "source": [
    "# all in one single line"
   ]
  },
  {
   "cell_type": "code",
   "execution_count": 194,
   "metadata": {},
   "outputs": [
    {
     "name": "stdout",
     "output_type": "stream",
     "text": [
      "1827\n",
      "2697\n",
      "2784\n",
      "1914\n",
      "56898\n"
     ]
    }
   ],
   "source": [
    "tf_dataset2 = tf.data.Dataset.from_tensor_slices(daily_sales_numbers).filter(lambda x:x>0).map(lambda x: x*87).shuffle(2).batch(2)\n",
    "\n",
    "\n",
    "for sales in tf_dataset:\n",
    "    print(sales.numpy())"
   ]
  },
  {
   "cell_type": "code",
   "execution_count": 195,
   "id": "afb39810",
   "metadata": {},
   "outputs": [
    {
     "name": "stdout",
     "output_type": "stream",
     "text": [
      "b'images\\\\cat\\\\41QZSg8drOL.jpg'\n",
      "b'images\\\\cat\\\\81v+HhDz51L.jpg'\n",
      "b'images\\\\cat\\\\cat-1045782_640.jpg'\n",
      "b'images\\\\cat\\\\cat-pet-animal-domestic-104827.jpeg_cs=srgb&dl=pexels-pixabay-104827.jpg'\n",
      "b'images\\\\cat\\\\cat6-1744094950340-e44df3c1-dcf7-4164-8199-1182c8d838df-900x506.png'\n"
     ]
    }
   ],
   "source": [
    "image_ds = tf.data.Dataset.list_files('images/*/*', shuffle=False)\n",
    "\n",
    "for file in image_ds.take(5):\n",
    "    print(file.numpy())"
   ]
  },
  {
   "cell_type": "code",
   "execution_count": 196,
   "id": "eebe86f2",
   "metadata": {},
   "outputs": [
    {
     "name": "stdout",
     "output_type": "stream",
     "text": [
      "b'images\\\\cat\\\\io_ZGkgPmYBG95Xk-RBBd3W_v1_.png'\n",
      "b'images\\\\cat\\\\pexels-photo-669015.jpeg_cs=srgb&dl=pexels-septimiu-lupea-208604-669015.jpg'\n",
      "b'images\\\\dog\\\\download (8).jpeg'\n",
      "b'images\\\\cat\\\\cat-1045782_640.jpg'\n",
      "b'images\\\\dog\\\\download.jpeg'\n"
     ]
    }
   ],
   "source": [
    "image_ds = image_ds.shuffle(200)\n",
    "\n",
    "for file in image_ds.take(5):\n",
    "    print(file.numpy())"
   ]
  },
  {
   "cell_type": "code",
   "execution_count": 197,
   "metadata": {},
   "outputs": [],
   "source": [
    "class_names = ['cat',  'dog']"
   ]
  },
  {
   "cell_type": "code",
   "execution_count": 198,
   "metadata": {},
   "outputs": [],
   "source": [
    "image_count = len(image_ds)"
   ]
  },
  {
   "cell_type": "code",
   "execution_count": 199,
   "metadata": {},
   "outputs": [
    {
     "data": {
      "text/plain": [
       "21"
      ]
     },
     "execution_count": 199,
     "metadata": {},
     "output_type": "execute_result"
    }
   ],
   "source": [
    "image_count"
   ]
  },
  {
   "cell_type": "code",
   "execution_count": 200,
   "id": "03e7ead3",
   "metadata": {},
   "outputs": [],
   "source": [
    "train_size = int(image_count* 0.8)\n",
    "\n",
    "train_ds = image_ds.take(train_size)\n",
    "test_ds = image_ds.skip(train_size)"
   ]
  },
  {
   "cell_type": "code",
   "execution_count": 201,
   "id": "6a3433d8",
   "metadata": {},
   "outputs": [],
   "source": [
    "def get_label(file_path):\n",
    "   import os\n",
    "   return tf.strings.split(file_path, os.path.sep)[-2]"
   ]
  },
  {
   "cell_type": "code",
   "execution_count": 205,
   "id": "aede6516",
   "metadata": {},
   "outputs": [],
   "source": [
    "def process_image(file_path):\n",
    "    label = get_label(file_path)\n",
    "    img = tf.io.read_file(file_path)\n",
    "    # Use decode_jpeg instead of decode_image to get shape information\n",
    "    img = tf.image.decode_jpeg(img, channels=3)  # Explicitly use JPEG decoder\n",
    "    img = tf.image.resize(img, [128, 128])\n",
    "    return img, label"
   ]
  },
  {
   "cell_type": "code",
   "execution_count": 206,
   "id": "426f982f",
   "metadata": {},
   "outputs": [],
   "source": [
    "# for t, c in train_ds.take(4):\n",
    "#     print(t.numpy())"
   ]
  },
  {
   "cell_type": "code",
   "execution_count": 207,
   "metadata": {},
   "outputs": [
    {
     "name": "stdout",
     "output_type": "stream",
     "text": [
      "tf.Tensor(b'dog', shape=(), dtype=string)\n",
      "tf.Tensor(\n",
      "[[[54.445312  62.445312  13.4453125]\n",
      "  [56.86592   64.86592   13.865921 ]\n",
      "  [60.14453   69.14453   14.091461 ]\n",
      "  ...\n",
      "  [43.        32.        12.       ]\n",
      "  [43.        32.        12.       ]\n",
      "  [43.06813   33.18141   12.810318 ]]\n",
      "\n",
      " [[52.527344  60.527344  10.425781 ]\n",
      "  [55.671875  63.671875  12.671875 ]\n",
      "  [60.14453   69.14453   13.855469 ]\n",
      "  ...\n",
      "  [44.101562  33.101562  12.       ]\n",
      "  [44.101562  33.101562  12.       ]\n",
      "  [44.268265  34.381546  12.90889  ]]\n",
      "\n",
      " [[48.875     56.875      5.875    ]\n",
      "  [53.75148   62.56546    9.9375   ]\n",
      "  [59.359238  68.49191   11.234238 ]\n",
      "  ...\n",
      "  [46.835938  35.835938  13.8359375]\n",
      "  [46.835938  35.835938  13.8359375]\n",
      "  [46.495285  36.608566  14.237473 ]]\n",
      "\n",
      " ...\n",
      "\n",
      " [[68.723465  83.723465  16.887527 ]\n",
      "  [68.826645  83.826645  16.990707 ]\n",
      "  [68.929825  83.929825  17.093887 ]\n",
      "  ...\n",
      "  [77.08203   91.16406   28.917969 ]\n",
      "  [77.08203   91.08203   29.18602  ]\n",
      "  [77.82422   90.3094    29.77182  ]]\n",
      "\n",
      " [[64.28125   79.28125   14.28125  ]\n",
      "  [65.98828   80.98828   15.988281 ]\n",
      "  [68.079605  83.079605  18.079605 ]\n",
      "  ...\n",
      "  [78.44922   93.44922   28.449219 ]\n",
      "  [78.44922   92.44922   30.449219 ]\n",
      "  [78.858     91.00253   31.820312 ]]\n",
      "\n",
      " [[60.179688  75.17969   10.1796875]\n",
      "  [63.161423  78.16142   13.161423 ]\n",
      "  [67.30159   82.30159   17.30159  ]\n",
      "  ...\n",
      "  [79.        94.        29.       ]\n",
      "  [79.        93.        31.       ]\n",
      "  [78.69704   90.84157   32.06813  ]]], shape=(128, 128, 3), dtype=float32)\n",
      "tf.Tensor(b'dog', shape=(), dtype=string)\n",
      "tf.Tensor(\n",
      "[[[255. 255. 255.]\n",
      "  [255. 255. 255.]\n",
      "  [255. 255. 255.]\n",
      "  ...\n",
      "  [255. 255. 255.]\n",
      "  [255. 255. 255.]\n",
      "  [255. 255. 255.]]\n",
      "\n",
      " [[255. 255. 255.]\n",
      "  [255. 255. 255.]\n",
      "  [255. 255. 255.]\n",
      "  ...\n",
      "  [255. 255. 255.]\n",
      "  [255. 255. 255.]\n",
      "  [255. 255. 255.]]\n",
      "\n",
      " [[255. 255. 255.]\n",
      "  [255. 255. 255.]\n",
      "  [255. 255. 255.]\n",
      "  ...\n",
      "  [255. 255. 255.]\n",
      "  [255. 255. 255.]\n",
      "  [255. 255. 255.]]\n",
      "\n",
      " ...\n",
      "\n",
      " [[255. 255. 255.]\n",
      "  [255. 255. 255.]\n",
      "  [255. 255. 255.]\n",
      "  ...\n",
      "  [255. 255. 255.]\n",
      "  [255. 255. 255.]\n",
      "  [255. 255. 255.]]\n",
      "\n",
      " [[255. 255. 255.]\n",
      "  [255. 255. 255.]\n",
      "  [255. 255. 255.]\n",
      "  ...\n",
      "  [255. 255. 255.]\n",
      "  [255. 255. 255.]\n",
      "  [255. 255. 255.]]\n",
      "\n",
      " [[255. 255. 255.]\n",
      "  [255. 255. 255.]\n",
      "  [255. 255. 255.]\n",
      "  ...\n",
      "  [255. 255. 255.]\n",
      "  [255. 255. 255.]\n",
      "  [255. 255. 255.]]], shape=(128, 128, 3), dtype=float32)\n",
      "tf.Tensor(b'cat', shape=(), dtype=string)\n",
      "tf.Tensor(\n",
      "[[[137.04297   97.04297   62.04297 ]\n",
      "  [140.12964  100.12964   65.12964 ]\n",
      "  [139.        95.        60.      ]\n",
      "  ...\n",
      "  [ 43.246094  24.246094   9.246094]\n",
      "  [ 62.257812  41.        24.128906]\n",
      "  [ 82.24744   57.247437  27.204468]]\n",
      "\n",
      " [[134.93018   96.84424   60.887207]\n",
      "  [138.34448   98.34448   63.344482]\n",
      "  [139.8789    94.87891   61.878906]\n",
      "  ...\n",
      "  [ 46.584106  27.584106  10.584106]\n",
      "  [ 64.05859   43.058594  22.058594]\n",
      "  [ 87.91028   61.953247  34.82434 ]]\n",
      "\n",
      " [[132.54578   92.54578   57.545776]\n",
      "  [131.13037   91.13037   56.13037 ]\n",
      "  [136.88281   93.88281   59.882812]\n",
      "  ...\n",
      "  [ 54.376587  35.376587  18.376587]\n",
      "  [ 57.760498  35.760498  14.760498]\n",
      "  [ 85.80078   60.80078   29.800781]]\n",
      "\n",
      " ...\n",
      "\n",
      " [[212.84375  157.99329  100.54468 ]\n",
      "  [214.84375  160.73499   91.06128 ]\n",
      "  [211.50623  158.50623   78.506226]\n",
      "  ...\n",
      "  [126.21484   76.21484   17.214844]\n",
      "  [121.84375   72.84375   16.84375 ]\n",
      "  [124.60828   80.60828   19.522339]]\n",
      "\n",
      " [[201.80847  152.80847   75.80847 ]\n",
      "  [196.02307  147.02307   70.02307 ]\n",
      "  [190.3822   144.3822    59.382202]\n",
      "  ...\n",
      "  [116.02612   66.02612    5.026123]\n",
      "  [120.15735   70.15735   19.157349]\n",
      "  [128.63281   83.67578   24.589844]]\n",
      "\n",
      " [[194.04932  146.04932   62.049316]\n",
      "  [186.87512  138.87512   64.93762 ]\n",
      "  [185.54126  138.54126   60.54126 ]\n",
      "  ...\n",
      "  [115.875     64.875      7.9375  ]\n",
      "  [115.55078   65.55078   12.550781]\n",
      "  [124.04944   79.09241   14.092407]]], shape=(128, 128, 3), dtype=float32)\n"
     ]
    }
   ],
   "source": [
    "train_ds = train_ds.map(process_image)\n",
    "for img, label in train_ds.take(3):\n",
    "    print(label)\n",
    "    print(img)"
   ]
  },
  {
   "cell_type": "code",
   "execution_count": 208,
   "id": "caf9f968",
   "metadata": {},
   "outputs": [],
   "source": [
    "def scale(image, label):\n",
    "    return image/255, label"
   ]
  },
  {
   "cell_type": "code",
   "execution_count": 209,
   "metadata": {},
   "outputs": [
    {
     "name": "stdout",
     "output_type": "stream",
     "text": [
      "[0.07462087 0.10991498 0.00403263]\n",
      "b'dog'\n",
      "[0.847886   0.8282782  0.84396446]\n",
      "b'dog'\n",
      "[0.6195281  0.56462616 0.46266538]\n",
      "b'cat'\n",
      "[0.7294118  0.75686276 0.7882353 ]\n",
      "b'dog'\n",
      "[0.21351103 0.24488358 0.05272672]\n",
      "b'dog'\n"
     ]
    }
   ],
   "source": [
    "train_ds = train_ds.map(scale)\n",
    "for image, label in train_ds.take(5):\n",
    "    print(image.numpy()[0][0])\n",
    "    print(label.numpy())"
   ]
  },
  {
   "cell_type": "code",
   "execution_count": null,
   "id": "2d8341e1",
   "metadata": {},
   "outputs": [],
   "source": []
  }
 ],
 "metadata": {
  "kernelspec": {
   "display_name": "tf-working",
   "language": "python",
   "name": "python3"
  },
  "language_info": {
   "codemirror_mode": {
    "name": "ipython",
    "version": 3
   },
   "file_extension": ".py",
   "mimetype": "text/x-python",
   "name": "python",
   "nbconvert_exporter": "python",
   "pygments_lexer": "ipython3",
   "version": "3.9.23"
  }
 },
 "nbformat": 4,
 "nbformat_minor": 5
}
