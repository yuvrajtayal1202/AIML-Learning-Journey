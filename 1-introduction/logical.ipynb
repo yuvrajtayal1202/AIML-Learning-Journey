{
 "cells": [
  {
   "cell_type": "code",
   "execution_count": null,
   "id": "9a2f7c16",
   "metadata": {},
   "outputs": [],
   "source": [
    "print(1+1)"
   ]
  }
 ],
 "metadata": {
  "kernelspec": {
   "display_name": "Python 3",
   "language": "python",
   "name": "python3"
  },
  "language_info": {
   "name": "python",
   "version": "3.10.16"
  }
 },
 "nbformat": 4,
 "nbformat_minor": 5
}
