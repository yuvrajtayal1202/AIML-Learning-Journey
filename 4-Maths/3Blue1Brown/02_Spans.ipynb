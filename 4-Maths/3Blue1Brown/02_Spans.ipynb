{
 "cells": [
  {
   "cell_type": "markdown",
   "id": "1f844d12",
   "metadata": {},
   "source": [
    "What are basis vectors?\n",
    "\n",
    "\"They are rules that define how we move in space. The standard basis [1,0] and [0,1] mean 'right' and 'up'.\"\n",
    "\n",
    "What is a linear combination?\n",
    "\n",
    "\"Scaling and adding vectors. Example: 3*i_hat + 2*j_hat means 'go 3 steps right, 2 steps up'.\"\n",
    "\n",
    "What is the span?\n",
    "\n",
    "\"All points I can reach with linear combinations. If the basis vectors are linearly independent, they span the entire space.\"\n",
    "\n",
    "Why can the same point have different coordinates?\n",
    "\n",
    "\"Because coordinates depend on the rules (basis). Changing the basis changes the numbers, but not the actual point.\""
   ]
  },
  {
   "cell_type": "code",
   "execution_count": 18,
   "id": "05666a1e",
   "metadata": {},
   "outputs": [],
   "source": [
    "import numpy as np\n",
    "import matplotlib.pyplot as plt"
   ]
  },
  {
   "cell_type": "code",
   "execution_count": 19,
   "id": "a07578ee",
   "metadata": {},
   "outputs": [],
   "source": [
    "i_hat = np.array([1, 0])\n",
    "j_hat = np.array([0, 1])"
   ]
  },
  {
   "cell_type": "code",
   "execution_count": 20,
   "id": "8e4cc513",
   "metadata": {},
   "outputs": [],
   "source": [
    "# Linear Combination\n",
    "v1 = 3 * i_hat + 2 * j_hat"
   ]
  },
  {
   "cell_type": "code",
   "execution_count": 21,
   "metadata": {},
   "outputs": [
    {
     "data": {
      "text/plain": [
       "array([3, 2])"
      ]
     },
     "execution_count": 21,
     "metadata": {},
     "output_type": "execute_result"
    }
   ],
   "source": [
    "v1"
   ]
  },
  {
   "cell_type": "code",
   "execution_count": 22,
   "metadata": {},
   "outputs": [
    {
     "data": {
      "image/png": "[encoded data removed]",
      "text/plain": [
       "<Figure size 640x480 with 1 Axes>"
      ]
     },
     "metadata": {},
     "output_type": "display_data"
    }
   ],
   "source": [
    "plt.quiver(0,0, v1[0], v1[1], angles='xy', scale_units='xy', scale=1, color='b')\n",
    "plt.xlim(-1,5)\n",
    "plt.ylim(-1,5)\n",
    "plt.grid()"
   ]
  },
  {
   "cell_type": "code",
   "execution_count": 23,
   "metadata": {},
   "outputs": [],
   "source": [
    "new_i = np.array([1, 2])\n",
    "new_j = np.array([3, 4])"
   ]
  },
  {
   "cell_type": "code",
   "execution_count": 25,
   "id": "bc3df8d3",
   "metadata": {},
   "outputs": [],
   "source": [
    "A = np.array([[1,3], [2,4]])\n",
    "r = np.array([3, 2])\n",
    "a,b = np.linalg.solve(A, r)"
   ]
  },
  {
   "cell_type": "code",
   "execution_count": 27,
   "id": "34360d2e",
   "metadata": {},
   "outputs": [],
   "source": [
    "v2 = a * new_i + b * new_j"
   ]
  },
  {
   "cell_type": "code",
   "execution_count": 28,
   "metadata": {},
   "outputs": [
    {
     "data": {
      "text/plain": [
       "array([3., 2.])"
      ]
     },
     "execution_count": 28,
     "metadata": {},
     "output_type": "execute_result"
    }
   ],
   "source": [
    "v2"
   ]
  },
  {
   "cell_type": "code",
   "execution_count": null,
   "metadata": {},
   "outputs": [],
   "source": [
    "# span is a collection of all possible linear combinations of a set of vectors"
   ]
  },
  {
   "cell_type": "code",
   "execution_count": null,
   "id": "e0446fb4",
   "metadata": {},
   "outputs": [],
   "source": [
    "# again\n",
    "new_i = np.array([5,3])\n",
    "new_j = np.array([4,6])\n",
    "\n",
    "A = np.array([[5,4], [3,6]])\n",
    "r = np.array([3, 2])\n",
    "\n",
    "a,b = np.linalg.solve(A, r)\n",
    "   "
   ]
  },
  {
   "cell_type": "code",
   "execution_count": 31,
   "metadata": {},
   "outputs": [],
   "source": [
    "new_v = a * new_i + b * new_j"
   ]
  },
  {
   "cell_type": "code",
   "execution_count": 32,
   "metadata": {},
   "outputs": [
    {
     "data": {
      "text/plain": [
       "array([3., 2.])"
      ]
     },
     "execution_count": 32,
     "metadata": {},
     "output_type": "execute_result"
    }
   ],
   "source": [
    "new_v"
   ]
  },
  {
   "cell_type": "code",
   "execution_count": 33,
   "id": "fd5eb61e",
   "metadata": {},
   "outputs": [],
   "source": [
    "# this is workfull in the time of neural networks,"
   ]
  },
  {
   "cell_type": "code",
   "execution_count": null,
   "metadata": {},
   "outputs": [],
   "source": [
    "# transforming the wieghts and biases it come workful there"
   ]
  },
  {
   "cell_type": "code",
   "execution_count": null,
   "id": "aac1ecc1",
   "metadata": {},
   "outputs": [],
   "source": []
  },
  {
   "cell_type": "code",
   "execution_count": null,
   "metadata": {},
   "outputs": [],
   "source": []
  },
  {
   "cell_type": "code",
   "execution_count": null,
   "id": "5f4d3937",
   "metadata": {},
   "outputs": [],
   "source": []
  },
  {
   "cell_type": "code",
   "execution_count": null,
   "metadata": {},
   "outputs": [],
   "source": []
  },
  {
   "cell_type": "code",
   "execution_count": null,
   "id": "ac16fb67",
   "metadata": {},
   "outputs": [],
   "source": []
  },
  {
   "cell_type": "code",
   "execution_count": null,
   "metadata": {},
   "outputs": [],
   "source": []
  },
  {
   "cell_type": "code",
   "execution_count": null,
   "metadata": {},
   "outputs": [],
   "source": []
  },
  {
   "cell_type": "code",
   "execution_count": null,
   "metadata": {},
   "outputs": [],
   "source": []
  },
  {
   "cell_type": "code",
   "execution_count": null,
   "id": "398a17d6",
   "metadata": {},
   "outputs": [],
   "source": []
  },
  {
   "cell_type": "code",
   "execution_count": null,
   "metadata": {},
   "outputs": [],
   "source": []
  },
  {
   "cell_type": "code",
   "execution_count": null,
   "metadata": {},
   "outputs": [],
   "source": []
  },
  {
   "cell_type": "code",
   "execution_count": null,
   "metadata": {},
   "outputs": [],
   "source": []
  },
  {
   "cell_type": "code",
   "execution_count": null,
   "id": "32a5847b",
   "metadata": {},
   "outputs": [],
   "source": []
  },
  {
   "cell_type": "code",
   "execution_count": null,
   "metadata": {},
   "outputs": [],
   "source": []
  },
  {
   "cell_type": "code",
   "execution_count": null,
   "metadata": {},
   "outputs": [],
   "source": []
  },
  {
   "cell_type": "code",
   "execution_count": null,
   "metadata": {},
   "outputs": [],
   "source": []
  },
  {
   "cell_type": "code",
   "execution_count": null,
   "metadata": {},
   "outputs": [],
   "source": []
  },
  {
   "cell_type": "code",
   "execution_count": null,
   "metadata": {},
   "outputs": [],
   "source": []
  },
  {
   "cell_type": "code",
   "execution_count": null,
   "id": "2b36c03a",
   "metadata": {},
   "outputs": [],
   "source": []
  },
  {
   "cell_type": "code",
   "execution_count": null,
   "metadata": {},
   "outputs": [],
   "source": []
  },
  {
   "cell_type": "code",
   "execution_count": null,
   "id": "90172ad8",
   "metadata": {},
   "outputs": [],
   "source": []
  },
  {
   "cell_type": "code",
   "execution_count": null,
   "id": "e3113246",
   "metadata": {},
   "outputs": [],
   "source": []
  },
  {
   "cell_type": "code",
   "execution_count": null,
   "id": "9e3ad2d3",
   "metadata": {},
   "outputs": [],
   "source": []
  }
 ],
 "metadata": {
  "kernelspec": {
   "display_name": "base",
   "language": "python",
   "name": "python3"
  },
  "language_info": {
   "codemirror_mode": {
    "name": "ipython",
    "version": 3
   },
   "file_extension": ".py",
   "mimetype": "text/x-python",
   "name": "python",
   "nbconvert_exporter": "python",
   "pygments_lexer": "ipython3",
   "version": "3.12.7"
  }
 },
 "nbformat": 4,
 "nbformat_minor": 5
}
